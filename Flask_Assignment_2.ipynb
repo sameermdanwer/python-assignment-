{
  "nbformat": 4,
  "nbformat_minor": 0,
  "metadata": {
    "colab": {
      "provenance": [],
      "authorship_tag": "ABX9TyMhFPqFvNlKAr8ZI0oSESiX",
      "include_colab_link": true
    },
    "kernelspec": {
      "name": "python3",
      "display_name": "Python 3"
    },
    "language_info": {
      "name": "python"
    }
  },
  "cells": [
    {
      "cell_type": "markdown",
      "metadata": {
        "id": "view-in-github",
        "colab_type": "text"
      },
      "source": [
        "<a href=\"https://colab.research.google.com/github/sameermdanwer/python-assignment-/blob/main/Flask_Assignment_2.ipynb\" target=\"_parent\"><img src=\"https://colab.research.google.com/assets/colab-badge.svg\" alt=\"Open In Colab\"/></a>"
      ]
    },
    {
      "cell_type": "markdown",
      "source": [
        "# Q1. Explain GET and POST methods.\n",
        "\n",
        "GET and POST are two of the most commonly used HTTP methods for sending and receiving data between a client (usually a web browser) and a server.\n",
        "\n",
        "# GET Method\n",
        "* Purpose: The GET method is used to request data from a specified resource. It is primarily used for retrieving information.\n",
        "* Data Transmission: Data is sent in the URL as query parameters. For example: GET /search?query=example.\n",
        "* Visibility: The data sent in the URL is visible and can be bookmarked or shared easily. This makes it less secure for sensitive data.\n",
        "* Caching: Responses to GET requests can be cached by browsers and intermediate caches, improving efficiency for repeated requests.\n",
        "* Idempotency: GET requests are idempotent, meaning that making the same request multiple times will have the same effect as making it once (i.e., it does not change the server state).\n",
        "* Use Cases: Ideal for fetching data, such as retrieving a web page, image, or search results.\n",
        "# POST Method\n",
        "* Purpose: The POST method is used to send data to the server, often resulting in a change in the server state or the creation of a new resource.\n",
        "* Data Transmission: Data is sent in the request body, making it less visible compared to GET. This allows for larger amounts of data to be sent.\n",
        "* Visibility: Data is not visible in the URL, providing a bit more security than GET for sensitive information (though it is not encrypted by default).\n",
        "* Caching: POST requests are not typically cached by browsers, as they can change the server's state.\n",
        "* Idempotency: POST requests are not idempotent; sending the same request multiple times can have different effects (e.g., submitting a form multiple times might create multiple entries).\n",
        "* Use Cases: Suitable for submitting forms, uploading files, or sending data that results in a change on the server."
      ],
      "metadata": {
        "id": "0srnmFZ9hnqW"
      }
    },
    {
      "cell_type": "markdown",
      "source": [
        "# Q2. Why is request used in Flask\n",
        "\n",
        "In Flask, the request object is a fundamental part of handling incoming HTTP requests. It provides various functionalities that help manage data sent from clients (like web browsers) to the server. Here are some key reasons why the request object is used in Flask:"
      ],
      "metadata": {
        "id": "xrsfEmEKimJC"
      }
    },
    {
      "cell_type": "code",
      "source": [
        "from flask import Flask, request\n",
        "\n",
        "app = Flask(__name__)\n",
        "\n",
        "@app.route('/submit', methods=['POST'])\n",
        "def submit():\n",
        "    # Accessing form data\n",
        "    name = request.form['name']\n",
        "\n",
        "    # Accessing query parameters\n",
        "    age = request.args.get('age')\n",
        "\n",
        "    # Accessing JSON data\n",
        "    json_data = request.json\n",
        "\n",
        "    return f\"Received name: {name}, age: {age}, and JSON: {json_data}\"\n",
        "\n",
        "if __name__ == '__main__':\n",
        "    app.run()"
      ],
      "metadata": {
        "id": "oypNy0ipjKCK"
      },
      "execution_count": null,
      "outputs": []
    },
    {
      "cell_type": "markdown",
      "source": [
        "# Q3. Why is redirect() used in Flask?\n",
        "\n",
        "In Flask, the redirect() function is used to send a client (usually a web browser) to a different URL. It is often employed in web applications to guide users to a different page or resource after a particular action has been completed, such as submitting a form or logging in. Here are the key reasons why redirect() is used in Flask:\n",
        "\n",
        "1. Changing the URL\n",
        "redirect() changes the URL in the browser's address bar. This can be useful for guiding users to a new location after they have performed an action, making the application more user-friendly.\n",
        "2. Handling Form Submissions\n",
        "After processing a form submission, using redirect() can help avoid duplicate submissions if the user refreshes the page. This follows the Post/Redirect/Get (PRG) pattern, which is a common web development practice to improve user experience and prevent issues related to repeated form submissions.\n",
        "3. Navigation Control\n",
        "redirect() allows developers to control the navigation flow of the application. For example, you might want to redirect users to a login page if they are not authenticated or to a success page after a successful operation.\n",
        "4. Dynamic Redirection\n",
        "You can dynamically generate the URL to which you want to redirect, allowing for flexible routing based on application logic. For instance, you might redirect users based on their role or the outcome of a specific operation.\n",
        "5. HTTP Status Codes\n",
        "The redirect() function automatically returns a response with a status code (usually 302) indicating a temporary redirect. You can also specify other status codes if necessary, such as 301 for a permanent redirect."
      ],
      "metadata": {
        "id": "3z6V8mkxjLJ1"
      }
    },
    {
      "cell_type": "markdown",
      "source": [
        "# Q4. What are templates in Flask? Why is the render_template() function used?\n",
        "\n",
        "In Flask, templates are files that define the structure and layout of web pages. They allow developers to separate the presentation layer of an application from its business logic, making it easier to manage and maintain the application. Templates are typically written in HTML and can include placeholders and control structures for dynamic content generation.\n",
        "\n",
        "# Why Use render_template()\n",
        "The render_template() function in Flask is used to render a specified template and return the generated HTML to the client. Here are the main reasons for using render_template():\n",
        "\n",
        "1. Loading Templates: render_template() loads the specified template file from the application's templates directory.\n",
        "\n",
        "2. Passing Data to Templates: This function allows developers to pass data from the server-side Python code to the template. You can provide variables that the template can use to render dynamic content.\n",
        "\n",
        "3. HTML Generation: It processes the template file and generates the final HTML output, which is then sent as a response to the client's browser.\n",
        "\n",
        "4. Template Inheritance: It works seamlessly with template inheritance, allowing child templates to extend and customize base templates easily."
      ],
      "metadata": {
        "id": "th3cnAaMjbWV"
      }
    },
    {
      "cell_type": "markdown",
      "source": [
        "# Q5. Create a simple API. Use Postman to test it. Attach the screenshot of the output in the Jupyter Notebook."
      ],
      "metadata": {
        "id": "j4gyt1plkATP"
      }
    },
    {
      "cell_type": "code",
      "source": [
        "pip install Flask"
      ],
      "metadata": {
        "id": "qSlWCcqikZD7"
      },
      "execution_count": null,
      "outputs": []
    },
    {
      "cell_type": "code",
      "source": [
        "from flask import Flask, jsonify, request\n",
        "\n",
        "app = Flask(__name__)\n",
        "\n",
        "# Sample data\n",
        "users = [\n",
        "    {'id': 1, 'name': 'Alice'},\n",
        "    {'id': 2, 'name': 'Bob'},\n",
        "    {'id': 3, 'name': 'Charlie'}\n",
        "]\n",
        "\n",
        "@app.route('/users', methods=['GET'])\n",
        "def get_users():\n",
        "    return jsonify(users)\n",
        "\n",
        "@app.route('/users/<int:user_id>', methods=['GET'])\n",
        "def get_user(user_id):\n",
        "    user = next((user for user in users if user['id'] == user_id), None)\n",
        "    if user is not None:\n",
        "        return jsonify(user)\n",
        "    else:\n",
        "        return jsonify({'error': 'User not found'}), 404\n",
        "\n",
        "@app.route('/users', methods=['POST'])\n",
        "def create_user():\n",
        "    new_user = request.json\n",
        "    new_user['id'] = len(users) + 1\n",
        "    users.append(new_user)\n",
        "    return jsonify(new_user), 201\n",
        "\n",
        "if __name__ == '__main__':\n",
        "    app.run(debug=True)"
      ],
      "metadata": {
        "id": "R_rnHkbvkaG2"
      },
      "execution_count": null,
      "outputs": []
    },
    {
      "cell_type": "code",
      "source": [
        "python app.py"
      ],
      "metadata": {
        "id": "4H7Cx6Ijkjcd"
      },
      "execution_count": null,
      "outputs": []
    },
    {
      "cell_type": "code",
      "source": [
        "{\n",
        "    \"name\": \"David\"\n",
        "}"
      ],
      "metadata": {
        "id": "Y0iJCH8wktGc"
      },
      "execution_count": null,
      "outputs": []
    },
    {
      "cell_type": "markdown",
      "source": [
        "# Step 4: Take Screenshots of Postman Outputs\n",
        "Once you have tested the API endpoints in Postman, take screenshots of the outputs for each request."
      ],
      "metadata": {
        "id": "SEV_dhn_kz3P"
      }
    },
    {
      "cell_type": "code",
      "source": [
        "# Simple Flask API Testing\n",
        "\n",
        "## API Endpoints\n",
        "\n",
        "1. **GET /users**\n",
        "   - Response: List of users.\n",
        "   ![GET /users](path_to_your_screenshot_1.png)\n",
        "\n",
        "2. **GET /users/<id>**\n",
        "   - Response: User details for the given ID.\n",
        "   ![GET /users/1](path_to_your_screenshot_2.png)\n",
        "\n",
        "3. **POST /users**\n",
        "   - Request Body:\n",
        "   ```json\n",
        "   {\n",
        "       \"name\": \"David\"\n",
        "   }"
      ],
      "metadata": {
        "id": "sSkrxvu-k31l"
      },
      "execution_count": null,
      "outputs": []
    },
    {
      "cell_type": "markdown",
      "source": [
        "# Step 5: Attach the Screenshot"
      ],
      "metadata": {
        "id": "9hqPZGgYk_ly"
      }
    },
    {
      "cell_type": "code",
      "source": [
        "Make sure to replace `path_to_your_screenshot_1.png`, `path_to_your_screenshot_2.png`, and `path_to_your_screenshot_3.png` with the actual file paths of your screenshots.\n",
        "\n",
        "### Conclusion\n",
        "\n",
        "By following these steps, you should be able to create a simple Flask API, test it using Postman, and include the results in a Jupyter Notebook. If you have any questions or need further assistance, feel free to ask!"
      ],
      "metadata": {
        "id": "lbgrSWO9lARN"
      },
      "execution_count": null,
      "outputs": []
    },
    {
      "cell_type": "markdown",
      "source": [],
      "metadata": {
        "id": "OPanV745lLPl"
      }
    }
  ]
}