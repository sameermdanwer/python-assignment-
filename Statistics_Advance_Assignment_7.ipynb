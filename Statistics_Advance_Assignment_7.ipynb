{
  "nbformat": 4,
  "nbformat_minor": 0,
  "metadata": {
    "colab": {
      "provenance": [],
      "authorship_tag": "ABX9TyP+CDDYZT6ohtAlfvgq7WX7",
      "include_colab_link": true
    },
    "kernelspec": {
      "name": "python3",
      "display_name": "Python 3"
    },
    "language_info": {
      "name": "python"
    }
  },
  "cells": [
    {
      "cell_type": "markdown",
      "metadata": {
        "id": "view-in-github",
        "colab_type": "text"
      },
      "source": [
        "<a href=\"https://colab.research.google.com/github/sameermdanwer/python-assignment-/blob/main/Statistics_Advance_Assignment_7.ipynb\" target=\"_parent\"><img src=\"https://colab.research.google.com/assets/colab-badge.svg\" alt=\"Open In Colab\"/></a>"
      ]
    },
    {
      "cell_type": "markdown",
      "source": [
        "# Q1. Write a Python function that takes in two arrays of data and calculates the F-value for a variance ratio\n",
        "test. The function should return the F-value and the corresponding p-value for the test.\n",
        "\n",
        "To calculate the F-value for a variance ratio test (also known as an F-test), you can use the formula:\n",
        "\n",
        "[\n",
        "F = \\frac{s_1^2}{s_2^2}\n",
        "]\n",
        "\n",
        "Where:\n",
        "\n",
        "(s_1^2) is the sample variance of the first group.\n",
        "(s_2^2) is the sample variance of the second group.\n",
        "The p-value can be computed using the scipy.stats.f module, which is part of the SciPy library in Python.\n"
      ],
      "metadata": {
        "id": "WN1BmwvmwTnJ"
      }
    },
    {
      "cell_type": "code",
      "source": [
        "import numpy as np\n",
        "from scipy.stats import f\n",
        "\n",
        "def f_variance_test(data1, data2):\n",
        "    # Calculate sample variances\n",
        "    var1 = np.var(data1, ddof=1)  # Sample variance for dataset 1\n",
        "    var2 = np.var(data2, ddof=1)  # Sample variance for dataset 2\n",
        "\n",
        "    # Calculate the F-value\n",
        "    F_value = var1 / var2\n",
        "\n",
        "    # Get the sample sizes\n",
        "    n1 = len(data1)  # Sample size for dataset 1\n",
        "    n2 = len(data2)  # Sample size for dataset 2\n",
        "\n",
        "    # Degrees of freedom\n",
        "    df1 = n1 - 1\n",
        "    df2 = n2 - 1\n",
        "\n",
        "    # Calculate the p-value\n",
        "    p_value = 1 - f.cdf(F_value, df1, df2)  # Right-tailed test\n",
        "\n",
        "    return F_value, p_value\n",
        "\n",
        "# Example usage:\n",
        "data1 = [5, 6, 7, 8, 9]\n",
        "data2 = [2, 3, 4, 5, 6]\n",
        "F_value, p_value = f_variance_test(data1, data2)\n",
        "print(\"F-value:\", F_value)\n",
        "print(\"p-value:\", p_value)"
      ],
      "metadata": {
        "colab": {
          "base_uri": "https://localhost:8080/"
        },
        "id": "AyCb-b21wwvt",
        "outputId": "ecdfdad8-7fdc-4ecc-b96e-1d38abafc104"
      },
      "execution_count": 2,
      "outputs": [
        {
          "output_type": "stream",
          "name": "stdout",
          "text": [
            "F-value: 1.0\n",
            "p-value: 0.5\n"
          ]
        }
      ]
    },
    {
      "cell_type": "markdown",
      "source": [
        "# Q2. Given a significance level of 0.05 and the degrees of freedom for the numerator and denominator of an\n",
        "F-distribution, write a Python function that returns the critical F-value for a two-tailed test.\n",
        "\n",
        "To calculate the critical F-value for a two-tailed test at a given significance level, you can use the ppf (percent point function) method from the scipy.stats.f module. However, since the F-distribution is inherently one-tailed, we need to adjust for two-tailed tests by considering both tails of the distribution.\n",
        "\n",
        "In a two-tailed test, you need to divide the significance level by 2, and the critical F-value will be found for this adjusted alpha level.\n",
        "\n",
        "Here's how to create the Python function:"
      ],
      "metadata": {
        "id": "MQf_XKv5w_nk"
      }
    },
    {
      "cell_type": "code",
      "source": [
        "from scipy.stats import f\n",
        "\n",
        "def critical_f_value(alpha, df1, df2):\n",
        "    \"\"\"\n",
        "    Calculate the critical F-value for a two-tailed test.\n",
        "\n",
        "    Parameters:\n",
        "    alpha: float\n",
        "        The significance level for the test (e.g., 0.05).\n",
        "    df1: int\n",
        "        Degrees of freedom for the numerator.\n",
        "    df2: int\n",
        "        Degrees of freedom for the denominator.\n",
        "\n",
        "    Returns:\n",
        "    critical_value: float\n",
        "        The critical F-value for the two-tailed test.\n",
        "    \"\"\"\n",
        "    # Adjust alpha for two-tailed test\n",
        "    alpha_two_tailed = alpha / 2\n",
        "\n",
        "    # Calculate the critical F-value\n",
        "    critical_value = f.ppf(1 - alpha_two_tailed, df1, df2)\n",
        "\n",
        "    return critical_value\n",
        "\n",
        "# Example usage:\n",
        "alpha = 0.05\n",
        "df1 = 5  # Degrees of freedom for the numerator\n",
        "df2 = 10  # Degrees of freedom for the denominator\n",
        "critical_value = critical_f_value(alpha, df1, df2)\n",
        "print(\"Critical F-value for two-tailed test:\", critical_value)"
      ],
      "metadata": {
        "colab": {
          "base_uri": "https://localhost:8080/"
        },
        "id": "Cdu42rsFxNR_",
        "outputId": "3307dea0-b43b-4ffc-b8ea-fc5a02fd2045"
      },
      "execution_count": 3,
      "outputs": [
        {
          "output_type": "stream",
          "name": "stdout",
          "text": [
            "Critical F-value for two-tailed test: 4.236085668188633\n"
          ]
        }
      ]
    },
    {
      "cell_type": "markdown",
      "source": [
        "# Q3. Write a Python program that generates random samples from two normal distributions with known\n",
        "\n",
        "variances and uses an F-test to determine if the variances are equal. The program should output the F-\n",
        "value, degrees of freedom, and p-value for the test.\n",
        "\n",
        "To implement a Python program that generates random samples from two normal distributions with known variances and performs an F-test to determine if the variances are equal, we'll follow these steps:\n",
        "\n",
        "Generate two random samples from normal distributions using NumPy.\n",
        "Calculate the sample variances.\n",
        "Use the F-test to calculate the F-value, degrees of freedom, and p-value.\n",
        "Output the results.\n"
      ],
      "metadata": {
        "id": "wFeY5yxlxPHh"
      }
    },
    {
      "cell_type": "code",
      "source": [
        "import numpy as np\n",
        "from scipy import stats\n",
        "\n",
        "def generate_samples(mu1, sigma1, n1, mu2, sigma2, n2):\n",
        "    \"\"\"\n",
        "    Generate random samples from two normal distributions.\n",
        "\n",
        "    Parameters:\n",
        "    mu1: mean of the first distribution\n",
        "    sigma1: standard deviation of the first distribution\n",
        "    n1: sample size of the first distribution\n",
        "    mu2: mean of the second distribution\n",
        "    sigma2: standard deviation of the second distribution\n",
        "    n2: sample size of the second distribution\n",
        "\n",
        "    Returns:\n",
        "    Sampled data from both distributions.\n",
        "    \"\"\"\n",
        "    sample1 = np.random.normal(mu1, sigma1, n1)\n",
        "    sample2 = np.random.normal(mu2, sigma2, n2)\n",
        "    return sample1, sample2\n",
        "\n",
        "def f_variance_test(data1, data2):\n",
        "    \"\"\"\n",
        "    Perform F-test for equality of variances.\n",
        "\n",
        "    Parameters:\n",
        "    data1 : array-like\n",
        "        First sample of data\n",
        "    data2 : array-like\n",
        "        Second sample of data\n",
        "\n",
        "    Returns:\n",
        "    F-value, degrees of freedom, p-value.\n",
        "    \"\"\"\n",
        "    var1 = np.var(data1, ddof=1)\n",
        "    var2 = np.var(data2, ddof=1)\n",
        "    F_value = var1 / var2\n",
        "\n",
        "    n1 = len(data1)\n",
        "    n2 = len(data2)\n",
        "    df1 = n1 - 1\n",
        "    df2 = n2 - 1\n",
        "\n",
        "    p_value = 1 - stats.f.cdf(F_value, df1, df2)\n",
        "\n",
        "    return F_value, df1, df2, p_value\n",
        "\n",
        "# Main program\n",
        "def main():\n",
        "    # Parameters for the two normal distributions\n",
        "    mu1, sigma1, n1 = 0, 1, 30  # Mean, standard deviation, sample size for first distribution\n",
        "    mu2, sigma2, n2 = 0, 1.5, 30  # Mean, standard deviation, sample size for second distribution\n",
        "\n",
        "    # Generate random samples\n",
        "    sample1, sample2 = generate_samples(mu1, sigma1, n1, mu2, sigma2, n2)\n",
        "\n",
        "    # Perform F-test\n",
        "    F_value, df1, df2, p_value = f_variance_test(sample1, sample2)\n",
        "\n",
        "    # Output results\n",
        "    print(f\"Sample 1 Variance: {np.var(sample1, ddof=1):.4f}\")\n",
        "    print(f\"Sample 2 Variance: {np.var(sample2, ddof=1):.4f}\")\n",
        "    print(f\"F-value: {F_value:.4f}\")\n",
        "    print(f\"Degrees of Freedom for Sample 1: {df1}\")\n",
        "    print(f\"Degrees of Freedom for Sample 2: {df2}\")\n",
        "    print(f\"P-value: {p_value:.4f}\")\n",
        "\n",
        "if __name__ == \"__main__\":\n",
        "    main()"
      ],
      "metadata": {
        "colab": {
          "base_uri": "https://localhost:8080/"
        },
        "id": "jIAjZ_WWxeIB",
        "outputId": "31461830-875b-4a75-a92c-e095205a9fc7"
      },
      "execution_count": 4,
      "outputs": [
        {
          "output_type": "stream",
          "name": "stdout",
          "text": [
            "Sample 1 Variance: 1.0372\n",
            "Sample 2 Variance: 1.9941\n",
            "F-value: 0.5202\n",
            "Degrees of Freedom for Sample 1: 29\n",
            "Degrees of Freedom for Sample 2: 29\n",
            "P-value: 0.9582\n"
          ]
        }
      ]
    },
    {
      "cell_type": "markdown",
      "source": [
        "# Q4.The variances of two populations are known to be 10 and 15. A sample of 12 observations is taken from\n",
        "each population. Conduct an F-test at the 5% significance level to determine if the variances are\n",
        "significantly different.\n",
        "\n",
        "To conduct an F-test to determine if the variances of two populations are significantly different, given that the variances of the populations (\\sigma_1^2) and (\\sigma_2^2) are known, we can follow these steps:\n",
        "\n",
        "1. State the null and alternative hypotheses:\n",
        "\n",
        "* Null Hypothesis (H_0): The variances are equal, i.e., ( \\sigma_1^2 = \\sigma_2^2 ).\n",
        "* Alternative Hypothesis (H_a): The variances are not equal, i.e., ( \\sigma_1^2 \\neq \\sigma_2^2 ).\n",
        "2. Calculate the F-statistic:\n",
        "The F-statistic is calculated as:\n",
        "[\n",
        "F = \\frac{s_1^2}{s_2^2}\n",
        "]\n",
        "where (s_1^2) is the variance of the first sample and (s_2^2) is the variance of the second sample.\n",
        "\n",
        "3. Degrees of freedom:\n",
        "\n",
        "* Degrees of freedom for the first sample: ( df_1 = n_1 - 1 = 12 - 1 = 11 )\n",
        "* Degrees of freedom for the second sample: ( df_2 = n_2 - 1 = 12 - 1 = 11 )\n",
        "4. Determine the critical value:\n",
        "For a two-tailed test at the 5% significance level, we need to find the critical F-values using an F-distribution table or a statistical library.\n",
        "\n",
        "5. Calculate the p-value.\n",
        "\n",
        "6. Make a decision: If the calculated F-statistic falls outside the critical values or if the p-value is less than the significance level, we reject the null hypothesis"
      ],
      "metadata": {
        "id": "KsgrrC-8xmxz"
      }
    },
    {
      "cell_type": "code",
      "source": [
        "from scipy import stats\n",
        "\n",
        "# Given data\n",
        "var1 = 10  # Variance of population 1\n",
        "var2 = 15  # Variance of population 2\n",
        "n1 = 12    # Sample size for population 1\n",
        "n2 = 12    # Sample size for population 2\n",
        "alpha = 0.05  # Significance level\n",
        "\n",
        "# Calculate the F-statistic\n",
        "F_value = var1 / var2\n",
        "\n",
        "# Degrees of freedom\n",
        "df1 = n1 - 1\n",
        "df2 = n2 - 1\n",
        "\n",
        "# Critical F-value for two-tailed test\n",
        "F_critical_low = stats.f.ppf(alpha / 2, df1, df2)  # Lower critical value\n",
        "F_critical_high = stats.f.ppf(1 - alpha / 2, df1, df2)  # Upper critical value\n",
        "\n",
        "# p-value\n",
        "p_value = (1 - stats.f.cdf(F_value, df1, df2)) * 2  # Two-tailed\n",
        "\n",
        "# Output results\n",
        "print(f\"F-value: {F_value:.4f}\")\n",
        "print(f\"Degrees of Freedom: df1 = {df1}, df2 = {df2}\")\n",
        "print(f\"Critical F-values: Low = {F_critical_low:.4f}, High = {F_critical_high:.4f}\")\n",
        "print(f\"P-value: {p_value:.4f}\")\n",
        "\n",
        "# Decision\n",
        "if F_value < F_critical_low or F_value > F_critical_high:\n",
        "    print(\"Reject the null hypothesis: The variances are significantly different.\")\n",
        "else:\n",
        "    print(\"Fail to reject the null hypothesis: The variances are not significantly different.\")"
      ],
      "metadata": {
        "colab": {
          "base_uri": "https://localhost:8080/"
        },
        "id": "gYuHPHIjyLUv",
        "outputId": "81159b2a-91c5-470b-ca73-731411015395"
      },
      "execution_count": 5,
      "outputs": [
        {
          "output_type": "stream",
          "name": "stdout",
          "text": [
            "F-value: 0.6667\n",
            "Degrees of Freedom: df1 = 11, df2 = 11\n",
            "Critical F-values: Low = 0.2879, High = 3.4737\n",
            "P-value: 1.4876\n",
            "Fail to reject the null hypothesis: The variances are not significantly different.\n"
          ]
        }
      ]
    },
    {
      "cell_type": "markdown",
      "source": [
        "# Q5. A manufacturer claims that the variance of the diameter of a certain product is 0.005. A sample of 25\n",
        "products is taken, and the sample variance is found to be 0.006. Conduct an F-test at the 1% significance\n",
        "level to determine if the claim is justified.\n",
        "\n",
        "To conduct an F-test for the manufacturer’s claim regarding the variance of the product's diameter, we will perform the following steps:\n",
        "\n",
        "1. State the null and alternative hypotheses:\n",
        "\n",
        "* Null hypothesis ( H_0 ): The variance of the product diameter is equal to the claimed variance, i.e., ( \\sigma^2 = 0.005 ).\n",
        "* Alternative hypothesis ( H_a ): The variance of the product diameter is not equal to the claimed variance, i.e., ( \\sigma^2 \\neq 0.005 ).\n",
        "2. Given information:\n",
        "\n",
        "* Claimed variance ( \\sigma_0^2 = 0.005 )\n",
        "* Sample variance ( s^2 = 0.006 )\n",
        "* Sample size ( n = 25 )\n",
        "3. Calculate the F-statistic:\n",
        "The F-statistic is calculated as:\n",
        "[\n",
        "F = \\frac{s^2}{\\sigma_0^2}\n",
        "]\n",
        "\n",
        "4. Degrees of freedom:\n",
        "\n",
        "The degrees of freedom is calculated as ( df = n - 1 = 25 - 1 = 24 ).\n",
        "5. Determine the critical F-value:\n",
        "For a two-tailed test at the 1% significance level, we need to find the critical F-values using the degrees of freedom and the significance level.\n",
        "\n",
        "6. Calculate the p-value.\n",
        "\n",
        "7. Make a decision: If the calculated F-statistic falls outside the critical values or if the p-value is less than the significance level, we reject the null hypothesis.\n"
      ],
      "metadata": {
        "id": "R5YuGSjEyRSU"
      }
    },
    {
      "cell_type": "code",
      "source": [
        "from scipy import stats\n",
        "\n",
        "# Given data\n",
        "claimed_variance = 0.005  # Claimed variance (sigma_0^2)\n",
        "sample_variance = 0.006  # Sample variance (s^2)\n",
        "n = 25  # Sample size\n",
        "alpha = 0.01  # Significance level (1%)\n",
        "\n",
        "# Calculate the F-statistic\n",
        "F_value = sample_variance / claimed_variance\n",
        "\n",
        "# Degrees of freedom\n",
        "df = n - 1\n",
        "\n",
        "# Critical F-values for two-tailed test\n",
        "F_critical_low = stats.f.ppf(alpha / 2, df, df)  # Lower critical value\n",
        "F_critical_high = stats.f.ppf(1 - alpha / 2, df, df)  # Upper critical value\n",
        "\n",
        "# p-value\n",
        "# If we have to consider the p-value for two-tailed test\n",
        "p_value = (stats.f.cdf(F_value, df, df)) * 2  # Two-tailed\n",
        "\n",
        "# Output results\n",
        "print(f\"F-value: {F_value:.4f}\")\n",
        "print(f\"Degrees of Freedom: df = {df}\")\n",
        "print(f\"Critical F-values: Low = {F_critical_low:.4f}, High = {F_critical_high:.4f}\")\n",
        "print(f\"P-value: {p_value:.4f}\")\n",
        "\n",
        "# Decision\n",
        "if F_value < F_critical_low or F_value > F_critical_high:\n",
        "    print(\"Reject the null hypothesis: The sample variance is significantly different from the claimed variance.\")\n",
        "else:\n",
        "    print(\"Fail to reject the null hypothesis: The sample variance is not significantly different from the claimed variance.\")"
      ],
      "metadata": {
        "colab": {
          "base_uri": "https://localhost:8080/"
        },
        "id": "U7lBePU2y7QC",
        "outputId": "183cf904-5887-4acd-8e1b-7b6b4b810a92"
      },
      "execution_count": 6,
      "outputs": [
        {
          "output_type": "stream",
          "name": "stdout",
          "text": [
            "F-value: 1.2000\n",
            "Degrees of Freedom: df = 24\n",
            "Critical F-values: Low = 0.3371, High = 2.9667\n",
            "P-value: 1.3413\n",
            "Fail to reject the null hypothesis: The sample variance is not significantly different from the claimed variance.\n"
          ]
        }
      ]
    },
    {
      "cell_type": "markdown",
      "source": [
        "# Q6. Write a Python function that takes in the degrees of freedom for the numerator and denominator of an\n",
        "F-distribution and calculates the mean and variance of the distribution. The function should return the\n",
        "mean and variance as a tuple.\n",
        "\n",
        "You can calculate the mean and variance of an F-distribution using the formulas:\n",
        "\n",
        "* The mean of an F-distribution is given by:\n",
        "[\n",
        "\\text{Mean} = \\frac{d_1}{d_1 - 2} \\quad \\text{for } d_1 > 2\n",
        "]\n",
        "\n",
        "* The variance of an F-distribution is given by:\n",
        "[\n",
        "\\text{Variance} = \\frac{2 \\cdot d_2^2 \\cdot (d_1 + d_1 - 2)}{d_1^2 \\cdot (d_2 - 2) \\cdot (d_2 - 4)} \\quad \\text{for } d_2 > 4\n",
        "]\n",
        "\n",
        "where (d_1) is the degrees of freedom for the numerator, and (d_2) is the degrees of freedom for the denominator.\n",
        "\n",
        "Here is a Python function that takes in d1 and d2 as inputs and returns the mean and variance as a tuple:"
      ],
      "metadata": {
        "id": "R_QyNdR-zFnC"
      }
    },
    {
      "cell_type": "code",
      "source": [
        "def f_distribution_properties(d1, d2):\n",
        "    \"\"\"\n",
        "    Calculate the mean and variance of the F-distribution given\n",
        "    the degrees of freedom for the numerator (d1) and the denominator (d2).\n",
        "\n",
        "    Parameters:\n",
        "    d1 (int): Degrees of freedom for the numerator.\n",
        "    d2 (int): Degrees of freedom for the denominator.\n",
        "\n",
        "    Returns:\n",
        "    tuple: Mean and variance of the F-distribution.\n",
        "    \"\"\"\n",
        "\n",
        "    if d1 <= 2:\n",
        "        mean = None  # Mean is undefined for d1 <= 2\n",
        "    else:\n",
        "        mean = d1 / (d1 - 2)\n",
        "\n",
        "    if d2 <= 4:\n",
        "        variance = None  # Variance is undefined for d2 <= 4\n",
        "    else:\n",
        "        variance = (2 * d2**2 * (d1 + d1 - 2)) / (d1**2 * (d2 - 2) * (d2 - 4))\n",
        "\n",
        "    return (mean, variance)\n",
        "\n",
        "# Example usage:\n",
        "d1 = 5\n",
        "d2 = 10\n",
        "mean, variance = f_distribution_properties(d1, d2)\n",
        "print(f\"Mean: {mean}, Variance: {variance}\")"
      ],
      "metadata": {
        "colab": {
          "base_uri": "https://localhost:8080/"
        },
        "id": "lcF2kRQ4z3Lk",
        "outputId": "2128a5a2-da5a-4d34-fcb6-7ca3313bb8db"
      },
      "execution_count": 7,
      "outputs": [
        {
          "output_type": "stream",
          "name": "stdout",
          "text": [
            "Mean: 1.6666666666666667, Variance: 1.3333333333333333\n"
          ]
        }
      ]
    },
    {
      "cell_type": "markdown",
      "source": [
        "# Q7. A random sample of 10 measurements is taken from a normal population with unknown variance. The\n",
        "sample variance is found to be 25. Another random sample of 15 measurements is taken from another\n",
        "normal population with unknown variance, and the sample variance is found to be 20. Conduct an F-test\n",
        "at the 10% significance level to determine if the variances are significantly different.\n",
        "\n",
        "To conduct an F-test to determine if the variances from two normal populations are significantly different, we'll follow these steps:\n",
        "\n",
        "1. Steps:\n",
        "State the Hypotheses:\n",
        "\n",
        "Null hypothesis ( H_0 ): The variances are equal, i.e., ( \\sigma_1^2 = \\sigma_2^2 ).\n",
        "Alternative hypothesis ( H_a ): The variances are not equal, i.e., ( \\sigma_1^2 \\neq \\sigma_2^2 ).\n",
        "2. Given Information:\n",
        "\n",
        "* Sample 1 (first normal population):\n",
        "* Sample size ( n_1 = 10 )\n",
        "* Sample variance ( s_1^2 = 25 )\n",
        "*     Sample 2 (second normal population):\n",
        "* Sample size ( n_2 = 15 )\n",
        "* Sample variance ( s_2^2 = 20 )\n",
        "3. Calculate the F-statistic:\n",
        "The F-statistic is calculated as follows:\n",
        "[\n",
        "F = \\frac{s_1^2}{s_2^2}\n",
        "]\n",
        "Here, we use the larger variance in the numerator to ensure the ( F ) statistic is greater than or equal to 1.\n",
        "\n",
        "4. Degrees of Freedom:\n",
        "\n",
        "Degrees of freedom for the numerator ( df_1 = n_1 - 1 )\n",
        "Degrees of freedom for the denominator ( df_2 = n_2 - 1 )\n",
        "5. Determine the Critical F-value:\n",
        "We'll find the critical F-values using the degrees of freedom and the significance level for both tails.\n",
        "\n",
        "6. Make a Decision: If the calculated F-statistic falls outside the critical values, we reject the null hypothesis."
      ],
      "metadata": {
        "id": "pY_kwEHdz6dC"
      }
    },
    {
      "cell_type": "code",
      "source": [
        "from scipy import stats\n",
        "\n",
        "def f_test_variances(n1, s1_squared, n2, s2_squared, alpha):\n",
        "    # Calculate the F-statistic\n",
        "    F_statistic = s1_squared / s2_squared\n",
        "\n",
        "    # Degrees of freedom\n",
        "    df1 = n1 - 1\n",
        "    df2 = n2 - 1\n",
        "\n",
        "    # Critical F-values for two-tailed test\n",
        "    F_critical_lower = stats.f.ppf(alpha / 2, df1, df2)\n",
        "    F_critical_upper = stats.f.ppf(1 - alpha / 2, df1, df2)\n",
        "\n",
        "    return F_statistic, (F_critical_lower, F_critical_upper)\n",
        "\n",
        "# Given data\n",
        "n1 = 10  # Sample size for the first group\n",
        "s1_squared = 25  # Sample variance for the first group\n",
        "n2 = 15  # Sample size for the second group\n",
        "s2_squared = 20  # Sample variance for the second group\n",
        "alpha = 0.10  # Significance level\n",
        "\n",
        "# Perform F-test\n",
        "F_stat, critical_values = f_test_variances(n1, s1_squared, n2, s2_squared, alpha)\n",
        "\n",
        "# Output results\n",
        "print(f\"F-statistic: {F_stat:.4f}\")\n",
        "print(f\"Critical F-values: Lower = {critical_values[0]:.4f}, Upper = {critical_values[1]:.4f}\")\n",
        "\n",
        "# Decision\n",
        "if F_stat < critical_values[0] or F_stat > critical_values[1]:\n",
        "    print(\"Reject the null hypothesis: The variances are significantly different.\")\n",
        "else:\n",
        "    print(\"Fail to reject the null hypothesis: The variances are not significantly different.\")"
      ],
      "metadata": {
        "colab": {
          "base_uri": "https://localhost:8080/"
        },
        "id": "3Cct6oYS0pc4",
        "outputId": "a5f8b79b-d4c3-4a95-e9f5-8ce47d2f6aac"
      },
      "execution_count": 8,
      "outputs": [
        {
          "output_type": "stream",
          "name": "stdout",
          "text": [
            "F-statistic: 1.2500\n",
            "Critical F-values: Lower = 0.3305, Upper = 2.6458\n",
            "Fail to reject the null hypothesis: The variances are not significantly different.\n"
          ]
        }
      ]
    },
    {
      "cell_type": "markdown",
      "source": [
        "# Q8. The following data represent the waiting times in minutes at two different restaurants on a Saturday\n",
        "night: Restaurant A: 24, 25, 28, 23, 22, 20, 27; Restaurant B: 31, 33, 35, 30, 32, 36. Conduct an F-test at the 5%\n",
        "significance level to determine if the variances are significantly different.\n",
        "\n",
        "To conduct an F-test to determine if the variances of the waiting times at two different restaurants are significantly different, we'll follow these steps:\n",
        "\n",
        "# Steps:\n",
        "1. State the Hypotheses:\n",
        "\n",
        "* Null hypothesis ( H_0 ): The variances are equal, i.e., ( \\sigma_A^2 = \\sigma_B^2 ).\n",
        "* Alternative hypothesis ( H_a ): The variances are not equal, i.e., ( \\sigma_A^2 \\neq \\sigma_B^2 ).\n",
        "2. Given Data:\n",
        "\n",
        "Restaurant A: 24, 25, 28, 23, 22, 20, 27\n",
        "Restaurant B: 31, 33, 35, 30, 32, 36\n",
        "3. Calculate the Sample Variances and Sizes:\n",
        "We need to calculate the sample variances ( s_A^2 ) and ( s_B^2 ), as well as their sample sizes ( n_A ) and ( n_B ).\n",
        "\n",
        "4. Calculate the F-statistic:\n",
        "The F-statistic is calculated as follows:\n",
        "[\n",
        "F = \\frac{s_A^2}{s_B^2}\n",
        "]\n",
        "\n",
        "5. Degrees of Freedom:\n",
        "\n",
        "Degrees of freedom for Restaurant A ( df_A = n_A - 1 )\n",
        "Degrees of freedom for Restaurant B ( df_B = n_B - 1 )\n",
        "6. Determine the Critical F-value:\n",
        "Find the critical F-value using the degrees of freedom and the significance level for a two-tailed test.\n",
        "\n",
        "7. Make a Decision: If the calculated F-statistic falls outside the critical values, we reject the null hypothesis.\n",
        "\n",
        "Calculation in Python:"
      ],
      "metadata": {
        "id": "4gd4Y6Q70wX8"
      }
    },
    {
      "cell_type": "code",
      "source": [
        "import numpy as np\n",
        "from scipy import stats\n",
        "\n",
        "def f_test(waiting_times_a, waiting_times_b, alpha):\n",
        "    # Calculate sample sizes\n",
        "    n_a = len(waiting_times_a)\n",
        "    n_b = len(waiting_times_b)\n",
        "\n",
        "    # Calculate sample variances\n",
        "    s_a_squared = np.var(waiting_times_a, ddof=1)  # Sample variance for A\n",
        "    s_b_squared = np.var(waiting_times_b, ddof=1)  # Sample variance for B\n",
        "\n",
        "    # Calculate the F-statistic\n",
        "    F_statistic = s_a_squared / s_b_squared\n",
        "\n",
        "    # Degrees of freedom\n",
        "    df_a = n_a - 1\n",
        "    df_b = n_b - 1\n",
        "\n",
        "    # Critical F-values for two-tailed test\n",
        "    F_critical_lower = stats.f.ppf(alpha / 2, df_a, df_b)\n",
        "    F_critical_upper = stats.f.ppf(1 - alpha / 2, df_a, df_b)\n",
        "\n",
        "    return F_statistic, (F_critical_lower, F_critical_upper), (df_a, df_b)\n",
        "\n",
        "# Given data\n",
        "waiting_times_a = [24, 25, 28, 23, 22, 20, 27]  # Restaurant A\n",
        "waiting_times_b = [31, 33, 35, 30, 32, 36]      # Restaurant B\n",
        "alpha = 0.05  # Significance level\n",
        "\n",
        "# Perform F-test\n",
        "F_stat, critical_values, degrees_freedom = f_test(waiting_times_a, waiting_times_b, alpha)\n",
        "\n",
        "# Output results\n",
        "print(f\"F-statistic: {F_stat:.4f}\")\n",
        "print(f\"Critical F-values: Lower = {critical_values[0]:.4f}, Upper = {critical_values[1]:.4f}\")\n",
        "print(f\"Degrees of freedom: df_A = {degrees_freedom[0]}, df_B = {degrees_freedom[1]}\")\n",
        "\n",
        "# Decision\n",
        "if F_stat < critical_values[0] or F_stat > critical_values[1]:\n",
        "    print(\"Reject the null hypothesis: The variances are significantly different.\")\n",
        "else:\n",
        "    print(\"Fail to reject the null hypothesis: The variances are not significantly different.\")"
      ],
      "metadata": {
        "colab": {
          "base_uri": "https://localhost:8080/"
        },
        "id": "6hyJ3BoX1bZc",
        "outputId": "1f8e8143-1d3c-42f0-ff6d-7f74febba228"
      },
      "execution_count": 9,
      "outputs": [
        {
          "output_type": "stream",
          "name": "stdout",
          "text": [
            "F-statistic: 1.4552\n",
            "Critical F-values: Lower = 0.1670, Upper = 6.9777\n",
            "Degrees of freedom: df_A = 6, df_B = 5\n",
            "Fail to reject the null hypothesis: The variances are not significantly different.\n"
          ]
        }
      ]
    },
    {
      "cell_type": "markdown",
      "source": [
        "# Q9. The following data represent the test scores of two groups of students: Group A: 80, 85, 90, 92, 87, 83;\n",
        "Group B: 75, 78, 82, 79, 81, 84. Conduct an F-test at the 1% significance level to determine if the variances\n",
        "are significantly different.\n",
        "\n",
        "To determine if the variances of test scores from two groups of students are significantly different using an F-test at the 1% significance level, we will follow the steps below:\n",
        "\n",
        "# Steps:\n",
        "1. State the Hypotheses:\n",
        "\n",
        "* Null hypothesis ( H_0 ): The variances are equal, i.e., ( \\sigma_A^2 = \\sigma_B^2 ).\n",
        "* Alternative hypothesis ( H_a ): The variances are not equal, i.e., ( \\sigma_A^2 \\neq \\sigma_B^2 ).\n",
        "2. Given Data:\n",
        "\n",
        "* Group A: 80, 85, 90, 92, 87, 83\n",
        "* Group B: 75, 78, 82, 79, 81, 84\n",
        "3. Calculate Sample Variances:\n",
        "We need to calculate the sample variances ( s_A^2 ) for Group A and ( s_B^2 ) for Group B.\n",
        "\n",
        "4. Calculate the F-statistic:\n",
        "The F-statistic is calculated as:\n",
        "[\n",
        "F = \\frac{s_A^2}{s_B^2}\n",
        "]\n",
        "where ( s_A^2 ) is the variance for Group A and ( s_B^2 ) is the variance for Group B. We will use the larger variance in the numerator to ensure that the F-statistic is greater than or equal to 1.\n",
        "\n",
        "5. Degrees of Freedom:\n",
        "\n",
        "* Degrees of freedom for Group A ( df_A = n_A - 1 )\n",
        "* Degrees of freedom for Group B ( df_B = n_B - 1 )\n",
        "6. Determine Critical F-values:\n",
        "Find the critical F-values associated with the degrees of freedom and the significance level (for a two-tailed test).\n",
        "\n",
        "7. Decision: If the calculated F-statistic falls outside the critical values, we reject the null hypothesis."
      ],
      "metadata": {
        "id": "hxaq5l0J1dNX"
      }
    },
    {
      "cell_type": "code",
      "source": [
        "import numpy as np\n",
        "from scipy import stats\n",
        "\n",
        "def f_test(test_scores_a, test_scores_b, alpha):\n",
        "    # Calculate sample sizes\n",
        "    n_a = len(test_scores_a)\n",
        "    n_b = len(test_scores_b)\n",
        "\n",
        "    # Calculate sample variances\n",
        "    s_a_squared = np.var(test_scores_a, ddof=1)  # Sample variance for Group A\n",
        "    s_b_squared = np.var(test_scores_b, ddof=1)  # Sample variance for Group B\n",
        "\n",
        "    # Calculate the F-statistic\n",
        "    F_statistic = s_a_squared / s_b_squared\n",
        "\n",
        "    # Degrees of freedom\n",
        "    df_a = n_a - 1\n",
        "    df_b = n_b - 1\n",
        "\n",
        "    # Critical F-values for two-tailed test\n",
        "    F_critical_lower = stats.f.ppf(alpha / 2, df_a, df_b)\n",
        "    F_critical_upper = stats.f.ppf(1 - alpha / 2, df_a, df_b)\n",
        "\n",
        "    return F_statistic, (F_critical_lower, F_critical_upper), (df_a, df_b)\n",
        "\n",
        "# Given data\n",
        "test_scores_a = [80, 85, 90, 92, 87, 83]  # Group A\n",
        "test_scores_b = [75, 78, 82, 79, 81, 84]  # Group B\n",
        "alpha = 0.01  # Significance level\n",
        "\n",
        "# Perform F-test\n",
        "F_stat, critical_values, degrees_freedom = f_test(test_scores_a, test_scores_b, alpha)\n",
        "\n",
        "# Output results\n",
        "print(f\"F-statistic: {F_stat:.4f}\")\n",
        "print(f\"Critical F-values: Lower = {critical_values[0]:.4f}, Upper = {critical_values[1]:.4f}\")\n",
        "print(f\"Degrees of freedom: df_A = {degrees_freedom[0]}, df_B = {degrees_freedom[1]}\")\n",
        "\n",
        "# Decision\n",
        "if F_stat < critical_values[0] or F_stat > critical_values[1]:\n",
        "    print(\"Reject the null hypothesis: The variances are significantly different.\")\n",
        "else:\n",
        "    print(\"Fail to reject the null hypothesis: The variances are not significantly different.\")"
      ],
      "metadata": {
        "colab": {
          "base_uri": "https://localhost:8080/"
        },
        "id": "IsZZn_tI2MPP",
        "outputId": "1fb17b6f-3a98-4008-c2c5-3a4ef3938660"
      },
      "execution_count": 10,
      "outputs": [
        {
          "output_type": "stream",
          "name": "stdout",
          "text": [
            "F-statistic: 1.9443\n",
            "Critical F-values: Lower = 0.0669, Upper = 14.9396\n",
            "Degrees of freedom: df_A = 5, df_B = 5\n",
            "Fail to reject the null hypothesis: The variances are not significantly different.\n"
          ]
        }
      ]
    }
  ]
}