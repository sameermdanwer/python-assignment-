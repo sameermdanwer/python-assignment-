{
  "nbformat": 4,
  "nbformat_minor": 0,
  "metadata": {
    "colab": {
      "provenance": [],
      "authorship_tag": "ABX9TyNZz1k2OnGSj3OB6DU7br+y",
      "include_colab_link": true
    },
    "kernelspec": {
      "name": "python3",
      "display_name": "Python 3"
    },
    "language_info": {
      "name": "python"
    }
  },
  "cells": [
    {
      "cell_type": "markdown",
      "metadata": {
        "id": "view-in-github",
        "colab_type": "text"
      },
      "source": [
        "<a href=\"https://colab.research.google.com/github/sameermdanwer/python-assignment-/blob/main/Pandas_Basic_Assignment.ipynb\" target=\"_parent\"><img src=\"https://colab.research.google.com/assets/colab-badge.svg\" alt=\"Open In Colab\"/></a>"
      ]
    },
    {
      "cell_type": "markdown",
      "source": [
        "# Q1. Create a Pandas Series that contains the following data: 4, 8, 15, 16, 23, and 42. Then, print the series."
      ],
      "metadata": {
        "id": "sdWv5BEHeaE7"
      }
    },
    {
      "cell_type": "code",
      "source": [
        "0     4\n",
        "1     8\n",
        "2    15\n",
        "3    16\n",
        "4    23\n",
        "5    42\n",
        "dtype: int64"
      ],
      "metadata": {
        "id": "UsOaalGQffWv"
      },
      "execution_count": null,
      "outputs": []
    },
    {
      "cell_type": "markdown",
      "source": [
        "# Q2. Create a variable of list type containing 10 elements in it, and apply pandas.Series function on the\n"
      ],
      "metadata": {
        "id": "rH2CcHhdfjXs"
      }
    },
    {
      "cell_type": "code",
      "source": [
        "0     1\n",
        "1     2\n",
        "2     3\n",
        "3     4\n",
        "4     5\n",
        "5     6\n",
        "6     7\n",
        "7     8\n",
        "8     9\n",
        "9    10\n",
        "dtype: int64"
      ],
      "metadata": {
        "id": "9DvNA7F0fzJK"
      },
      "execution_count": null,
      "outputs": []
    },
    {
      "cell_type": "markdown",
      "source": [
        "Q3. Create a Pandas DataFrame that contains the following data:\n",
        "\n",
        "Then, print the DataFrame."
      ],
      "metadata": {
        "id": "-Ee9nkjnf0Jw"
      }
    },
    {
      "cell_type": "markdown",
      "source": [
        "# Q4. What is ‘DataFrame’ in pandas and how is it different from pandas.series? Explain with an example.\n",
        "\n",
        "In pandas, a DataFrame is a two-dimensional, size-mutable, and potentially heterogeneous tabular data structure with labeled axes (rows and columns). It can be thought of as a spreadsheet or a SQL table. Each column in a DataFrame can hold different data types (integers, floats, strings, etc.), and it is generally used for more complex datasets that require organization across multiple dimensions.\n",
        "\n",
        "On the other hand, a Series is a one-dimensional labeled array capable of holding any data type. It is similar to a single column in a DataFrame.\n",
        "\n",
        "# Key Differences:\n",
        "\n",
        "1. Dimensions:\n",
        "\n",
        "* Series: One-dimensional (1D).\n",
        "* DataFrame: Two-dimensional (2D).\n",
        "2. Structure:\n",
        "\n",
        "* Series: Consists of a single column of data.\n",
        "* DataFrame: Consists of multiple columns, each of which can be a Series.\n",
        "3. Use Cases:\n",
        "\n",
        "* Series: Suitable for representing a single variable or a list of values.\n",
        "* DataFrame: Suitable for representing datasets with multiple variables and complex relationships."
      ],
      "metadata": {
        "id": "6nmKDYnjgyQq"
      }
    },
    {
      "cell_type": "code",
      "source": [
        "import pandas as pd\n",
        "\n",
        "# Create a Series\n",
        "data_series = pd.Series([1, 2, 3, 4])\n",
        "print(\"Pandas Series:\")\n",
        "print(data_series)"
      ],
      "metadata": {
        "colab": {
          "base_uri": "https://localhost:8080/"
        },
        "id": "t37YwpZhhXj2",
        "outputId": "b8ad788e-e4a7-4db0-955a-6f160b07f38a"
      },
      "execution_count": 4,
      "outputs": [
        {
          "output_type": "stream",
          "name": "stdout",
          "text": [
            "Pandas Series:\n",
            "0    1\n",
            "1    2\n",
            "2    3\n",
            "3    4\n",
            "dtype: int64\n"
          ]
        }
      ]
    },
    {
      "cell_type": "code",
      "source": [
        "# Create a DataFrame\n",
        "data_frame = pd.DataFrame({\n",
        "    'A': [1, 2, 3, 4],\n",
        "    'B': ['one', 'two', 'three', 'four'],\n",
        "    'C': [True, False, True, False]\n",
        "})\n",
        "print(\"\\nPandas DataFrame:\")\n",
        "print(data_frame)"
      ],
      "metadata": {
        "colab": {
          "base_uri": "https://localhost:8080/"
        },
        "id": "FQimVH4AhcoM",
        "outputId": "7b08ff8f-d68f-4eb6-a79a-762a4a9c1993"
      },
      "execution_count": 5,
      "outputs": [
        {
          "output_type": "stream",
          "name": "stdout",
          "text": [
            "\n",
            "Pandas DataFrame:\n",
            "   A      B      C\n",
            "0  1    one   True\n",
            "1  2    two  False\n",
            "2  3  three   True\n",
            "3  4   four  False\n"
          ]
        }
      ]
    },
    {
      "cell_type": "markdown",
      "source": [
        "# Q5. What are some common functions you can use to manipulate data in a Pandas DataFrame? Can\n",
        "you give an example of when you might use one of these functions?\n",
        "\n",
        "Pandas provides a wide array of functions to manipulate data in a DataFrame. Here are some common functions along with explanations and examples of when you might use them:\n",
        "\n",
        "Common Functions for Data Manipulation in Pandas DataFrames\n",
        "\n",
        "# 1.  head()\n"
      ],
      "metadata": {
        "id": "RQo_9ybmhkU6"
      }
    },
    {
      "cell_type": "code",
      "source": [
        "df.head(5)  # Displays the first 5 rows of the DataFrame"
      ],
      "metadata": {
        "id": "kbAAuC75iSs3"
      },
      "execution_count": null,
      "outputs": []
    },
    {
      "cell_type": "markdown",
      "source": [
        "# 2 . tail()"
      ],
      "metadata": {
        "id": "QZdwWVCriL_v"
      }
    },
    {
      "cell_type": "code",
      "source": [
        "df.tail(5)  # Displays the last 5 rows of the DataFrame\n"
      ],
      "metadata": {
        "id": "HCcYy6wnieoY"
      },
      "execution_count": null,
      "outputs": []
    },
    {
      "cell_type": "markdown",
      "source": [
        "# 3 . describe()"
      ],
      "metadata": {
        "id": "QhuRqe30hVc_"
      }
    },
    {
      "cell_type": "code",
      "source": [
        "df.describe()  # Displays summary statistics for numerical columns"
      ],
      "metadata": {
        "id": "Y8PxnlLRiqTh"
      },
      "execution_count": null,
      "outputs": []
    },
    {
      "cell_type": "markdown",
      "source": [
        "# 4.  groupby()"
      ],
      "metadata": {
        "id": "mktanv_5iuRO"
      }
    },
    {
      "cell_type": "code",
      "source": [
        "df.groupby('Category').mean()  # Calculates the mean for each category"
      ],
      "metadata": {
        "id": "hZA3us_ki03i"
      },
      "execution_count": null,
      "outputs": []
    },
    {
      "cell_type": "markdown",
      "source": [
        "# 5 merge()"
      ],
      "metadata": {
        "id": "q4JXh-ePjpZX"
      }
    },
    {
      "cell_type": "code",
      "source": [
        "pd.merge(df1, df2, on='CustomerID')  # Merges two DataFrames on the 'CustomerID' column"
      ],
      "metadata": {
        "id": "ssLtYwQgjkEu"
      },
      "execution_count": null,
      "outputs": []
    },
    {
      "cell_type": "markdown",
      "source": [
        "# 6 pivot_table()"
      ],
      "metadata": {
        "id": "t9kq6t2BjPvL"
      }
    },
    {
      "cell_type": "code",
      "source": [
        "df.pivot_table(values='Sales', index='Month', columns='Product', aggfunc='sum')"
      ],
      "metadata": {
        "id": "BQDiQlCpjb_1"
      },
      "execution_count": null,
      "outputs": []
    },
    {
      "cell_type": "markdown",
      "source": [
        "#7. fillna()"
      ],
      "metadata": {
        "id": "2AyCaMBqj2Cb"
      }
    },
    {
      "cell_type": "code",
      "source": [
        "df['Column'].fillna(df['Column'].mean(), inplace=True)  # Fills NaN with the column mean"
      ],
      "metadata": {
        "id": "Si0Z5BHEjW79"
      },
      "execution_count": null,
      "outputs": []
    },
    {
      "cell_type": "markdown",
      "source": [
        "# 8. drop()"
      ],
      "metadata": {
        "id": "_nJBAQv0kOdw"
      }
    },
    {
      "cell_type": "code",
      "source": [
        "df.drop('UnnecessaryColumn', axis=1, inplace=True)  # Drops a specified column"
      ],
      "metadata": {
        "id": "DAaVhQytkat8"
      },
      "execution_count": null,
      "outputs": []
    },
    {
      "cell_type": "markdown",
      "source": [
        "# Example of Using groupby()"
      ],
      "metadata": {
        "id": "cqR0lrdZkdwg"
      }
    },
    {
      "cell_type": "code",
      "source": [
        "import pandas as pd\n",
        "\n",
        "# Example DataFrame\n",
        "data = {\n",
        "    'Product': ['A', 'B', 'A', 'C', 'B', 'A'],\n",
        "    'Category': ['Electronics', 'Electronics', 'Home', 'Home', 'Electronics', 'Home'],\n",
        "    'Sales': [200, 150, 300, 250, 100, 400]\n",
        "}\n",
        "df = pd.DataFrame(data)\n",
        "\n",
        "# Using groupby to calculate total sales by category\n",
        "total_sales = df.groupby('Category')['Sales'].sum().reset_index()\n",
        "\n",
        "print(total_sales)"
      ],
      "metadata": {
        "colab": {
          "base_uri": "https://localhost:8080/"
        },
        "id": "8IV4Lhhpknt5",
        "outputId": "d569efc0-521e-4252-d0b8-ea211c8b1e3e"
      },
      "execution_count": 8,
      "outputs": [
        {
          "output_type": "stream",
          "name": "stdout",
          "text": [
            "      Category  Sales\n",
            "0  Electronics    450\n",
            "1         Home    950\n"
          ]
        }
      ]
    },
    {
      "cell_type": "markdown",
      "source": [
        "# Q6. Which of the following is mutable in nature Series, DataFrame, Panel?\n",
        "\n",
        "In pandas, both Series and DataFrame are mutable in nature, while Panel is deprecated and not commonly used in recent versions of pandas.\n",
        "\n",
        "# Explanation:\n",
        "1. Series:\n",
        "\n",
        "* Mutable: You can change the values of a Series after it has been created. This includes updating, adding, or removing elements.\n",
        "2. DataFrame:\n",
        "\n",
        "* Mutable: You can modify the contents of a DataFrame, including adding or dropping columns and rows, updating values, and performing other modifications.\n",
        "3. Panel:\n",
        "\n",
        "* Deprecated: Panel was a three-dimensional data structure in pandas but has been deprecated as of version 0.25.0. It is not recommended for use in new code. Instead, it's advised to use multi-dimensional arrays from libraries like NumPy or xarray for three-dimensional data."
      ],
      "metadata": {
        "id": "q__ZoYKSkscP"
      }
    },
    {
      "cell_type": "markdown",
      "source": [
        "# Q7. Create a DataFrame using multiple Series. Explain with an example.\n",
        "\n",
        "You can create a DataFrame in pandas using multiple Series by combining them together. Each Series represents a column in the DataFrame, and the index of each Series must align for them to be combined correctly.\n",
        "\n",
        "# Example: Creating a DataFrame Using Multiple Series\n",
        "Let’s create a DataFrame that represents information about different products, including their names, categories, and prices.\n",
        "\n",
        "# Step 1: Create Series\n",
        "First, we will create three Series: one for product names, one for categories, and one for prices."
      ],
      "metadata": {
        "id": "TviRLYk-lJlX"
      }
    },
    {
      "cell_type": "code",
      "source": [
        "import pandas as pd\n",
        "\n",
        "# Create Series\n",
        "product_names = pd.Series(['Laptop', 'Smartphone', 'Tablet', 'Monitor'])\n",
        "categories = pd.Series(['Electronics', 'Electronics', 'Electronics', 'Electronics'])\n",
        "prices = pd.Series([1000, 700, 300, 250])\n",
        "\n",
        "# Display the Series\n",
        "print(\"Product Names:\")\n",
        "print(product_names)\n",
        "print(\"\\nCategories:\")\n",
        "print(categories)\n",
        "print(\"\\nPrices:\")\n",
        "print(prices)"
      ],
      "metadata": {
        "colab": {
          "base_uri": "https://localhost:8080/"
        },
        "id": "Ei7Gx35ilkI4",
        "outputId": "71f8688d-e072-4c31-d6a4-01d3284596b0"
      },
      "execution_count": 9,
      "outputs": [
        {
          "output_type": "stream",
          "name": "stdout",
          "text": [
            "Product Names:\n",
            "0        Laptop\n",
            "1    Smartphone\n",
            "2        Tablet\n",
            "3       Monitor\n",
            "dtype: object\n",
            "\n",
            "Categories:\n",
            "0    Electronics\n",
            "1    Electronics\n",
            "2    Electronics\n",
            "3    Electronics\n",
            "dtype: object\n",
            "\n",
            "Prices:\n",
            "0    1000\n",
            "1     700\n",
            "2     300\n",
            "3     250\n",
            "dtype: int64\n"
          ]
        }
      ]
    },
    {
      "cell_type": "markdown",
      "source": [
        "# Step 2: Create DataFrame"
      ],
      "metadata": {
        "id": "BcdDJgjxlpi5"
      }
    },
    {
      "cell_type": "code",
      "source": [
        "# Create DataFrame using the Series\n",
        "products_df = pd.DataFrame({\n",
        "    'Product Name': product_names,\n",
        "    'Category': categories,\n",
        "    'Price': prices\n",
        "})\n",
        "\n",
        "# Display the DataFrame\n",
        "print(\"\\nProducts DataFrame:\")\n",
        "print(products_df)"
      ],
      "metadata": {
        "colab": {
          "base_uri": "https://localhost:8080/"
        },
        "id": "BH6VBSF2l1_G",
        "outputId": "6f05a959-8e3a-4f91-89b8-3655b4483134"
      },
      "execution_count": 10,
      "outputs": [
        {
          "output_type": "stream",
          "name": "stdout",
          "text": [
            "\n",
            "Products DataFrame:\n",
            "  Product Name     Category  Price\n",
            "0       Laptop  Electronics   1000\n",
            "1   Smartphone  Electronics    700\n",
            "2       Tablet  Electronics    300\n",
            "3      Monitor  Electronics    250\n"
          ]
        }
      ]
    }
  ]
}