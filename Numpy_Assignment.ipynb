{
  "nbformat": 4,
  "nbformat_minor": 0,
  "metadata": {
    "colab": {
      "provenance": [],
      "authorship_tag": "ABX9TyNudPcb0b0iguOXy/A31Kmf",
      "include_colab_link": true
    },
    "kernelspec": {
      "name": "python3",
      "display_name": "Python 3"
    },
    "language_info": {
      "name": "python"
    }
  },
  "cells": [
    {
      "cell_type": "markdown",
      "metadata": {
        "id": "view-in-github",
        "colab_type": "text"
      },
      "source": [
        "<a href=\"https://colab.research.google.com/github/sameermdanwer/python-assignment-/blob/main/Numpy_Assignment.ipynb\" target=\"_parent\"><img src=\"https://colab.research.google.com/assets/colab-badge.svg\" alt=\"Open In Colab\"/></a>"
      ]
    },
    {
      "cell_type": "markdown",
      "source": [
        "# Q1. Is there any difference in the data type of variables list_ and array_list? If there is then write a code\n",
        "to print the data types of both the variables.\n",
        "\n",
        "Yes, there is a difference in the data type of the variables list_ and array_list.\n",
        "\n",
        "list_ is a Python list.\n",
        "array_list is a NumPy array.\n",
        "To print the data types of both variables, you can use the following code:"
      ],
      "metadata": {
        "id": "11QLZ2asYS_f"
      }
    },
    {
      "cell_type": "code",
      "source": [
        "import numpy as np\n",
        "\n",
        "list_ = ['1', '2', '3', '4', '5']\n",
        "array_list = np.array(object=list_)\n",
        "\n",
        "# Print the data types\n",
        "print(f\"Data type of list_: {type(list_)}\")\n",
        "print(f\"Data type of array_list: {type(array_list)}\")"
      ],
      "metadata": {
        "colab": {
          "base_uri": "https://localhost:8080/"
        },
        "id": "YEpHfjY2aQr8",
        "outputId": "18e0aef3-2815-4081-f18d-adc5c290cee6"
      },
      "execution_count": 2,
      "outputs": [
        {
          "output_type": "stream",
          "name": "stdout",
          "text": [
            "Data type of list_: <class 'list'>\n",
            "Data type of array_list: <class 'numpy.ndarray'>\n"
          ]
        }
      ]
    },
    {
      "cell_type": "markdown",
      "source": [
        "# Q2. Write a code to print the data type of each and every element of both the variables list_ and\n",
        "arra_list."
      ],
      "metadata": {
        "id": "h4M0l1_2aSUW"
      }
    },
    {
      "cell_type": "markdown",
      "source": [
        "To print the data type of each element in both list_ and array_list, you can use Python's built-in type() function for the list_ elements and NumPy's dtype attribute for array_list. Here's the code:\n",
        "\n"
      ],
      "metadata": {
        "id": "FBdCAnolazcd"
      }
    },
    {
      "cell_type": "code",
      "source": [
        "import numpy as np\n",
        "\n",
        "# Original list\n",
        "list_ = ['1', '2', '3', '4', '5']\n",
        "# Convert to NumPy array\n",
        "array_list = np.array(object=list_)\n",
        "\n",
        "# Print data type of each element in list_\n",
        "print(\"Data types of elements in list_:\")\n",
        "for element in list_:\n",
        "    print(type(element))\n",
        "\n",
        "# Print data type of each element in array_list\n",
        "print(\"\\nData types of elements in array_list:\")\n",
        "for element in array_list:\n",
        "    print(type(element))"
      ],
      "metadata": {
        "colab": {
          "base_uri": "https://localhost:8080/"
        },
        "id": "wUyydy6La4Ss",
        "outputId": "6e5497f1-225d-45bd-b88b-67ff215bb9d4"
      },
      "execution_count": 3,
      "outputs": [
        {
          "output_type": "stream",
          "name": "stdout",
          "text": [
            "Data types of elements in list_:\n",
            "<class 'str'>\n",
            "<class 'str'>\n",
            "<class 'str'>\n",
            "<class 'str'>\n",
            "<class 'str'>\n",
            "\n",
            "Data types of elements in array_list:\n",
            "<class 'numpy.str_'>\n",
            "<class 'numpy.str_'>\n",
            "<class 'numpy.str_'>\n",
            "<class 'numpy.str_'>\n",
            "<class 'numpy.str_'>\n"
          ]
        }
      ]
    },
    {
      "cell_type": "markdown",
      "source": [
        "# Q3. Considering the following changes in the variable, array_list:\n",
        "array_list = np.array(object = list_, dtype = int)\n",
        "Will there be any difference in the data type of the elements present in both the variables, list_ and\n",
        "arra_list? If so then print the data types of each and every element present in both the variables, list_\n",
        "and arra_list.\n",
        "Consider the below code to answer further questions:\n",
        "import numpy as np\n",
        "num_list = [ [ 1 , 2 , 3 ] , [ 4 , 5 , 6 ] ]\n",
        "num_array = np.array(object = num_list)"
      ],
      "metadata": {
        "id": "EcssmzbBbY71"
      }
    },
    {
      "cell_type": "markdown",
      "source": [
        "Yes, there will be a difference in the data type of the elements in list_ and array_list after setting dtype=int for the array_list. The list_ will still contain elements of type str (as it is a list of strings), while array_list will convert those string elements into integers (type int).\n",
        "\n",
        "Here is the updated code that prints the data type of each element in both list_ and array_list:"
      ],
      "metadata": {
        "id": "NMcxTvnAbcv1"
      }
    },
    {
      "cell_type": "code",
      "source": [
        "import numpy as np\n",
        "\n",
        "# Original list\n",
        "list_ = ['1', '2', '3', '4', '5']\n",
        "\n",
        "# Convert to NumPy array with dtype=int\n",
        "array_list = np.array(object=list_, dtype=int)\n",
        "\n",
        "# Print data type of each element in list_\n",
        "print(\"Data types of elements in list_:\")\n",
        "for element in list_:\n",
        "    print(type(element))\n",
        "\n",
        "# Print data type of each element in array_list\n",
        "print(\"\\nData types of elements in array_list:\")\n",
        "for element in array_list:\n",
        "    print(type(element))"
      ],
      "metadata": {
        "colab": {
          "base_uri": "https://localhost:8080/"
        },
        "id": "MfCfSPl8bgZe",
        "outputId": "5171036c-2285-40ff-fa9d-9283ebaab014"
      },
      "execution_count": 4,
      "outputs": [
        {
          "output_type": "stream",
          "name": "stdout",
          "text": [
            "Data types of elements in list_:\n",
            "<class 'str'>\n",
            "<class 'str'>\n",
            "<class 'str'>\n",
            "<class 'str'>\n",
            "<class 'str'>\n",
            "\n",
            "Data types of elements in array_list:\n",
            "<class 'numpy.int64'>\n",
            "<class 'numpy.int64'>\n",
            "<class 'numpy.int64'>\n",
            "<class 'numpy.int64'>\n",
            "<class 'numpy.int64'>\n"
          ]
        }
      ]
    },
    {
      "cell_type": "markdown",
      "source": [
        "# Q4. Write a code to find the following characteristics of variable, num_array:\n",
        "(i) shape\n",
        "(ii) size"
      ],
      "metadata": {
        "id": "-MphLjb3b5Rc"
      }
    },
    {
      "cell_type": "code",
      "source": [
        "import numpy as np\n",
        "\n",
        "# Original list of lists\n",
        "num_list = [[1, 2, 3], [4, 5, 6]]\n",
        "\n",
        "# Convert to NumPy array\n",
        "num_array = np.array(object=num_list)\n",
        "\n",
        "# Finding the shape and size of num_array\n",
        "shape_of_array = num_array.shape\n",
        "size_of_array = num_array.size\n",
        "\n",
        "# Print the results\n",
        "print(f\"Shape of num_array: {shape_of_array}\")\n",
        "print(f\"Size of num_array: {size_of_array}\")"
      ],
      "metadata": {
        "colab": {
          "base_uri": "https://localhost:8080/"
        },
        "id": "Yq7cK3fGcDbc",
        "outputId": "bf70b2a2-fff9-44f8-e4a6-edb590da86fa"
      },
      "execution_count": 5,
      "outputs": [
        {
          "output_type": "stream",
          "name": "stdout",
          "text": [
            "Shape of num_array: (2, 3)\n",
            "Size of num_array: 6\n"
          ]
        }
      ]
    },
    {
      "cell_type": "markdown",
      "source": [
        "# Q5. Write a code to create numpy array of 3*3 matrix containing zeros only, using a numpy array\n",
        "creation function.\n",
        "[Hint: The size of the array will be 9 and the shape will be (3,3).]"
      ],
      "metadata": {
        "id": "nnAnMKrOcfpd"
      }
    },
    {
      "cell_type": "code",
      "source": [
        "import numpy as np\n",
        "\n",
        "# Create a 3x3 NumPy array of zeros\n",
        "zero_matrix = np.zeros((3, 3))\n",
        "\n",
        "# Print the matrix\n",
        "print(\"3x3 matrix of zeros:\")\n",
        "print(zero_matrix)"
      ],
      "metadata": {
        "colab": {
          "base_uri": "https://localhost:8080/"
        },
        "id": "AJRf63r0bbLF",
        "outputId": "728790af-b6ba-44ff-f4f5-af322a311eea"
      },
      "execution_count": 6,
      "outputs": [
        {
          "output_type": "stream",
          "name": "stdout",
          "text": [
            "3x3 matrix of zeros:\n",
            "[[0. 0. 0.]\n",
            " [0. 0. 0.]\n",
            " [0. 0. 0.]]\n"
          ]
        }
      ]
    },
    {
      "cell_type": "markdown",
      "source": [
        "# Q6. Create an identity matrix of shape (5,5) using numpy functions?\n",
        "[Hint: An identity matrix is a matrix containing 1 diagonally and other elements will be 0.]"
      ],
      "metadata": {
        "id": "ucQ2HtSddHP9"
      }
    },
    {
      "cell_type": "markdown",
      "source": [
        "To create an identity matrix of shape (5,5) using NumPy, you can use the np.identity() or np.eye() function. Both are designed to generate identity matrices, but np.eye() allows more flexibility with diagonal offsets."
      ],
      "metadata": {
        "id": "xrgnC-WRdbXL"
      }
    },
    {
      "cell_type": "code",
      "source": [
        "import numpy as np\n",
        "\n",
        "# Create a 5x5 identity matrix\n",
        "identity_matrix = np.identity(5)\n",
        "\n",
        "# Print the identity matrix\n",
        "print(identity_matrix)"
      ],
      "metadata": {
        "colab": {
          "base_uri": "https://localhost:8080/"
        },
        "id": "tnp9VF9LdPFV",
        "outputId": "ae7dfdbf-c2e0-402a-8483-55ad9a65196d"
      },
      "execution_count": 7,
      "outputs": [
        {
          "output_type": "stream",
          "name": "stdout",
          "text": [
            "[[1. 0. 0. 0. 0.]\n",
            " [0. 1. 0. 0. 0.]\n",
            " [0. 0. 1. 0. 0.]\n",
            " [0. 0. 0. 1. 0.]\n",
            " [0. 0. 0. 0. 1.]]\n"
          ]
        }
      ]
    },
    {
      "cell_type": "code",
      "source": [],
      "metadata": {
        "id": "BfBhjZWzavPF"
      },
      "execution_count": null,
      "outputs": []
    }
  ]
}