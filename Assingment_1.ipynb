{
  "nbformat": 4,
  "nbformat_minor": 0,
  "metadata": {
    "colab": {
      "provenance": [],
      "authorship_tag": "ABX9TyMc0Do7FOrBkV5qGabIrtQQ",
      "include_colab_link": true
    },
    "kernelspec": {
      "name": "python3",
      "display_name": "Python 3"
    },
    "language_info": {
      "name": "python"
    }
  },
  "cells": [
    {
      "cell_type": "markdown",
      "metadata": {
        "id": "view-in-github",
        "colab_type": "text"
      },
      "source": [
        "<a href=\"https://colab.research.google.com/github/sameermdanwer/python-assignment-/blob/main/Assingment_1.ipynb\" target=\"_parent\"><img src=\"https://colab.research.google.com/assets/colab-badge.svg\" alt=\"Open In Colab\"/></a>"
      ]
    },
    {
      "cell_type": "code",
      "execution_count": 1,
      "metadata": {
        "colab": {
          "base_uri": "https://localhost:8080/"
        },
        "id": "ykch98jAy4SL",
        "outputId": "63cdef21-4a50-4f2c-e106-f463fcbc2ddb"
      },
      "outputs": [
        {
          "output_type": "stream",
          "name": "stdout",
          "text": [
            "[1, 3, 5, 7, 9, 11, 13, 15, 17, 19, 21, 23, 25]\n"
          ]
        }
      ],
      "source": [
        "## 1 ans\n",
        "def odd_numbers():\n",
        "    return [num for num in range(1, 26) if num % 2 != 0]\n",
        "\n",
        "# Call the function\n",
        "odd_list = odd_numbers()\n",
        "print(odd_list)"
      ]
    },
    {
      "cell_type": "markdown",
      "source": [
        "# Q2. Why *args and **kwargs are used in some functions?\n",
        "*args is used in functions to pass a variable number of non-keyword arguments (i.e., a tuple of arguments).\n",
        "**kwargs is used to pass a variable number of keyword arguments (i.e., a dictionary of arguments)."
      ],
      "metadata": {
        "id": "QNchb_Sw9Jje"
      }
    },
    {
      "cell_type": "code",
      "source": [
        "## 2 ans\n",
        "def sum_of_numbers(*args):\n",
        "    return sum(args)\n",
        "\n",
        "# Call the function with varying number of arguments\n",
        "result = sum_of_numbers(1, 2, 3, 4, 5)\n",
        "print(result)  # Output will be 15"
      ],
      "metadata": {
        "colab": {
          "base_uri": "https://localhost:8080/"
        },
        "id": "smSqgFDV7x0r",
        "outputId": "6de5ae6a-c434-4277-adea-3cd87fcea606"
      },
      "execution_count": 2,
      "outputs": [
        {
          "output_type": "stream",
          "name": "stdout",
          "text": [
            "15\n"
          ]
        }
      ]
    },
    {
      "cell_type": "code",
      "source": [
        "def print_person_details(**kwargs):\n",
        "    for key, value in kwargs.items():\n",
        "        print(f\"{key}: {value}\")\n",
        "\n",
        "# Call the function with varying keyword arguments\n",
        "print_person_details(name=\"Alice\", age=30, profession=\"Engineer\")"
      ],
      "metadata": {
        "colab": {
          "base_uri": "https://localhost:8080/"
        },
        "id": "C9Q7xp2O8RwM",
        "outputId": "21c81336-7330-4d08-ba52-95d30df0f009"
      },
      "execution_count": 3,
      "outputs": [
        {
          "output_type": "stream",
          "name": "stdout",
          "text": [
            "name: Alice\n",
            "age: 30\n",
            "profession: Engineer\n"
          ]
        }
      ]
    },
    {
      "cell_type": "markdown",
      "source": [
        "# Q3. What is an iterator in Python?\n",
        "An iterator in Python is an object that allows you to traverse through all the elements of a collection (like lists, tuples, etc.) one element at a time. It follows the iterator protocol, which consists of two methods:\n",
        "\n",
        "__iter__() is used to initialize the iterator object.\n",
        "__next__() is used to iterate over the next element in the collection.\n",
        "Example of using an iterator to print the first five elements of the given list:"
      ],
      "metadata": {
        "id": "X7gfyBrd9oQO"
      }
    },
    {
      "cell_type": "code",
      "source": [
        "# Given list\n",
        "numbers = [2, 4, 6, 8, 10, 12, 14, 16, 18, 20]\n",
        "\n",
        "# Get an iterator object\n",
        "iter_obj = iter(numbers)\n",
        "\n",
        "# Use the next() method to print the first five elements\n",
        "for _ in range(5):\n",
        "    print(next(iter_obj))"
      ],
      "metadata": {
        "colab": {
          "base_uri": "https://localhost:8080/"
        },
        "id": "qjq0X7EF8R2_",
        "outputId": "bef7ff42-7693-4682-849a-b8435b878420"
      },
      "execution_count": 4,
      "outputs": [
        {
          "output_type": "stream",
          "name": "stdout",
          "text": [
            "2\n",
            "4\n",
            "6\n",
            "8\n",
            "10\n"
          ]
        }
      ]
    },
    {
      "cell_type": "markdown",
      "source": [
        "# Q4. What is a generator function in Python?\n",
        "A generator function is a special type of function in Python that returns an iterator (called a generator) which yields values one at a time, allowing for efficient memory usage and processing of large datasets. Instead of returning all values at once (as in a normal function), it yields values as they are needed.\n",
        "\n",
        "Why is the yield keyword used?\n",
        "The yield keyword is used in generator functions to pause the function's execution and return a value to the caller, while maintaining the function's state. When the generator's __next__() method is called, the function resumes from where it left off (right after the yield), rather than starting from the beginning.\n",
        "\n",
        "Example of a generator function:"
      ],
      "metadata": {
        "id": "ZRsJTj_s-Cum"
      }
    },
    {
      "cell_type": "code",
      "source": [
        "def odd_numbers_gen(limit):\n",
        "    for num in range(1, limit + 1):\n",
        "        if num % 2 != 0:\n",
        "            yield num  # yield pauses and returns each odd number\n",
        "\n",
        "# Create a generator object\n",
        "odd_gen = odd_numbers_gen(15)\n",
        "\n",
        "# Use a for loop to iterate through the generator and print values\n",
        "for odd in odd_gen:\n",
        "    print(odd)"
      ],
      "metadata": {
        "colab": {
          "base_uri": "https://localhost:8080/"
        },
        "id": "2J_QnjY3-E3A",
        "outputId": "730a6f22-0407-4f63-9806-b3f0fb0bda29"
      },
      "execution_count": 6,
      "outputs": [
        {
          "output_type": "stream",
          "name": "stdout",
          "text": [
            "1\n",
            "3\n",
            "5\n",
            "7\n",
            "9\n",
            "11\n",
            "13\n",
            "15\n"
          ]
        }
      ]
    },
    {
      "cell_type": "markdown",
      "source": [
        "# Q5. Create a generator function for prime numbers less than 1000. Use the next() method to print the\n",
        "first 20 prime numbers.\n",
        "ChatGPT said:\n",
        "ChatGPT\n",
        "Here’s a generator function to yield prime numbers less than 1000, and an example using the next() method to print the first 20 prime numbers:\n",
        "\n",
        "Generator Function for Prime Numbers:"
      ],
      "metadata": {
        "id": "tquJVzXz-Woz"
      }
    },
    {
      "cell_type": "code",
      "source": [
        "def prime_numbers():\n",
        "    for num in range(2, 1000):\n",
        "        is_prime = True\n",
        "        for i in range(2, int(num ** 0.5) + 1):\n",
        "            if num % i == 0:\n",
        "                is_prime = False\n",
        "                break\n",
        "        if is_prime:\n",
        "            yield num  # Yield the prime number when found\n",
        "\n",
        "# Create a generator object\n",
        "prime_gen = prime_numbers()\n",
        "\n",
        "# Use the next() method to print the first 20 prime numbers\n",
        "for _ in range(20):\n",
        "    print(next(prime_gen))"
      ],
      "metadata": {
        "colab": {
          "base_uri": "https://localhost:8080/"
        },
        "id": "-hjyV8gr-5gI",
        "outputId": "6fd42e2e-575f-4c26-809f-3a09685cea28"
      },
      "execution_count": 7,
      "outputs": [
        {
          "output_type": "stream",
          "name": "stdout",
          "text": [
            "2\n",
            "3\n",
            "5\n",
            "7\n",
            "11\n",
            "13\n",
            "17\n",
            "19\n",
            "23\n",
            "29\n",
            "31\n",
            "37\n",
            "41\n",
            "43\n",
            "47\n",
            "53\n",
            "59\n",
            "61\n",
            "67\n",
            "71\n"
          ]
        }
      ]
    },
    {
      "cell_type": "markdown",
      "source": [
        "# Q6. Write a python program to print the first 10 Fibonacci numbers using a while loop.\n",
        "ChatGPT said:\n",
        "ChatGPT\n",
        "Here’s a Python program to print the first 10 Fibonacci numbers using a while loop:\n",
        "\n",
        "Python Program:"
      ],
      "metadata": {
        "id": "9UsilkFg_Qka"
      }
    },
    {
      "cell_type": "code",
      "source": [
        "# Initialize the first two Fibonacci numbers\n",
        "a, b = 0, 1\n",
        "count = 0\n",
        "n = 10  # Number of Fibonacci numbers to print\n",
        "\n",
        "# Use a while loop to print the first 10 Fibonacci numbers\n",
        "while count < n:\n",
        "    print(a)\n",
        "    a, b = b, a + b  # Update the values of a and b\n",
        "    count += 1"
      ],
      "metadata": {
        "colab": {
          "base_uri": "https://localhost:8080/"
        },
        "id": "j7bAvE6j_kIn",
        "outputId": "06a9ad51-3b2a-4a54-fe5b-7a0a911cf5a6"
      },
      "execution_count": 8,
      "outputs": [
        {
          "output_type": "stream",
          "name": "stdout",
          "text": [
            "0\n",
            "1\n",
            "1\n",
            "2\n",
            "3\n",
            "5\n",
            "8\n",
            "13\n",
            "21\n",
            "34\n"
          ]
        }
      ]
    },
    {
      "cell_type": "markdown",
      "source": [
        "# Q7. Write a List Comprehension to iterate through the given string: ‘pwskills’.\n",
        "Expected output: ['p', 'w', 's', 'k', 'i', 'l', 'l', 's']\n",
        "ChatGPT said:\n",
        "ChatGPT\n",
        "Here’s a List Comprehension to iterate through the given string 'pwskills' and produce the expected output:\n",
        "\n",
        "Python Code:"
      ],
      "metadata": {
        "id": "QZpqYJhn_12R"
      }
    },
    {
      "cell_type": "code",
      "source": [
        "# Given string\n",
        "string = 'pwskills'\n",
        "\n",
        "# List comprehension to iterate through the string\n",
        "result = [char for char in string if char != ' ']\n",
        "\n",
        "# Print the result\n",
        "print(result)"
      ],
      "metadata": {
        "colab": {
          "base_uri": "https://localhost:8080/"
        },
        "id": "tjrW8fWqAH3C",
        "outputId": "f48e37ba-d651-401e-bd26-9eeefc9c93fa"
      },
      "execution_count": 9,
      "outputs": [
        {
          "output_type": "stream",
          "name": "stdout",
          "text": [
            "['p', 'w', 's', 'k', 'i', 'l', 'l', 's']\n"
          ]
        }
      ]
    },
    {
      "cell_type": "markdown",
      "source": [
        "# Q8. Write a python program to check whether a given number is Palindrome or not using a while loop.\n",
        "ChatGPT said:\n",
        "ChatGPT\n",
        "Here’s a Python program to check whether a given number is a palindrome using a while loop:\n",
        "\n",
        "Python Program:"
      ],
      "metadata": {
        "id": "1watIlIFARIy"
      }
    },
    {
      "cell_type": "code",
      "source": [
        "# Function to check if a number is a palindrome\n",
        "def is_palindrome(num):\n",
        "    original_num = num  # Store the original number\n",
        "    reverse_num = 0\n",
        "\n",
        "    # Reverse the number using a while loop\n",
        "    while num > 0:\n",
        "        digit = num % 10  # Get the last digit\n",
        "        reverse_num = reverse_num * 10 + digit  # Build the reverse number\n",
        "        num = num // 10  # Remove the last digit\n",
        "\n",
        "    # Check if the original number is equal to the reversed number\n",
        "    return original_num == reverse_num\n",
        "\n",
        "# Input: number to check\n",
        "number = int(input(\"Enter a number: \"))\n",
        "\n",
        "# Check if the number is a palindrome\n",
        "if is_palindrome(number):\n",
        "    print(f\"{number} is a palindrome.\")\n",
        "else:\n",
        "    print(f\"{number} is not a palindrome.\")"
      ],
      "metadata": {
        "id": "BP4aOu5KAi5q"
      },
      "execution_count": null,
      "outputs": []
    },
    {
      "cell_type": "markdown",
      "source": [
        "# Q9. Write a code to print odd numbers from 1 to 100 using list comprehension.\n",
        "ChatGPT said:\n",
        "ChatGPT\n",
        "Here’s a Python code to print odd numbers from 1 to 100 using list comprehension:\n",
        "\n",
        "Python Code:"
      ],
      "metadata": {
        "id": "EUny_g0mBXYn"
      }
    },
    {
      "cell_type": "code",
      "source": [
        "# List comprehension to get odd numbers from 1 to 100\n",
        "odd_numbers = [num for num in range(1, 101) if num % 2 != 0]\n",
        "\n",
        "# Print the list of odd numbers\n",
        "print(odd_numbers)"
      ],
      "metadata": {
        "id": "x3anG5_WBu5T"
      },
      "execution_count": null,
      "outputs": []
    }
  ]
}