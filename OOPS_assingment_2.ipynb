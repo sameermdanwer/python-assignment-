{
  "nbformat": 4,
  "nbformat_minor": 0,
  "metadata": {
    "colab": {
      "provenance": [],
      "authorship_tag": "ABX9TyO9tdtS/odLNOXhLm6xrj09",
      "include_colab_link": true
    },
    "kernelspec": {
      "name": "python3",
      "display_name": "Python 3"
    },
    "language_info": {
      "name": "python"
    }
  },
  "cells": [
    {
      "cell_type": "markdown",
      "metadata": {
        "id": "view-in-github",
        "colab_type": "text"
      },
      "source": [
        "<a href=\"https://colab.research.google.com/github/sameermdanwer/python-assignment-/blob/main/OOPS_assingment_2.ipynb\" target=\"_parent\"><img src=\"https://colab.research.google.com/assets/colab-badge.svg\" alt=\"Open In Colab\"/></a>"
      ]
    },
    {
      "cell_type": "markdown",
      "source": [
        "# Q1. What is Abstraction in OOps? Explain with an example.\n",
        "\n",
        "Abstraction in OOP:\n",
        "Abstraction is one of the four fundamental principles of Object-Oriented Programming (OOP). It is the concept of hiding the internal details of how something works and only exposing the necessary and essential features to the outside world. The primary goal of abstraction is to simplify complexity by focusing on what an object does rather than how it achieves it.\n",
        "\n",
        "In other words, abstraction allows you to interact with objects at a higher level without needing to understand the complexities of their internal workings.\n",
        "\n",
        "# Key Points:\n",
        "# 1 Hides implementation details: Abstraction hides the unnecessary details and shows only what is relevant for the user.\n",
        "# 2 Improves code maintainability: By reducing complexity, it makes the code easier to maintain and update.\n",
        "# 3 Focus on interfaces: Users of an abstracted object only need to know what methods are available, not how they are implemented.\n",
        "# Example of Abstraction in Python:\n",
        "Let's create an example using an abstract class in Python. Python provides the abc module (Abstract Base Classes) to create abstract methods and classes"
      ],
      "metadata": {
        "id": "aI_DLPOn-OcU"
      }
    },
    {
      "cell_type": "code",
      "source": [
        "from abc import ABC, abstractmethod\n",
        "\n",
        "# Abstract class\n",
        "class Vehicle(ABC):\n",
        "\n",
        "    # Abstract method (must be implemented by subclasses)\n",
        "    @abstractmethod\n",
        "    def start(self):\n",
        "        pass\n",
        "\n",
        "    # Abstract method (must be implemented by subclasses)\n",
        "    @abstractmethod\n",
        "    def stop(self):\n",
        "        pass\n",
        "\n",
        "# Subclass of Vehicle implementing abstract methods\n",
        "class Car(Vehicle):\n",
        "\n",
        "    def start(self):\n",
        "        return \"Car engine starts with a key.\"\n",
        "\n",
        "    def stop(self):\n",
        "        return \"Car comes to a halt when brakes are applied.\"\n",
        "\n",
        "# Subclass of Vehicle implementing abstract methods\n",
        "class Bike(Vehicle):\n",
        "\n",
        "    def start(self):\n",
        "        return \"Bike engine starts with a kick or button.\"\n",
        "\n",
        "    def stop(self):\n",
        "        return \"Bike stops when brakes are applied.\"\n",
        "\n",
        "# Using the classes\n",
        "car = Car()\n",
        "bike = Bike()\n",
        "\n",
        "print(car.start())  # Output: Car engine starts with a key.\n",
        "print(car.stop())   # Output: Car comes to a halt when brakes are applied.\n",
        "print(bike.start()) # Output: Bike engine starts with a kick or button.\n",
        "print(bike.stop())  # Output: Bike stops when brakes are applied."
      ],
      "metadata": {
        "colab": {
          "base_uri": "https://localhost:8080/"
        },
        "id": "Xr7A734n-T69",
        "outputId": "57b3c06c-b728-4640-fe12-c79fc7a08785"
      },
      "execution_count": 1,
      "outputs": [
        {
          "output_type": "stream",
          "name": "stdout",
          "text": [
            "Car engine starts with a key.\n",
            "Car comes to a halt when brakes are applied.\n",
            "Bike engine starts with a kick or button.\n",
            "Bike stops when brakes are applied.\n"
          ]
        }
      ]
    },
    {
      "cell_type": "markdown",
      "source": [
        "# Explanation:\n",
        "\n",
        "Abstract Class (Vehicle): The Vehicle class is an abstract class. It contains two abstract methods, start() and stop(), which must be implemented by any class that inherits from Vehicle.\n",
        "\n",
        "Concrete Subclasses (Car and Bike): Both Car and Bike classes are concrete implementations of the abstract Vehicle class. They provide specific implementations for the start() and stop() methods.\n",
        "\n",
        "Abstraction: The user of the Car or Bike class only needs to know that they can call start() and stop(). They don’t need to understand how the vehicle starts or stops internally."
      ],
      "metadata": {
        "id": "aEyBS7zj-eGz"
      }
    },
    {
      "cell_type": "markdown",
      "source": [
        "# Q2. Differentiate between Abstraction and Encapsulation. Explain with an example.\n",
        "\n",
        "Difference Between Abstraction and Encapsulation:\n",
        "Both abstraction and encapsulation are key principles in Object-Oriented Programming (OOP), but they serve different purposes.\n",
        "\n",
        "Aspect\tAbstraction\tEncapsulation\n",
        "Definition\tAbstraction is the process of hiding the implementation details and showing only the essential features or functionality of an object.\tEncapsulation is the technique of bundling data (variables) and methods (functions) that operate on the data into a single unit or class.\n",
        "Purpose\tFocuses on hiding complexity and exposing only the necessary part of the system.\tFocuses on data protection by restricting direct access to an object's data and only allowing it through controlled methods (getters/setters).\n",
        "Access\tConcerned with providing a simplified interface and hiding complex implementation details from the user.\tConcerned with restricting access to the internal state of an object and controlling access via public methods.\n",
        "Implementation\tAchieved through abstract classes and interfaces.\tAchieved through access modifiers like private, protected, and public, and using getter/setter methods.\n",
        "Key Concept\t\"What\" an object does (interface) without showing \"how\" it does it (implementation).\t\"How\" data and methods are packaged together, ensuring data integrity and security by hiding it from outside access.\n",
        "Example\tRemote control to a TV (user can operate without knowing how it works internally).\tPrivate data members and public methods in a class that restrict direct access to data."
      ],
      "metadata": {
        "id": "VfYbsyqiATRd"
      }
    },
    {
      "cell_type": "code",
      "source": [
        "from abc import ABC, abstractmethod\n",
        "\n",
        "# Abstract class\n",
        "class Shape(ABC):\n",
        "\n",
        "    @abstractmethod\n",
        "    def area(self):\n",
        "        pass\n",
        "\n",
        "    @abstractmethod\n",
        "    def perimeter(self):\n",
        "        pass\n",
        "\n",
        "# Subclass of Shape implementing abstract methods\n",
        "class Circle(Shape):\n",
        "\n",
        "    def __init__(self, radius):\n",
        "        self.radius = radius\n",
        "\n",
        "    def area(self):\n",
        "        return 3.14 * self.radius * self.radius\n",
        "\n",
        "    def perimeter(self):\n",
        "        return 2 * 3.14 * self.radius\n",
        "\n",
        "# Subclass of Shape implementing abstract methods\n",
        "class Rectangle(Shape):\n",
        "\n",
        "    def __init__(self, length, width):\n",
        "        self.length = length\n",
        "        self.width = width\n",
        "\n",
        "    def area(self):\n",
        "        return self.length * self.width\n",
        "\n",
        "    def perimeter(self):\n",
        "        return 2 * (self.length + self.width)\n",
        "\n",
        "# Using the classes\n",
        "circle = Circle(5)\n",
        "rectangle = Rectangle(4, 6)\n",
        "\n",
        "print(circle.area())        # Output: 78.5\n",
        "print(rectangle.perimeter()) # Output: 20"
      ],
      "metadata": {
        "colab": {
          "base_uri": "https://localhost:8080/"
        },
        "id": "9flZFGVx-clF",
        "outputId": "0789dee9-72b1-4fd4-e2f1-35bee10f207e"
      },
      "execution_count": 2,
      "outputs": [
        {
          "output_type": "stream",
          "name": "stdout",
          "text": [
            "78.5\n",
            "20\n"
          ]
        }
      ]
    },
    {
      "cell_type": "markdown",
      "source": [
        "# Explanation:\n",
        "\n",
        "Abstraction: The user does not need to know the inner details of how the Circle and Rectangle compute their area or perimeter. They just need to know that they can call the area() and perimeter() methods.\n"
      ],
      "metadata": {
        "id": "414Dp56DA4Q0"
      }
    },
    {
      "cell_type": "markdown",
      "source": [
        "# Example for Encapsulation:"
      ],
      "metadata": {
        "id": "I6Uj1bG-BKy6"
      }
    },
    {
      "cell_type": "code",
      "source": [
        "class Employee:\n",
        "    def __init__(self, name, salary):\n",
        "        self.__name = name           # Private variable\n",
        "        self.__salary = salary       # Private variable\n",
        "\n",
        "    # Getter method to access the private variable\n",
        "    def get_salary(self):\n",
        "        return self.__salary\n",
        "\n",
        "    # Setter method to modify the private variable\n",
        "    def set_salary(self, salary):\n",
        "        if salary > 0:\n",
        "            self.__salary = salary\n",
        "        else:\n",
        "            raise ValueError(\"Salary must be positive\")\n",
        "\n",
        "    # Public method\n",
        "    def display_employee(self):\n",
        "        return f\"Employee Name: {self.__name}, Salary: {self.__salary}\"\n",
        "\n",
        "# Creating an object of the Employee class\n",
        "employee = Employee(\"John\", 50000)\n",
        "\n",
        "# Accessing public methods\n",
        "print(employee.display_employee())   # Output: Employee Name: John, Salary: 50000\n",
        "\n",
        "# Changing salary using setter\n",
        "employee.set_salary(55000)\n",
        "print(employee.get_salary())         # Output: 55000\n",
        "\n",
        "# Trying to access private variable directly (will raise an error)\n",
        "# print(employee.__salary)           # AttributeError"
      ],
      "metadata": {
        "colab": {
          "base_uri": "https://localhost:8080/"
        },
        "id": "k0dkqCIqBMr6",
        "outputId": "b1682ae5-b27c-4fed-fd12-881b9001c0ac"
      },
      "execution_count": 3,
      "outputs": [
        {
          "output_type": "stream",
          "name": "stdout",
          "text": [
            "Employee Name: John, Salary: 50000\n",
            "55000\n"
          ]
        }
      ]
    },
    {
      "cell_type": "markdown",
      "source": [
        "# Q3. What is abc module in python? Why is it used?\n",
        "\n",
        "# The abc Module in Python\n",
        "The abc module in Python stands for Abstract Base Classes. It is a part of the standard library and is used to define abstract base classes that can enforce certain behaviors in derived classes. Abstract base classes provide a way to define a common interface for a group of related classes while allowing subclasses to provide their specific implementations.\n",
        "\n",
        "# Purpose of the abc Module:\n",
        "\n",
        "1 Define Abstract Base Classes:\n",
        " It allows you to define abstract classes, which can have abstract methods that must be implemented by any subclass that inherits from the abstract class.\n",
        "\n",
        "2 Interface Enforcement: By using abstract base classes, you can enforce that derived classes implement specific methods, thereby ensuring a consistent interface across multiple implementations.\n",
        "\n",
        "3 Promote Code Reusability: Abstract base classes allow you to define common methods and properties in one place, promoting code reuse and reducing redundancy.\n",
        "\n",
        "4 Type Checking: The abc module provides a way to perform type checks at runtime. You can check whether a class is a subclass of an abstract base class, ensuring that it follows the specified interface."
      ],
      "metadata": {
        "id": "8YDPJFCcBvcL"
      }
    },
    {
      "cell_type": "code",
      "source": [
        "from abc import ABC, abstractmethod\n",
        "\n",
        "# Abstract base class\n",
        "class Shape(ABC):\n",
        "\n",
        "    @abstractmethod\n",
        "    def area(self):\n",
        "        pass\n",
        "\n",
        "    @abstractmethod\n",
        "    def perimeter(self):\n",
        "        pass\n",
        "\n",
        "# Concrete class implementing abstract methods\n",
        "class Circle(Shape):\n",
        "\n",
        "    def __init__(self, radius):\n",
        "        self.radius = radius\n",
        "\n",
        "    def area(self):\n",
        "        return 3.14 * self.radius * self.radius\n",
        "\n",
        "    def perimeter(self):\n",
        "        return 2 * 3.14 * self.radius\n",
        "\n",
        "# Concrete class implementing abstract methods\n",
        "class Rectangle(Shape):\n",
        "\n",
        "    def __init__(self, length, width):\n",
        "        self.length = length\n",
        "        self.width = width\n",
        "\n",
        "    def area(self):\n",
        "        return self.length * self.width\n",
        "\n",
        "    def perimeter(self):\n",
        "        return 2 * (self.length + self.width)\n",
        "\n",
        "# Using the classes\n",
        "circle = Circle(5)\n",
        "rectangle = Rectangle(4, 6)\n",
        "\n",
        "print(f\"Circle Area: {circle.area()}\")            # Output: Circle Area: 78.5\n",
        "print(f\"Rectangle Area: {rectangle.area()}\")      # Output: Rectangle Area: 24\n",
        "print(f\"Circle Perimeter: {circle.perimeter()}\")  # Output: Circle Perimeter: 31.400000000000002\n",
        "print(f\"Rectangle Perimeter: {rectangle.perimeter()}\")  # Output: Rectangle Perimeter: 20"
      ],
      "metadata": {
        "colab": {
          "base_uri": "https://localhost:8080/"
        },
        "id": "KeCR-ZjeCI0r",
        "outputId": "ac676679-8b59-4cba-829e-ba8b1fd046be"
      },
      "execution_count": 4,
      "outputs": [
        {
          "output_type": "stream",
          "name": "stdout",
          "text": [
            "Circle Area: 78.5\n",
            "Rectangle Area: 24\n",
            "Circle Perimeter: 31.400000000000002\n",
            "Rectangle Perimeter: 20\n"
          ]
        }
      ]
    },
    {
      "cell_type": "markdown",
      "source": [
        "# Q4. How can we achieve data abstraction?\n",
        "\n",
        "Data abstraction in Object-Oriented Programming (OOP) is the concept of hiding the implementation details of a data structure or class and exposing only the necessary parts to the user. This allows users to interact with the data without needing to understand its complexities, leading to simpler and more maintainable code.\n",
        "\n",
        "# Ways to Achieve Data Abstraction:\n",
        "1 Abstract Classes:\n",
        "\n",
        "Definition: Abstract classes can define abstract methods that must be implemented by any subclass.\n",
        "Implementation: Use the abc module in Python to create abstract base classes with abstract methods."
      ],
      "metadata": {
        "id": "Jd1qhM42CT8c"
      }
    },
    {
      "cell_type": "code",
      "source": [
        "from abc import ABC, abstractmethod\n",
        "\n",
        "class Vehicle(ABC):\n",
        "    @abstractmethod\n",
        "    def start_engine(self):\n",
        "        pass\n",
        "\n",
        "class Car(Vehicle):\n",
        "    def start_engine(self):\n",
        "        return \"Car engine starts.\"\n",
        "\n",
        "class Bike(Vehicle):\n",
        "    def start_engine(self):\n",
        "        return \"Bike engine starts.\"\n",
        "\n",
        "# Usage\n",
        "my_car = Car()\n",
        "print(my_car.start_engine())  # Output: Car engine starts."
      ],
      "metadata": {
        "colab": {
          "base_uri": "https://localhost:8080/"
        },
        "id": "mooMYa5vC1-6",
        "outputId": "a9314355-1b91-408d-edae-42f56c17761c"
      },
      "execution_count": 5,
      "outputs": [
        {
          "output_type": "stream",
          "name": "stdout",
          "text": [
            "Car engine starts.\n"
          ]
        }
      ]
    },
    {
      "cell_type": "markdown",
      "source": [
        "# Q5. Can we create an instance of an abstract class? Explain your answer.\n",
        "\n",
        "No, you cannot create an instance of an abstract class in Python. Abstract classes are designed to serve as blueprints for other classes, and they typically contain one or more abstract methods that must be implemented by any subclass that inherits from them.\n",
        "\n",
        "# Explanation:\n",
        "\n",
        " 1 Definition of Abstract Class:\n",
        "\n",
        "An abstract class is a class that cannot be instantiated directly and is meant to be subclassed. It usually includes abstract methods (methods without implementation) that must be overridden in derived classes.\n",
        "\n",
        " 2 Purpose:\n",
        "\n",
        "The primary purpose of an abstract class is to define a common interface for a group of related classes while allowing the subclasses to implement the specific behaviors.\n",
        "\n",
        "3 Attempting to Instantiate:\n",
        "\n",
        "If you try to create an instance of an abstract class, Python will raise a TypeError, indicating that you cannot instantiate an abstract class."
      ],
      "metadata": {
        "id": "UqpKUbt7DLdp"
      }
    },
    {
      "cell_type": "code",
      "source": [
        "from abc import ABC, abstractmethod\n",
        "\n",
        "# Abstract class\n",
        "class Shape(ABC):\n",
        "\n",
        "    @abstractmethod\n",
        "    def area(self):\n",
        "        pass\n",
        "\n",
        "    @abstractmethod\n",
        "    def perimeter(self):\n",
        "        pass\n",
        "\n",
        "# Concrete class implementing abstract methods\n",
        "class Circle(Shape):\n",
        "\n",
        "    def __init__(self, radius):\n",
        "        self.radius = radius\n",
        "\n",
        "    def area(self):\n",
        "        return 3.14 * self.radius * self.radius\n",
        "\n",
        "    def perimeter(self):\n",
        "        return 2 * 3.14 * self.radius\n",
        "\n",
        "# Attempting to create an instance of the abstract class\n",
        "try:\n",
        "    shape = Shape()  # This will raise an error\n",
        "except TypeError as e:\n",
        "    print(f\"Error: {e}\")  # Output: Error: Can't instantiate abstract class Shape with abstract methods area, perimeter\n",
        "\n",
        "# Creating an instance of the concrete class\n",
        "circle = Circle(5)\n",
        "print(f\"Circle Area: {circle.area()}\")         # Output: Circle Area: 78.5\n",
        "print(f\"Circle Perimeter: {circle.perimeter()}\")  # Output: Circle Perimeter: 31.400000000000002"
      ],
      "metadata": {
        "colab": {
          "base_uri": "https://localhost:8080/"
        },
        "id": "YeHzX5BJDkrs",
        "outputId": "8186ddd1-5762-4fea-b006-ce2d35575e3d"
      },
      "execution_count": 6,
      "outputs": [
        {
          "output_type": "stream",
          "name": "stdout",
          "text": [
            "Error: Can't instantiate abstract class Shape with abstract methods area, perimeter\n",
            "Circle Area: 78.5\n",
            "Circle Perimeter: 31.400000000000002\n"
          ]
        }
      ]
    }
  ]
}