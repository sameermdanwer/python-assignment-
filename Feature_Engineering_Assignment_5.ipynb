{
  "nbformat": 4,
  "nbformat_minor": 0,
  "metadata": {
    "colab": {
      "provenance": [],
      "authorship_tag": "ABX9TyOIcmHFZj8Dxs/oU9CpCBDv",
      "include_colab_link": true
    },
    "kernelspec": {
      "name": "python3",
      "display_name": "Python 3"
    },
    "language_info": {
      "name": "python"
    }
  },
  "cells": [
    {
      "cell_type": "markdown",
      "metadata": {
        "id": "view-in-github",
        "colab_type": "text"
      },
      "source": [
        "<a href=\"https://colab.research.google.com/github/sameermdanwer/python-assignment-/blob/main/Feature_Engineering_Assignment_5.ipynb\" target=\"_parent\"><img src=\"https://colab.research.google.com/assets/colab-badge.svg\" alt=\"Open In Colab\"/></a>"
      ]
    },
    {
      "cell_type": "markdown",
      "source": [
        "# Q1. Pearson correlation coefficient is a measure of the linear relationship between two variables. Suppose\n",
        "you have collected data on the amount of time students spend studying for an exam and their final exam\n",
        "scores. Calculate the Pearson correlation coefficient between these two variables and interpret the result\n",
        "\n",
        "\n",
        "to calculate the Pearson correlation coefficient between two variables, such as the amount of time students spend studying for an exam and their final exam scores, you can follow these steps:\n",
        "\n",
        "# Step 1: Collect Sample Data\n",
        "Let's create a hypothetical dataset for demonstration. We will assume we have collected data on the amount of time (in hours) that students studied for the exam and their corresponding scores (out of 100).\n",
        "\n",
        "Sample Data"
      ],
      "metadata": {
        "id": "5gKyXQr0GG2T"
      }
    },
    {
      "cell_type": "code",
      "source": [
        "import pandas as pd\n",
        "\n",
        "# Sample data: hours studied and exam scores\n",
        "data = {\n",
        "    'Hours_Studied': [2, 3, 5, 1, 4, 6, 3, 5, 7, 8],\n",
        "    'Exam_Score': [50, 60, 80, 40, 70, 90, 55, 85, 95, 100]\n",
        "}\n",
        "\n",
        "# Create a DataFrame\n",
        "df = pd.DataFrame(data)\n",
        "\n",
        "# Display the DataFrame\n",
        "df\n"
      ],
      "metadata": {
        "colab": {
          "base_uri": "https://localhost:8080/",
          "height": 363
        },
        "id": "f3Lyiki3Gj3w",
        "outputId": "7614ff65-8613-44dd-dd0a-f707b669f147"
      },
      "execution_count": 1,
      "outputs": [
        {
          "output_type": "execute_result",
          "data": {
            "text/plain": [
              "   Hours_Studied  Exam_Score\n",
              "0              2          50\n",
              "1              3          60\n",
              "2              5          80\n",
              "3              1          40\n",
              "4              4          70\n",
              "5              6          90\n",
              "6              3          55\n",
              "7              5          85\n",
              "8              7          95\n",
              "9              8         100"
            ],
            "text/html": [
              "\n",
              "  <div id=\"df-41b83e80-fcd1-4379-9f0c-c19a9afdca2a\" class=\"colab-df-container\">\n",
              "    <div>\n",
              "<style scoped>\n",
              "    .dataframe tbody tr th:only-of-type {\n",
              "        vertical-align: middle;\n",
              "    }\n",
              "\n",
              "    .dataframe tbody tr th {\n",
              "        vertical-align: top;\n",
              "    }\n",
              "\n",
              "    .dataframe thead th {\n",
              "        text-align: right;\n",
              "    }\n",
              "</style>\n",
              "<table border=\"1\" class=\"dataframe\">\n",
              "  <thead>\n",
              "    <tr style=\"text-align: right;\">\n",
              "      <th></th>\n",
              "      <th>Hours_Studied</th>\n",
              "      <th>Exam_Score</th>\n",
              "    </tr>\n",
              "  </thead>\n",
              "  <tbody>\n",
              "    <tr>\n",
              "      <th>0</th>\n",
              "      <td>2</td>\n",
              "      <td>50</td>\n",
              "    </tr>\n",
              "    <tr>\n",
              "      <th>1</th>\n",
              "      <td>3</td>\n",
              "      <td>60</td>\n",
              "    </tr>\n",
              "    <tr>\n",
              "      <th>2</th>\n",
              "      <td>5</td>\n",
              "      <td>80</td>\n",
              "    </tr>\n",
              "    <tr>\n",
              "      <th>3</th>\n",
              "      <td>1</td>\n",
              "      <td>40</td>\n",
              "    </tr>\n",
              "    <tr>\n",
              "      <th>4</th>\n",
              "      <td>4</td>\n",
              "      <td>70</td>\n",
              "    </tr>\n",
              "    <tr>\n",
              "      <th>5</th>\n",
              "      <td>6</td>\n",
              "      <td>90</td>\n",
              "    </tr>\n",
              "    <tr>\n",
              "      <th>6</th>\n",
              "      <td>3</td>\n",
              "      <td>55</td>\n",
              "    </tr>\n",
              "    <tr>\n",
              "      <th>7</th>\n",
              "      <td>5</td>\n",
              "      <td>85</td>\n",
              "    </tr>\n",
              "    <tr>\n",
              "      <th>8</th>\n",
              "      <td>7</td>\n",
              "      <td>95</td>\n",
              "    </tr>\n",
              "    <tr>\n",
              "      <th>9</th>\n",
              "      <td>8</td>\n",
              "      <td>100</td>\n",
              "    </tr>\n",
              "  </tbody>\n",
              "</table>\n",
              "</div>\n",
              "    <div class=\"colab-df-buttons\">\n",
              "\n",
              "  <div class=\"colab-df-container\">\n",
              "    <button class=\"colab-df-convert\" onclick=\"convertToInteractive('df-41b83e80-fcd1-4379-9f0c-c19a9afdca2a')\"\n",
              "            title=\"Convert this dataframe to an interactive table.\"\n",
              "            style=\"display:none;\">\n",
              "\n",
              "  <svg xmlns=\"http://www.w3.org/2000/svg\" height=\"24px\" viewBox=\"0 -960 960 960\">\n",
              "    <path d=\"M120-120v-720h720v720H120Zm60-500h600v-160H180v160Zm220 220h160v-160H400v160Zm0 220h160v-160H400v160ZM180-400h160v-160H180v160Zm440 0h160v-160H620v160ZM180-180h160v-160H180v160Zm440 0h160v-160H620v160Z\"/>\n",
              "  </svg>\n",
              "    </button>\n",
              "\n",
              "  <style>\n",
              "    .colab-df-container {\n",
              "      display:flex;\n",
              "      gap: 12px;\n",
              "    }\n",
              "\n",
              "    .colab-df-convert {\n",
              "      background-color: #E8F0FE;\n",
              "      border: none;\n",
              "      border-radius: 50%;\n",
              "      cursor: pointer;\n",
              "      display: none;\n",
              "      fill: #1967D2;\n",
              "      height: 32px;\n",
              "      padding: 0 0 0 0;\n",
              "      width: 32px;\n",
              "    }\n",
              "\n",
              "    .colab-df-convert:hover {\n",
              "      background-color: #E2EBFA;\n",
              "      box-shadow: 0px 1px 2px rgba(60, 64, 67, 0.3), 0px 1px 3px 1px rgba(60, 64, 67, 0.15);\n",
              "      fill: #174EA6;\n",
              "    }\n",
              "\n",
              "    .colab-df-buttons div {\n",
              "      margin-bottom: 4px;\n",
              "    }\n",
              "\n",
              "    [theme=dark] .colab-df-convert {\n",
              "      background-color: #3B4455;\n",
              "      fill: #D2E3FC;\n",
              "    }\n",
              "\n",
              "    [theme=dark] .colab-df-convert:hover {\n",
              "      background-color: #434B5C;\n",
              "      box-shadow: 0px 1px 3px 1px rgba(0, 0, 0, 0.15);\n",
              "      filter: drop-shadow(0px 1px 2px rgba(0, 0, 0, 0.3));\n",
              "      fill: #FFFFFF;\n",
              "    }\n",
              "  </style>\n",
              "\n",
              "    <script>\n",
              "      const buttonEl =\n",
              "        document.querySelector('#df-41b83e80-fcd1-4379-9f0c-c19a9afdca2a button.colab-df-convert');\n",
              "      buttonEl.style.display =\n",
              "        google.colab.kernel.accessAllowed ? 'block' : 'none';\n",
              "\n",
              "      async function convertToInteractive(key) {\n",
              "        const element = document.querySelector('#df-41b83e80-fcd1-4379-9f0c-c19a9afdca2a');\n",
              "        const dataTable =\n",
              "          await google.colab.kernel.invokeFunction('convertToInteractive',\n",
              "                                                    [key], {});\n",
              "        if (!dataTable) return;\n",
              "\n",
              "        const docLinkHtml = 'Like what you see? Visit the ' +\n",
              "          '<a target=\"_blank\" href=https://colab.research.google.com/notebooks/data_table.ipynb>data table notebook</a>'\n",
              "          + ' to learn more about interactive tables.';\n",
              "        element.innerHTML = '';\n",
              "        dataTable['output_type'] = 'display_data';\n",
              "        await google.colab.output.renderOutput(dataTable, element);\n",
              "        const docLink = document.createElement('div');\n",
              "        docLink.innerHTML = docLinkHtml;\n",
              "        element.appendChild(docLink);\n",
              "      }\n",
              "    </script>\n",
              "  </div>\n",
              "\n",
              "\n",
              "<div id=\"df-b26419e9-7e09-4dfb-84d7-9a6a03406392\">\n",
              "  <button class=\"colab-df-quickchart\" onclick=\"quickchart('df-b26419e9-7e09-4dfb-84d7-9a6a03406392')\"\n",
              "            title=\"Suggest charts\"\n",
              "            style=\"display:none;\">\n",
              "\n",
              "<svg xmlns=\"http://www.w3.org/2000/svg\" height=\"24px\"viewBox=\"0 0 24 24\"\n",
              "     width=\"24px\">\n",
              "    <g>\n",
              "        <path d=\"M19 3H5c-1.1 0-2 .9-2 2v14c0 1.1.9 2 2 2h14c1.1 0 2-.9 2-2V5c0-1.1-.9-2-2-2zM9 17H7v-7h2v7zm4 0h-2V7h2v10zm4 0h-2v-4h2v4z\"/>\n",
              "    </g>\n",
              "</svg>\n",
              "  </button>\n",
              "\n",
              "<style>\n",
              "  .colab-df-quickchart {\n",
              "      --bg-color: #E8F0FE;\n",
              "      --fill-color: #1967D2;\n",
              "      --hover-bg-color: #E2EBFA;\n",
              "      --hover-fill-color: #174EA6;\n",
              "      --disabled-fill-color: #AAA;\n",
              "      --disabled-bg-color: #DDD;\n",
              "  }\n",
              "\n",
              "  [theme=dark] .colab-df-quickchart {\n",
              "      --bg-color: #3B4455;\n",
              "      --fill-color: #D2E3FC;\n",
              "      --hover-bg-color: #434B5C;\n",
              "      --hover-fill-color: #FFFFFF;\n",
              "      --disabled-bg-color: #3B4455;\n",
              "      --disabled-fill-color: #666;\n",
              "  }\n",
              "\n",
              "  .colab-df-quickchart {\n",
              "    background-color: var(--bg-color);\n",
              "    border: none;\n",
              "    border-radius: 50%;\n",
              "    cursor: pointer;\n",
              "    display: none;\n",
              "    fill: var(--fill-color);\n",
              "    height: 32px;\n",
              "    padding: 0;\n",
              "    width: 32px;\n",
              "  }\n",
              "\n",
              "  .colab-df-quickchart:hover {\n",
              "    background-color: var(--hover-bg-color);\n",
              "    box-shadow: 0 1px 2px rgba(60, 64, 67, 0.3), 0 1px 3px 1px rgba(60, 64, 67, 0.15);\n",
              "    fill: var(--button-hover-fill-color);\n",
              "  }\n",
              "\n",
              "  .colab-df-quickchart-complete:disabled,\n",
              "  .colab-df-quickchart-complete:disabled:hover {\n",
              "    background-color: var(--disabled-bg-color);\n",
              "    fill: var(--disabled-fill-color);\n",
              "    box-shadow: none;\n",
              "  }\n",
              "\n",
              "  .colab-df-spinner {\n",
              "    border: 2px solid var(--fill-color);\n",
              "    border-color: transparent;\n",
              "    border-bottom-color: var(--fill-color);\n",
              "    animation:\n",
              "      spin 1s steps(1) infinite;\n",
              "  }\n",
              "\n",
              "  @keyframes spin {\n",
              "    0% {\n",
              "      border-color: transparent;\n",
              "      border-bottom-color: var(--fill-color);\n",
              "      border-left-color: var(--fill-color);\n",
              "    }\n",
              "    20% {\n",
              "      border-color: transparent;\n",
              "      border-left-color: var(--fill-color);\n",
              "      border-top-color: var(--fill-color);\n",
              "    }\n",
              "    30% {\n",
              "      border-color: transparent;\n",
              "      border-left-color: var(--fill-color);\n",
              "      border-top-color: var(--fill-color);\n",
              "      border-right-color: var(--fill-color);\n",
              "    }\n",
              "    40% {\n",
              "      border-color: transparent;\n",
              "      border-right-color: var(--fill-color);\n",
              "      border-top-color: var(--fill-color);\n",
              "    }\n",
              "    60% {\n",
              "      border-color: transparent;\n",
              "      border-right-color: var(--fill-color);\n",
              "    }\n",
              "    80% {\n",
              "      border-color: transparent;\n",
              "      border-right-color: var(--fill-color);\n",
              "      border-bottom-color: var(--fill-color);\n",
              "    }\n",
              "    90% {\n",
              "      border-color: transparent;\n",
              "      border-bottom-color: var(--fill-color);\n",
              "    }\n",
              "  }\n",
              "</style>\n",
              "\n",
              "  <script>\n",
              "    async function quickchart(key) {\n",
              "      const quickchartButtonEl =\n",
              "        document.querySelector('#' + key + ' button');\n",
              "      quickchartButtonEl.disabled = true;  // To prevent multiple clicks.\n",
              "      quickchartButtonEl.classList.add('colab-df-spinner');\n",
              "      try {\n",
              "        const charts = await google.colab.kernel.invokeFunction(\n",
              "            'suggestCharts', [key], {});\n",
              "      } catch (error) {\n",
              "        console.error('Error during call to suggestCharts:', error);\n",
              "      }\n",
              "      quickchartButtonEl.classList.remove('colab-df-spinner');\n",
              "      quickchartButtonEl.classList.add('colab-df-quickchart-complete');\n",
              "    }\n",
              "    (() => {\n",
              "      let quickchartButtonEl =\n",
              "        document.querySelector('#df-b26419e9-7e09-4dfb-84d7-9a6a03406392 button');\n",
              "      quickchartButtonEl.style.display =\n",
              "        google.colab.kernel.accessAllowed ? 'block' : 'none';\n",
              "    })();\n",
              "  </script>\n",
              "</div>\n",
              "\n",
              "  <div id=\"id_abeec72c-86d8-4645-8af7-d1a531269f4b\">\n",
              "    <style>\n",
              "      .colab-df-generate {\n",
              "        background-color: #E8F0FE;\n",
              "        border: none;\n",
              "        border-radius: 50%;\n",
              "        cursor: pointer;\n",
              "        display: none;\n",
              "        fill: #1967D2;\n",
              "        height: 32px;\n",
              "        padding: 0 0 0 0;\n",
              "        width: 32px;\n",
              "      }\n",
              "\n",
              "      .colab-df-generate:hover {\n",
              "        background-color: #E2EBFA;\n",
              "        box-shadow: 0px 1px 2px rgba(60, 64, 67, 0.3), 0px 1px 3px 1px rgba(60, 64, 67, 0.15);\n",
              "        fill: #174EA6;\n",
              "      }\n",
              "\n",
              "      [theme=dark] .colab-df-generate {\n",
              "        background-color: #3B4455;\n",
              "        fill: #D2E3FC;\n",
              "      }\n",
              "\n",
              "      [theme=dark] .colab-df-generate:hover {\n",
              "        background-color: #434B5C;\n",
              "        box-shadow: 0px 1px 3px 1px rgba(0, 0, 0, 0.15);\n",
              "        filter: drop-shadow(0px 1px 2px rgba(0, 0, 0, 0.3));\n",
              "        fill: #FFFFFF;\n",
              "      }\n",
              "    </style>\n",
              "    <button class=\"colab-df-generate\" onclick=\"generateWithVariable('df')\"\n",
              "            title=\"Generate code using this dataframe.\"\n",
              "            style=\"display:none;\">\n",
              "\n",
              "  <svg xmlns=\"http://www.w3.org/2000/svg\" height=\"24px\"viewBox=\"0 0 24 24\"\n",
              "       width=\"24px\">\n",
              "    <path d=\"M7,19H8.4L18.45,9,17,7.55,7,17.6ZM5,21V16.75L18.45,3.32a2,2,0,0,1,2.83,0l1.4,1.43a1.91,1.91,0,0,1,.58,1.4,1.91,1.91,0,0,1-.58,1.4L9.25,21ZM18.45,9,17,7.55Zm-12,3A5.31,5.31,0,0,0,4.9,8.1,5.31,5.31,0,0,0,1,6.5,5.31,5.31,0,0,0,4.9,4.9,5.31,5.31,0,0,0,6.5,1,5.31,5.31,0,0,0,8.1,4.9,5.31,5.31,0,0,0,12,6.5,5.46,5.46,0,0,0,6.5,12Z\"/>\n",
              "  </svg>\n",
              "    </button>\n",
              "    <script>\n",
              "      (() => {\n",
              "      const buttonEl =\n",
              "        document.querySelector('#id_abeec72c-86d8-4645-8af7-d1a531269f4b button.colab-df-generate');\n",
              "      buttonEl.style.display =\n",
              "        google.colab.kernel.accessAllowed ? 'block' : 'none';\n",
              "\n",
              "      buttonEl.onclick = () => {\n",
              "        google.colab.notebook.generateWithVariable('df');\n",
              "      }\n",
              "      })();\n",
              "    </script>\n",
              "  </div>\n",
              "\n",
              "    </div>\n",
              "  </div>\n"
            ],
            "application/vnd.google.colaboratory.intrinsic+json": {
              "type": "dataframe",
              "variable_name": "df",
              "summary": "{\n  \"name\": \"df\",\n  \"rows\": 10,\n  \"fields\": [\n    {\n      \"column\": \"Hours_Studied\",\n      \"properties\": {\n        \"dtype\": \"number\",\n        \"std\": 2,\n        \"min\": 1,\n        \"max\": 8,\n        \"num_unique_values\": 8,\n        \"samples\": [\n          3,\n          6,\n          2\n        ],\n        \"semantic_type\": \"\",\n        \"description\": \"\"\n      }\n    },\n    {\n      \"column\": \"Exam_Score\",\n      \"properties\": {\n        \"dtype\": \"number\",\n        \"std\": 20,\n        \"min\": 40,\n        \"max\": 100,\n        \"num_unique_values\": 10,\n        \"samples\": [\n          95,\n          60,\n          90\n        ],\n        \"semantic_type\": \"\",\n        \"description\": \"\"\n      }\n    }\n  ]\n}"
            }
          },
          "metadata": {},
          "execution_count": 1
        }
      ]
    },
    {
      "cell_type": "markdown",
      "source": [
        "# Step 2: Calculate the Pearson Correlation Coefficient\n",
        "You can use the pearsonr function from the scipy.stats library or corr() method from pandas to calculate the Pearson correlation coefficient."
      ],
      "metadata": {
        "id": "z4rwcElbGlL6"
      }
    },
    {
      "cell_type": "code",
      "source": [
        "from scipy.stats import pearsonr\n",
        "\n",
        "# Calculate the Pearson correlation coefficient\n",
        "correlation_coefficient, p_value = pearsonr(df['Hours_Studied'], df['Exam_Score'])\n",
        "\n",
        "# Output the results\n",
        "correlation_coefficient, p_value"
      ],
      "metadata": {
        "colab": {
          "base_uri": "https://localhost:8080/"
        },
        "id": "xBUG3_7XGrHr",
        "outputId": "4486e3b3-1cee-4d67-ad2f-5f7b28fb7cfb"
      },
      "execution_count": 2,
      "outputs": [
        {
          "output_type": "execute_result",
          "data": {
            "text/plain": [
              "(0.9843705495500383, 2.5620295223963954e-07)"
            ]
          },
          "metadata": {},
          "execution_count": 2
        }
      ]
    },
    {
      "cell_type": "markdown",
      "source": [
        "# Step 3: Interpret the Result\n",
        "The Pearson correlation coefficient (denoted as ( r )) ranges from (-1.0) to (+1.0):\n",
        "\n",
        "* ( r = +1.0 ) indicates a perfect positive linear relationship.\n",
        "* ( r = -1.0 ) indicates a perfect negative linear relationship.\n",
        "* ( r = 0 ) indicates no linear relationship at all.\n",
        "In our example, if we found a Pearson correlation coefficient of 0.97:\n",
        "\n",
        "1. Strength of the Relationship: This value is very close to +1. It suggests a very strong positive linear relationship between the hours studied and the exam scores. This means that, as students study more hours, their exam scores tend to increase significantly.\n",
        "\n",
        "2. Statistical Significance: The p-value is very low (e.g., 0.0001), indicating that the correlation is statistically significant. This implies that the observed correlation is unlikely to have occurred by random chance.\n",
        "\n"
      ],
      "metadata": {
        "id": "6gMbBWCUGzZR"
      }
    },
    {
      "cell_type": "markdown",
      "source": [
        "# Q2. Spearman's rank correlation is a measure of the monotonic relationship between two variables.\n",
        "Suppose you have collected data on the amount of sleep individuals get each night and their overall job\n",
        "satisfaction level on a scale of 1 to 10. Calculate the Spearman's rank correlation between these two\n",
        "variables and interpret the result.\n",
        "\n",
        "To calculate Spearman's rank correlation coefficient between two variables—such as the amount of sleep individuals get each night and their overall job satisfaction—we can follow these steps:\n",
        "\n",
        "# Step 1: Collect Sample Data\n",
        "Let's assume we have hypothetical data of individuals' nightly sleep hours and their corresponding job satisfaction ratings:\n",
        "\n",
        "*  Sample Data"
      ],
      "metadata": {
        "id": "3UcI7ieMG-e5"
      }
    },
    {
      "cell_type": "code",
      "source": [
        "import pandas as pd\n",
        "\n",
        "# Sample data: hours of sleep and job satisfaction ratings\n",
        "data = {\n",
        "    'Sleep_Hours': [6, 7, 5, 8, 4, 6, 9, 5, 10, 3],\n",
        "    'Job_Satisfaction': [6, 7, 5, 8, 4, 6, 9, 5, 10, 2]\n",
        "}\n",
        "\n",
        "# Create a DataFrame\n",
        "df = pd.DataFrame(data)\n",
        "\n",
        "# Display the DataFrame\n",
        "print(df)"
      ],
      "metadata": {
        "colab": {
          "base_uri": "https://localhost:8080/"
        },
        "id": "5ZauT6m4HTzz",
        "outputId": "9eea5ae4-04e8-4341-ec42-7245db59a123"
      },
      "execution_count": 3,
      "outputs": [
        {
          "output_type": "stream",
          "name": "stdout",
          "text": [
            "   Sleep_Hours  Job_Satisfaction\n",
            "0            6                 6\n",
            "1            7                 7\n",
            "2            5                 5\n",
            "3            8                 8\n",
            "4            4                 4\n",
            "5            6                 6\n",
            "6            9                 9\n",
            "7            5                 5\n",
            "8           10                10\n",
            "9            3                 2\n"
          ]
        }
      ]
    },
    {
      "cell_type": "markdown",
      "source": [
        "# Step 2: Calculate Spearman's Rank Correlation\n",
        "To calculate Spearman's rank correlation, we can use the spearmanr function from the scipy.stats library, or use pandas to compute it directly."
      ],
      "metadata": {
        "id": "GP9L-s9SHXAr"
      }
    },
    {
      "cell_type": "code",
      "source": [
        "from scipy.stats import spearmanr\n",
        "\n",
        "# Calculate Spearman's rank correlation coefficient\n",
        "spearman_corr, p_value = spearmanr(df['Sleep_Hours'], df['Job_Satisfaction'])\n",
        "\n",
        "# Output the results\n",
        "spearman_corr, p_value"
      ],
      "metadata": {
        "colab": {
          "base_uri": "https://localhost:8080/"
        },
        "id": "nbZ03qZxHboj",
        "outputId": "82b608f9-ceaa-403d-e902-4ada21f15c1d"
      },
      "execution_count": 4,
      "outputs": [
        {
          "output_type": "execute_result",
          "data": {
            "text/plain": [
              "(1.0, 0.0)"
            ]
          },
          "metadata": {},
          "execution_count": 4
        }
      ]
    },
    {
      "cell_type": "markdown",
      "source": [
        "# Step 3: Interpret the Result\n",
        "The Spearman's rank correlation coefficient (denoted as ( r_s )) ranges from (-1) to (+1):\n",
        "\n",
        "* ( r_s = +1) indicates a perfect positive monotonic relationship.\n",
        "* ( r_s = -1) indicates a perfect negative monotonic relationship.\n",
        "* ( r_s = 0) indicates no monotonic relationship.\n",
        "In our example, if we found a Spearman's rank correlation coefficient of 0.85:\n",
        "\n",
        "1. Strength of the Relationship: A Spearman correlation of 0.85 indicates a strong positive monotonic relationship between the amount of sleep and job satisfaction. This means that as the number of hours an individual sleeps increases, their job satisfaction tends to increase as well. Unlike Pearson's correlation, Spearman’s method assesses the rank order rather than the actual values, making it more robust to outliers.\n",
        "\n",
        "2. Statistical Significance: The p-value is very low (e.g., 0.001), suggesting that the correlation is statistically significant. This implies that the observed relationship is unlikely to be due to chance."
      ],
      "metadata": {
        "id": "IVIadDAXHe4Y"
      }
    },
    {
      "cell_type": "markdown",
      "source": [
        "# Q3. Suppose you are conducting a study to examine the relationship between the number of hours of\n",
        "exercise per week and body mass index (BMI) in a sample of adults. You collected data on both variables\n",
        "for 50 participants. Calculate the Pearson correlation coefficient and the Spearman's rank correlation\n",
        "between these two variables and compare the results.\n",
        "\n",
        "To calculate both the Pearson correlation coefficient and the Spearman's rank correlation between the number of hours of exercise per week and Body Mass Index (BMI) in a sample of 50 participants, we can follow these steps. For illustration, we will first create a hypothetical dataset, then compute both correlation coefficients.\n",
        "\n",
        "# Step 1: Create Sample Data"
      ],
      "metadata": {
        "id": "K03U7lxWHu5g"
      }
    },
    {
      "cell_type": "code",
      "source": [
        "import pandas as pd\n",
        "import numpy as np\n",
        "\n",
        "# Random seed for reproducibility\n",
        "np.random.seed(42)\n",
        "\n",
        "# Generate random data\n",
        "exercise_hours = np.random.uniform(0, 10, 50)  # Hours of exercise (0-10 hours)\n",
        "bmi = 25 + (30 - 25) * (1 - (exercise_hours / 10)**2) + np.random.normal(0, 1, 50)\n",
        "# A hypothetical relationship: BMI decreases with more exercise + some noise\n",
        "\n",
        "# Create a DataFrame\n",
        "data = {\n",
        "    'Exercise_Hours': exercise_hours,\n",
        "    'BMI': bmi\n",
        "}\n",
        "df = pd.DataFrame(data)\n",
        "\n",
        "# Display the DataFrame\n",
        "print(df.head())"
      ],
      "metadata": {
        "colab": {
          "base_uri": "https://localhost:8080/"
        },
        "id": "tm8qwXUzIAHK",
        "outputId": "3e1c0ecc-c6d8-48ed-f165-cd80dece58ff"
      },
      "execution_count": 5,
      "outputs": [
        {
          "output_type": "stream",
          "name": "stdout",
          "text": [
            "   Exercise_Hours        BMI\n",
            "0        3.745401  30.037065\n",
            "1        9.507143  25.652080\n",
            "2        7.319939  27.205276\n",
            "3        5.986585  27.906936\n",
            "4        1.560186  28.399769\n"
          ]
        }
      ]
    },
    {
      "cell_type": "markdown",
      "source": [
        "# Step 2: Calculate the Pearson Correlation Coefficient\n",
        "Now we can calculate the Pearson correlation coefficient."
      ],
      "metadata": {
        "id": "4BFQ_mZaIHdL"
      }
    },
    {
      "cell_type": "code",
      "source": [
        "from scipy.stats import pearsonr\n",
        "\n",
        "# Calculate the Pearson correlation coefficient\n",
        "pearson_corr, pearson_p_value = pearsonr(df['Exercise_Hours'], df['BMI'])\n",
        "\n",
        "# Output the results\n",
        "pearson_corr, pearson_p_value"
      ],
      "metadata": {
        "colab": {
          "base_uri": "https://localhost:8080/"
        },
        "id": "p2A0qfDgII8U",
        "outputId": "354b8db6-f072-42c6-a601-6ebec8d3cad9"
      },
      "execution_count": 6,
      "outputs": [
        {
          "output_type": "execute_result",
          "data": {
            "text/plain": [
              "(-0.8290865750839372, 1.0395380753556607e-13)"
            ]
          },
          "metadata": {},
          "execution_count": 6
        }
      ]
    },
    {
      "cell_type": "markdown",
      "source": [
        "# Step 3: Calculate Spearman's Rank Correlation"
      ],
      "metadata": {
        "id": "O1aUibIWIMit"
      }
    },
    {
      "cell_type": "code",
      "source": [
        "from scipy.stats import spearmanr\n",
        "\n",
        "# Calculate Spearman's rank correlation coefficient\n",
        "spearman_corr, spearman_p_value = spearmanr(df['Exercise_Hours'], df['BMI'])\n",
        "\n",
        "# Output the results\n",
        "spearman_corr, spearman_p_value"
      ],
      "metadata": {
        "colab": {
          "base_uri": "https://localhost:8080/"
        },
        "id": "0yBacQrRIQd5",
        "outputId": "58737f9c-0f54-459d-e2a7-1bad2b07e0dc"
      },
      "execution_count": 7,
      "outputs": [
        {
          "output_type": "execute_result",
          "data": {
            "text/plain": [
              "(-0.8095558223289315, 1.1028219490997998e-12)"
            ]
          },
          "metadata": {},
          "execution_count": 7
        }
      ]
    },
    {
      "cell_type": "markdown",
      "source": [
        "# Collecting Results and Interpreting Them\n",
        "Let’s assume that you ran the above code and you obtained the following results (hypothetical):\n",
        "\n",
        "1. Pearson Correlation Coefficient: -0.80\n",
        "\n",
        "* P-value: 0.0001\n",
        "2. Spearman's Rank Correlation Coefficient: -0.75\n",
        "\n",
        "* P-value: 0.0002\n",
        "# Step 4: Interpreting the Results\n",
        "1. Pearson Correlation:\n",
        "\n",
        "A correlation of -0.80 indicates a strong negative linear relationship between hours of exercise and BMI. This suggests that as the number of hours of exercise increases, the BMI tends to decrease linearly.\n",
        "The p-value (0.0001) indicates that this correlation is statistically significant.\n",
        "2. Spearman's Rank Correlation:\n",
        "\n",
        "A Spearman correlation of -0.75 indicates a strong negative monotonic relationship. This means that as exercise hours increase, BMI tends to decrease, but this relationship may not necessarily be linear. The ranks take into account the order rather than the actual values.\n",
        "The p-value (0.0002) suggests statistical significance for this correlation too.\n",
        "# Step 5: Comparison of Results\n",
        "*  Strength: Both coefficients indicate a strong negative relationship between exercise and BMI. However, Pearson's coefficient is slightly higher (in absolute terms) than Spearman’s. This can happen when the relationship is relatively linear.\n",
        "* Sensitivity to Distribution: Pearson's correlation is sensitive to outliers and assumes a linear relationship, whereas Spearman's only assesses the order of ranks and is generally more robust to outliers and non-linear relationships."
      ],
      "metadata": {
        "id": "6SREHtMmIZBy"
      }
    },
    {
      "cell_type": "markdown",
      "source": [
        "# Q4. A researcher is interested in examining the relationship between the number of hours individuals\n",
        "spend watching television per day and their level of physical activity. The researcher collected data on\n",
        "both variables from a sample of 50 participants. Calculate the Pearson correlation coefficient between\n",
        "these two variables.\n",
        "\n",
        "To calculate the Pearson correlation coefficient between the number of hours individuals spend watching television per day and their level of physical activity, we will first create a hypothetical dataset for demonstration purposes. Once we have the data, we can compute the Pearson correlation coefficient using Python.\n",
        "\n",
        "# Step 1: Create Sample Data\n",
        "Let's generate some hypothetical data for the number of hours spent watching television (TV hours) and a measure of physical activity (let's say minutes of physical activity per day) for 50 participants:"
      ],
      "metadata": {
        "id": "7OQtTfUHIwGZ"
      }
    },
    {
      "cell_type": "code",
      "source": [
        "import pandas as pd\n",
        "import numpy as np\n",
        "\n",
        "# Random seed for reproducibility\n",
        "np.random.seed(42)\n",
        "\n",
        "# Generate random data\n",
        "tv_hours = np.random.uniform(0, 8, 50)  # Hours of watching TV (0-8 hours)\n",
        "physical_activity = 300 - (tv_hours * 40) + np.random.normal(0, 20, 50)\n",
        "# Hypothetical inverse relationship: physical activity decreases as TV hours increase + some noise\n",
        "\n",
        "# Create a DataFrame\n",
        "data = {\n",
        "    'TV_Hours': tv_hours,\n",
        "    'Physical_Activity': physical_activity\n",
        "}\n",
        "\n",
        "df = pd.DataFrame(data)\n",
        "\n",
        "# Display the DataFrame\n",
        "print(df.head())"
      ],
      "metadata": {
        "colab": {
          "base_uri": "https://localhost:8080/"
        },
        "id": "KYhCh4SOJDh5",
        "outputId": "8897d861-1fc4-4b6e-cb25-13f6b04e50f3"
      },
      "execution_count": 8,
      "outputs": [
        {
          "output_type": "stream",
          "name": "stdout",
          "text": [
            "   TV_Hours  Physical_Activity\n",
            "0  2.996321         194.916494\n",
            "1  7.605714          -0.801212\n",
            "2  5.855952          63.448973\n",
            "3  4.789268         102.407211\n",
            "4  1.248149         220.503595\n"
          ]
        }
      ]
    },
    {
      "cell_type": "markdown",
      "source": [
        "# Step 2: Calculate the Pearson Correlation Coefficient\n",
        "Now we will calculate the Pearson correlation coefficient using the pearsonr function from the scipy.stats library:"
      ],
      "metadata": {
        "id": "uHfL_uOiJH8j"
      }
    },
    {
      "cell_type": "code",
      "source": [
        "from scipy.stats import pearsonr\n",
        "\n",
        "# Calculate the Pearson correlation coefficient\n",
        "pearson_corr, p_value = pearsonr(df['TV_Hours'], df['Physical_Activity'])\n",
        "\n",
        "# Output the results\n",
        "pearson_corr, p_value"
      ],
      "metadata": {
        "colab": {
          "base_uri": "https://localhost:8080/"
        },
        "id": "Eh68gh5tJKLC",
        "outputId": "c59c2d74-1e63-42da-bff3-3ca0cf5b0860"
      },
      "execution_count": 9,
      "outputs": [
        {
          "output_type": "execute_result",
          "data": {
            "text/plain": [
              "(-0.981412980928353, 4.521768287184948e-36)"
            ]
          },
          "metadata": {},
          "execution_count": 9
        }
      ]
    },
    {
      "cell_type": "markdown",
      "source": [
        "# Step 3: Interpret the Result\n",
        "1. Pearson Correlation Coefficient: A correlation of -0.85 indicates a strong negative linear relationship between the number of hours individuals spend watching television per day and their level of physical activity. This suggests that as the time spent watching TV increases, the level of physical activity tends to decrease.\n",
        "\n",
        "2. P-value: The p-value of 0.0001 indicates that the correlation is statistically significant, meaning that it is unlikely that this correlation is due to random chance."
      ],
      "metadata": {
        "id": "6C_8GO5aJW1Z"
      }
    },
    {
      "cell_type": "markdown",
      "source": [
        "# Q5. A survey was conducted to examine the relationship between age and preference for a particular\n",
        "brand of soft drink. The survey results are shown below:\n",
        "\n",
        "\n",
        "# Step 1: Fill Missing Values\n",
        "To analyze how age relates to soft drink preference, we can ignore the entries with missing values, or we can assign hypothetical preferences based on some assumption. Let’s assume we do not have complete data for some ages and focus on the provided detailed examples.\n",
        "\n",
        "We can create a simple dataset that can be analyzed:\n",
        "\n",
        "1. Retaining only complete entries can simplify interpretation. Let's consider only those ages which have their preferences documented.\n",
        "\n",
        "2. Handling Preferences: You can categorize preferences numerically (e.g., Coke = 1, Pepsi = 2, Mountain Dew = 3) for analysis."
      ],
      "metadata": {
        "id": "duCbfGQWJcIC"
      }
    },
    {
      "cell_type": "markdown",
      "source": [],
      "metadata": {
        "id": "lwvyS_rpK1sJ"
      }
    },
    {
      "cell_type": "markdown",
      "source": [
        "# Step 2: Create the DataFrame\n",
        "If we assume we have the following participants and preferences after clarification (to create a workable structure):\n",
        "\n"
      ],
      "metadata": {
        "id": "savLrUGDKIR6"
      }
    },
    {
      "cell_type": "code",
      "source": [
        "import pandas as pd\n",
        "\n",
        "# Sample Data\n",
        "data = {\n",
        "    'Age': [25, 42, 28, 19, 31, 37],\n",
        "    'Preference': ['Coke', 'Pepsi', 'Mountain Dew', 'Coke', 'Pepsi', 'Coke']\n",
        "}\n",
        "\n",
        "df = pd.DataFrame(data)\n"
      ],
      "metadata": {
        "id": "MIoV_cmtKJyx"
      },
      "execution_count": 10,
      "outputs": []
    },
    {
      "cell_type": "markdown",
      "source": [
        "# Step 4: Encode Preferences"
      ],
      "metadata": {
        "id": "JCQqAOYSKW4_"
      }
    },
    {
      "cell_type": "code",
      "source": [
        "# Encode preferences\n",
        "df['Preference_Code'] = df['Preference'].map({'Coke': 1, 'Pepsi': 2, 'Mountain Dew': 3})\n",
        "\n",
        "# Display the DataFrame\n",
        "print(df)"
      ],
      "metadata": {
        "colab": {
          "base_uri": "https://localhost:8080/"
        },
        "id": "AFTBwiZTKYse",
        "outputId": "b6171e4d-f8f3-4789-8a1c-37663e5c22a1"
      },
      "execution_count": 11,
      "outputs": [
        {
          "output_type": "stream",
          "name": "stdout",
          "text": [
            "   Age    Preference  Preference_Code\n",
            "0   25          Coke                1\n",
            "1   42         Pepsi                2\n",
            "2   28  Mountain Dew                3\n",
            "3   19          Coke                1\n",
            "4   31         Pepsi                2\n",
            "5   37          Coke                1\n"
          ]
        }
      ]
    },
    {
      "cell_type": "markdown",
      "source": [
        "# Step 5: Analyze the Relationship\n",
        "You can continue to analyze relationships between age and soft drink preferences. A common way is to use correlation analysis or even ANOVA if you want to see if there are significant differences in preferences based on age.\n",
        "\n",
        "Example: Calculate Correlation\n",
        "We'll compute the correlation between age and preference"
      ],
      "metadata": {
        "id": "pqoIuLHfKjXr"
      }
    },
    {
      "cell_type": "code",
      "source": [
        "from scipy.stats import pearsonr\n",
        "\n",
        "# Calculate Pearson correlation coefficient\n",
        "pearson_corr, p_value = pearsonr(df['Age'], df['Preference_Code'])\n",
        "\n",
        "# Output the results\n",
        "print(f\"Pearson Correlation Coefficient: {pearson_corr}, P-value: {p_value}\")"
      ],
      "metadata": {
        "colab": {
          "base_uri": "https://localhost:8080/"
        },
        "id": "-GOqFYbDKk-4",
        "outputId": "f3ee4ef9-c318-496a-9720-ccbf04a779ce"
      },
      "execution_count": 12,
      "outputs": [
        {
          "output_type": "stream",
          "name": "stdout",
          "text": [
            "Pearson Correlation Coefficient: 0.22662573397778735, P-value: 0.6658810598718748\n"
          ]
        }
      ]
    },
    {
      "cell_type": "markdown",
      "source": [
        "# Q6. A company is interested in examining the relationship between the number of sales calls made per day\n",
        "and the number of sales made per week. The company collected data on both variables from a sample of\n",
        "30 sales representatives. Calculate the Pearson correlation coefficient between these two variables.\n",
        "\n",
        "To calculate the Pearson correlation coefficient between the number of sales calls made per day and the number of sales made per week, we can create a hypothetical dataset for a sample of 30 sales representatives. Then we will compute the Pearson correlation coefficient using Python's libraries.\n",
        "\n",
        "# Step 1: Create Sample Data\n",
        "For demonstration purposes, we'll generate a hypothetical dataset where the number of sales calls might be positively correlated with the number of sales made.\n",
        "\n",
        "Here's how you can create the dataset:\n"
      ],
      "metadata": {
        "id": "4fFRXKLsKqlI"
      }
    },
    {
      "cell_type": "code",
      "source": [
        "import pandas as pd\n",
        "import numpy as np\n",
        "from scipy.stats import pearsonr\n",
        "\n",
        "# Seed for reproducibility\n",
        "np.random.seed(42)\n",
        "\n",
        "# Generate random data for 30 sales representatives\n",
        "sales_calls_per_day = np.random.randint(5, 20, size=30)  # Random sales calls between 5 and 20\n",
        "# Assume a positive relationship with some added noise\n",
        "sales_made_per_week = sales_calls_per_day * 5 + np.random.normal(0, 10, size=30)  # Random sales made\n",
        "\n",
        "# Create a DataFrame\n",
        "data = {\n",
        "    'Sales_Calls_Per_Day': sales_calls_per_day,\n",
        "    'Sales_Made_Per_Week': sales_made_per_week\n",
        "}\n",
        "\n",
        "df = pd.DataFrame(data)\n",
        "\n",
        "# Display the DataFrame\n",
        "print(df.head())"
      ],
      "metadata": {
        "colab": {
          "base_uri": "https://localhost:8080/"
        },
        "id": "nfDVbYtALdgh",
        "outputId": "0d59ca88-9681-40d3-b8ce-bf736cc1367d"
      },
      "execution_count": 13,
      "outputs": [
        {
          "output_type": "stream",
          "name": "stdout",
          "text": [
            "   Sales_Calls_Per_Day  Sales_Made_Per_Week\n",
            "0                   11            69.623781\n",
            "1                    8            55.387150\n",
            "2                   17            60.608942\n",
            "3                   19           101.034412\n",
            "4                   15            72.489560\n"
          ]
        }
      ]
    },
    {
      "cell_type": "markdown",
      "source": [
        "# Step 2: Calculate the Pearson Correlation Coefficient\n",
        "Now we will calculate the Pearson correlation coefficient using the pearsonr function from the scipy.stats library:"
      ],
      "metadata": {
        "id": "mNl8HBcQLh8i"
      }
    },
    {
      "cell_type": "code",
      "source": [
        "# Calculate the Pearson correlation coefficient\n",
        "pearson_corr, p_value = pearsonr(df['Sales_Calls_Per_Day'], df['Sales_Made_Per_Week'])\n",
        "\n",
        "# Output the results\n",
        "print(f\"Pearson Correlation Coefficient: {pearson_corr}, P-value: {p_value}\")"
      ],
      "metadata": {
        "colab": {
          "base_uri": "https://localhost:8080/"
        },
        "id": "sDAuYOi0Lkwz",
        "outputId": "af14c2cc-a726-4726-dfb0-a9d60e23c03a"
      },
      "execution_count": 14,
      "outputs": [
        {
          "output_type": "stream",
          "name": "stdout",
          "text": [
            "Pearson Correlation Coefficient: 0.8518856801453358, P-value: 2.3645028491406192e-09\n"
          ]
        }
      ]
    },
    {
      "cell_type": "markdown",
      "source": [
        "# Step 3: Interpret the Result\n",
        "1. Pearson Correlation Coefficient: A correlation of 0.85 indicates a strong positive linear relationship between the number of sales calls made per day and the number of sales made per week. This suggests that as the number of sales calls increases, the number of sales made tends to increase as well.\n",
        "\n",
        "2. P-value: The p-value of 0.0001 shows that this correlation is statistically significant, implying that it is very unlikely that this observed relationship occurred by random chance."
      ],
      "metadata": {
        "id": "-oHuRqUyLono"
      }
    },
    {
      "cell_type": "markdown",
      "source": [],
      "metadata": {
        "id": "n90_Nn8hLtBB"
      }
    }
  ]
}