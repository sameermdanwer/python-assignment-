{
  "nbformat": 4,
  "nbformat_minor": 0,
  "metadata": {
    "colab": {
      "provenance": [],
      "authorship_tag": "ABX9TyPW/hxNgyUlClYu9IHLWxEB",
      "include_colab_link": true
    },
    "kernelspec": {
      "name": "python3",
      "display_name": "Python 3"
    },
    "language_info": {
      "name": "python"
    }
  },
  "cells": [
    {
      "cell_type": "markdown",
      "metadata": {
        "id": "view-in-github",
        "colab_type": "text"
      },
      "source": [
        "<a href=\"https://colab.research.google.com/github/sameermdanwer/python-assignment-/blob/main/Image_Scrapper_Assignment.ipynb\" target=\"_parent\"><img src=\"https://colab.research.google.com/assets/colab-badge.svg\" alt=\"Open In Colab\"/></a>"
      ]
    },
    {
      "cell_type": "markdown",
      "source": [
        "# Q1. Write a python program to extract the video URL of the first five videos.\n",
        "\n",
        "To extract video URLs from the first five videos of a platform like YouTube, you can use web scraping libraries like BeautifulSoup and requests to retrieve the page source and extract the relevant URLs. Here's an example Python script to extract video URLs from a YouTube search result page (for educational purposes):"
      ],
      "metadata": {
        "id": "YFYOZiaOYAnC"
      }
    },
    {
      "cell_type": "code",
      "source": [
        "import requests\n",
        "from bs4 import BeautifulSoup\n",
        "\n",
        "# Function to extract video URLs\n",
        "def get_video_urls(query):\n",
        "    # Replace spaces in query with '+'\n",
        "    query = query.replace(' ', '+')\n",
        "\n",
        "    # YouTube search URL\n",
        "    url = f\"https://www.youtube.com/results?search_query={query}\"\n",
        "\n",
        "    # Send a request to YouTube\n",
        "    response = requests.get(url)\n",
        "\n",
        "    # Parse the HTML content\n",
        "    soup = BeautifulSoup(response.text, 'html.parser')\n",
        "\n",
        "    # Find all video links (they start with \"/watch?v=\")\n",
        "    video_links = soup.find_all('a', href=True)\n",
        "\n",
        "    # Extract the first 5 unique video URLs\n",
        "    video_urls = []\n",
        "    for link in video_links:\n",
        "        href = link['href']\n",
        "        if href.startswith(\"/watch?v=\") and f\"https://www.youtube.com{href}\" not in video_urls:\n",
        "            video_urls.append(f\"https://www.youtube.com{href}\")\n",
        "            if len(video_urls) == 5:  # Break once we have 5 videos\n",
        "                break\n",
        "\n",
        "    return video_urls\n",
        "\n",
        "# Example usage\n",
        "search_query = \"Python programming\"\n",
        "video_urls = get_video_urls(search_query)\n",
        "\n",
        "# Print the extracted video URLs\n",
        "for i, url in enumerate(video_urls, start=1):\n",
        "    print(f\"Video {i}: {url}\")"
      ],
      "metadata": {
        "id": "K0wbPwQeYECX"
      },
      "execution_count": null,
      "outputs": []
    },
    {
      "cell_type": "code",
      "source": [
        "pip install requests beautifulsoup4"
      ],
      "metadata": {
        "id": "yFYbUC4tZzlU"
      },
      "execution_count": null,
      "outputs": []
    },
    {
      "cell_type": "markdown",
      "source": [
        "# Explanation:\n",
        "1. requests.get: Fetches the search results page HTML.\n",
        "2. BeautifulSoup: Parses the HTML and extracts all <a> tags (links).\n",
        "3. URL filtering: We extract links that start with /watch?v=, which corresponds to YouTube videos.\n",
        "4. List of URLs: Collect the first five unique URLs."
      ],
      "metadata": {
        "id": "CWm0rlr9YO5N"
      }
    },
    {
      "cell_type": "markdown",
      "source": [
        "# Q2. Write a python program to extract the URL of the video thumbnails of the first five videos.\n",
        "\n",
        "To extract the URL of video thumbnails for the first five videos from a YouTube search result page, we can modify the previous program to specifically target thumbnail URLs. On YouTube, the video thumbnails usually follow a specific URL pattern and can be found in the HTML as img tags with a particular class or src attribute.\n",
        "\n",
        "Below is an example Python script that extracts the thumbnail URLs:\n",
        "\n",
        "# Python Code:"
      ],
      "metadata": {
        "id": "T3atncniYiu-"
      }
    },
    {
      "cell_type": "code",
      "source": [
        "import requests\n",
        "from bs4 import BeautifulSoup\n",
        "\n",
        "# Function to extract thumbnail URLs\n",
        "def get_thumbnail_urls(query):\n",
        "    # Replace spaces in query with '+'\n",
        "    query = query.replace(' ', '+')\n",
        "\n",
        "    # YouTube search URL\n",
        "    url = f\"https://www.youtube.com/results?search_query={query}\"\n",
        "\n",
        "    # Send a request to YouTube\n",
        "    response = requests.get(url)\n",
        "\n",
        "    # Parse the HTML content\n",
        "    soup = BeautifulSoup(response.text, 'html.parser')\n",
        "\n",
        "    # Find all image tags containing thumbnails\n",
        "    thumbnails = soup.find_all('img')\n",
        "\n",
        "    # Extract the first 5 unique thumbnail URLs\n",
        "    thumbnail_urls = []\n",
        "    for thumb in thumbnails:\n",
        "        src = thumb.get('src')\n",
        "        if src and \"https://i.ytimg.com\" in src and src not in thumbnail_urls:\n",
        "            thumbnail_urls.append(src)\n",
        "            if len(thumbnail_urls) == 5:  # Break once we have 5 thumbnails\n",
        "                break\n",
        "\n",
        "    return thumbnail_urls\n",
        "\n",
        "# Example usage\n",
        "search_query = \"Python programming\"\n",
        "thumbnail_urls = get_thumbnail_urls(search_query)\n",
        "\n",
        "# Print the extracted thumbnail URLs\n",
        "for i, url in enumerate(thumbnail_urls, start=1):\n",
        "    print(f\"Thumbnail {i}: {url}\")"
      ],
      "metadata": {
        "id": "--eXNyKuY_i7"
      },
      "execution_count": null,
      "outputs": []
    },
    {
      "cell_type": "code",
      "source": [
        "pip install requests beautifulsoup4"
      ],
      "metadata": {
        "id": "zuRfeWutZvYu"
      },
      "execution_count": null,
      "outputs": []
    },
    {
      "cell_type": "markdown",
      "source": [
        "# Q3. Write a python program to extract the title of the first five videos.\n",
        "\n",
        "To extract the titles of the first five videos from a YouTube search result page, we can modify the previous scraping approach to target the video titles. The titles of YouTube videos are usually enclosed in specific tags such as <a> or <h3> with certain attributes (like classes). Here's an example Python script to extract the video titles:\n",
        "\n",
        "# Python Code:"
      ],
      "metadata": {
        "id": "fllCC5FFZCtG"
      }
    },
    {
      "cell_type": "code",
      "source": [
        "import requests\n",
        "from bs4 import BeautifulSoup\n",
        "\n",
        "# Function to extract video titles\n",
        "def get_video_titles(query):\n",
        "    # Replace spaces in query with '+'\n",
        "    query = query.replace(' ', '+')\n",
        "\n",
        "    # YouTube search URL\n",
        "    url = f\"https://www.youtube.com/results?search_query={query}\"\n",
        "\n",
        "    # Send a request to YouTube\n",
        "    response = requests.get(url)\n",
        "\n",
        "    # Parse the HTML content\n",
        "    soup = BeautifulSoup(response.text, 'html.parser')\n",
        "\n",
        "    # Find all video titles\n",
        "    titles = soup.find_all('a', {'title': True})\n",
        "\n",
        "    # Extract the first 5 unique video titles\n",
        "    video_titles = []\n",
        "    for title in titles:\n",
        "        video_title = title['title']\n",
        "        if video_title not in video_titles:\n",
        "            video_titles.append(video_title)\n",
        "            if len(video_titles) == 5:  # Break once we have 5 titles\n",
        "                break\n",
        "\n",
        "    return video_titles\n",
        "\n",
        "# Example usage\n",
        "search_query = \"Python programming\"\n",
        "video_titles = get_video_titles(search_query)\n",
        "\n",
        "# Print the extracted video titles\n",
        "for i, title in enumerate(video_titles, start=1):\n",
        "    print(f\"Video {i}: {title}\")"
      ],
      "metadata": {
        "id": "cAByqACAZbwd"
      },
      "execution_count": null,
      "outputs": []
    },
    {
      "cell_type": "markdown",
      "source": [
        "# Requirements:\n"
      ],
      "metadata": {
        "id": "JbnbwjHaZgOU"
      }
    },
    {
      "cell_type": "code",
      "source": [
        "pip install requests beautifulsoup4"
      ],
      "metadata": {
        "id": "k-2LuU_ZZmt9"
      },
      "execution_count": null,
      "outputs": []
    },
    {
      "cell_type": "markdown",
      "source": [
        "# Q4. Write a python program to extract the number of views of the first five videos.\n",
        "\n",
        "To extract the number of views for the first five videos from a YouTube search result page, we need to identify where the view count is stored in the HTML structure. Typically, YouTube displays the view count near the title or metadata of the video.\n",
        "\n",
        "We can scrape this information from the HTML using BeautifulSoup. Below is an example Python script that extracts the view count for the first five videos:\n"
      ],
      "metadata": {
        "id": "xGzj1p9bZpif"
      }
    },
    {
      "cell_type": "code",
      "source": [
        "import requests\n",
        "from bs4 import BeautifulSoup\n",
        "\n",
        "# Function to extract the view counts of the first five videos\n",
        "def get_video_views(query):\n",
        "    # Replace spaces in query with '+'\n",
        "    query = query.replace(' ', '+')\n",
        "\n",
        "    # YouTube search URL\n",
        "    url = f\"https://www.youtube.com/results?search_query={query}\"\n",
        "\n",
        "    # Send a request to YouTube\n",
        "    response = requests.get(url)\n",
        "\n",
        "    # Parse the HTML content\n",
        "    soup = BeautifulSoup(response.text, 'html.parser')\n",
        "\n",
        "    # Find all spans or divs containing view count information\n",
        "    # View count usually appears in the 'yt-view-count-renderer' span or similar class\n",
        "    video_views = []\n",
        "\n",
        "    # Get all divs with class 'style-scope ytd-video-meta-block' which often contains the view count\n",
        "    views_divs = soup.find_all('div', class_=\"style-scope ytd-video-meta-block\")\n",
        "\n",
        "    # Extract the first 5 unique video view counts\n",
        "    for div in views_divs:\n",
        "        views = div.get_text(strip=True)\n",
        "        if \"views\" in views.lower() and views not in video_views:\n",
        "            video_views.append(views)\n",
        "            if len(video_views) == 5:  # Break once we have 5 view counts\n",
        "                break\n",
        "\n",
        "    return video_views\n",
        "\n",
        "# Example usage\n",
        "search_query = \"Python programming\"\n",
        "video_views = get_video_views(search_query)\n",
        "\n",
        "# Print the extracted video view counts\n",
        "for i, views in enumerate(video_views, start=1):\n",
        "    print(f\"Video {i}: {views}\")"
      ],
      "metadata": {
        "id": "dikxXELuaNC2"
      },
      "execution_count": null,
      "outputs": []
    },
    {
      "cell_type": "markdown",
      "source": [
        "# Q5. Write a python program to extract the time of posting of video for the first five videos.\n",
        "\n",
        "To extract the time of posting (e.g., \"2 days ago\", \"1 month ago\") for the first five videos from a YouTube search result page, you can use a similar approach as in the previous tasks. The time of posting is usually found within certain <span> or <div> elements that contain time-related information.\n",
        "\n",
        "Here’s a Python program to extract the time of posting for the first five videos:\n",
        "\n",
        "# Python Code:"
      ],
      "metadata": {
        "id": "r2sJX6dsaOPg"
      }
    },
    {
      "cell_type": "code",
      "source": [
        "import requests\n",
        "from bs4 import BeautifulSoup\n",
        "\n",
        "# Function to extract the time of posting for the first five videos\n",
        "def get_video_posting_times(query):\n",
        "    try:\n",
        "        # Replace spaces in query with '+'\n",
        "        query = query.replace(' ', '+')\n",
        "\n",
        "        # YouTube search URL\n",
        "        url = f\"https://www.youtube.com/results?search_query={query}\"\n",
        "\n",
        "        # Send a request to YouTube\n",
        "        response = requests.get(url)\n",
        "        response.raise_for_status()  # Raise an exception for a bad status code\n",
        "\n",
        "        # Parse the HTML content\n",
        "        soup = BeautifulSoup(response.text, 'html.parser')\n",
        "\n",
        "        # Find all elements containing time of posting information\n",
        "        times = soup.find_all('span', class_='style-scope ytd-video-meta-block')\n",
        "\n",
        "        # Extract the first 5 posting times (e.g., \"2 days ago\")\n",
        "        posting_times = []\n",
        "        for time in times:\n",
        "            if 'ago' in time.text:  # Check if the text contains \"ago\" (indicative of time of posting)\n",
        "                posting_times.append(time.text.strip())\n",
        "                if len(posting_times) == 5:  # Break once we have 5 posting times\n",
        "                    break\n",
        "\n",
        "        # If fewer than 5 videos found, raise an exception\n",
        "        if len(posting_times) < 5:\n",
        "            raise ValueError(\"Fewer than 5 videos found.\")\n",
        "\n",
        "        return posting_times\n",
        "\n",
        "    except requests.exceptions.RequestException as e:\n",
        "        print(f\"Error fetching the page: {e}\")\n",
        "    except ValueError as e:\n",
        "        print(f\"Error in extracting posting times: {e}\")\n",
        "    except Exception as e:\n",
        "        print(f\"An unexpected error occurred: {e}\")\n",
        "    return []\n",
        "\n",
        "# Example usage\n",
        "search_query = \"Python programming\"\n",
        "posting_times = get_video_posting_times(search_query)\n",
        "\n",
        "# Print the extracted posting times\n",
        "for i, posting_time in enumerate(posting_times, start=1):\n",
        "    print(f\"Video {i} Posted: {posting_time}\")"
      ],
      "metadata": {
        "id": "N3dKs4_Raigs"
      },
      "execution_count": null,
      "outputs": []
    },
    {
      "cell_type": "markdown",
      "source": [],
      "metadata": {
        "id": "oecnB-nzaqfc"
      }
    }
  ]
}