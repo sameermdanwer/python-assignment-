{
  "nbformat": 4,
  "nbformat_minor": 0,
  "metadata": {
    "colab": {
      "provenance": [],
      "authorship_tag": "ABX9TyPS+ENenLrl9kuL2HAhyMAH",
      "include_colab_link": true
    },
    "kernelspec": {
      "name": "python3",
      "display_name": "Python 3"
    },
    "language_info": {
      "name": "python"
    }
  },
  "cells": [
    {
      "cell_type": "markdown",
      "metadata": {
        "id": "view-in-github",
        "colab_type": "text"
      },
      "source": [
        "<a href=\"https://colab.research.google.com/github/sameermdanwer/python-assignment-/blob/main/Assingment_2.ipynb\" target=\"_parent\"><img src=\"https://colab.research.google.com/assets/colab-badge.svg\" alt=\"Open In Colab\"/></a>"
      ]
    },
    {
      "cell_type": "markdown",
      "source": [
        "# Q1. Create a python program to sort the given list of tuples based on integer value using a\n",
        "lambda function.\n",
        "\n",
        "Here’s a Python program to sort a list of tuples based on the integer value using a lambda function:"
      ],
      "metadata": {
        "id": "Z_xAkrGTXRgN"
      }
    },
    {
      "cell_type": "code",
      "source": [
        "# List of tuples (string, integer)\n",
        "data = [(\"apple\", 2), (\"banana\", 3), (\"cherry\", 1), (\"date\", 4)]\n",
        "\n",
        "# Sort the list based on the integer value (second item in each tuple)\n",
        "sorted_data = sorted(data, key=lambda x: x[1])\n",
        "\n",
        "# Print the sorted list\n",
        "print(\"Sorted list based on integer value:\", sorted_data)"
      ],
      "metadata": {
        "colab": {
          "base_uri": "https://localhost:8080/"
        },
        "id": "R5LzSMQHXrQD",
        "outputId": "0e00688f-b28c-44b1-cbac-b282c190d034"
      },
      "execution_count": 1,
      "outputs": [
        {
          "output_type": "stream",
          "name": "stdout",
          "text": [
            "Sorted list based on integer value: [('cherry', 1), ('apple', 2), ('banana', 3), ('date', 4)]\n"
          ]
        }
      ]
    },
    {
      "cell_type": "markdown",
      "source": [
        "# Q2. Write a Python Program to find the squares of all the numbers in the given list of integers using\n",
        "lambda and map functions.\n",
        "[1, 2, 3, 4, 5, 6, 7, 8, 9, 10]\n",
        "Here’s a Python program that finds the squares of all the numbers in the given list of integers using the lambda and map functions"
      ],
      "metadata": {
        "id": "paU7OfzDXy7M"
      }
    },
    {
      "cell_type": "code",
      "source": [
        "# List of integers\n",
        "numbers = [1, 2, 3, 4, 5, 6, 7, 8, 9, 10]\n",
        "\n",
        "# Using map and lambda to calculate squares\n",
        "squares = list(map(lambda x: x**2, numbers))\n",
        "\n",
        "# Print the list of squares\n",
        "print(\"Squares of the numbers:\", squares)"
      ],
      "metadata": {
        "colab": {
          "base_uri": "https://localhost:8080/"
        },
        "id": "t0FQAg3mYVfA",
        "outputId": "4a30c6bb-907c-4477-bc67-fe38c255162a"
      },
      "execution_count": 2,
      "outputs": [
        {
          "output_type": "stream",
          "name": "stdout",
          "text": [
            "Squares of the numbers: [1, 4, 9, 16, 25, 36, 49, 64, 81, 100]\n"
          ]
        }
      ]
    },
    {
      "cell_type": "markdown",
      "source": [
        "# Q3. Write a python program to convert the given list of integers into a tuple of strings. Use map and\n",
        "lambda functions\n",
        "Given String: [1, 2, 3, 4, 5, 6, 7, 8, 9, 10]\n",
        "Expected output: ('1', '2', '3', '4', '5', '6', '7', '8', '9', '10')\n",
        "\n",
        "You can use the map function along with a lambda function to convert a list of integers into a tuple of strings in Python. Here's a simple program to achieve that:"
      ],
      "metadata": {
        "id": "BSDe6GaVZUet"
      }
    },
    {
      "cell_type": "code",
      "source": [
        "# Given list of integers\n",
        "integer_list = [1, 2, 3, 4, 5, 6, 7, 8, 9, 10]\n",
        "\n",
        "# Convert the list of integers to a tuple of strings\n",
        "string_tuple = tuple(map(lambda x: str(x), integer_list))\n",
        "\n",
        "# Print the result\n",
        "print(string_tuple)"
      ],
      "metadata": {
        "colab": {
          "base_uri": "https://localhost:8080/"
        },
        "id": "YDLEbPUPZj9p",
        "outputId": "a06d32e2-3fee-4abc-c7b0-67ef27f981fb"
      },
      "execution_count": 3,
      "outputs": [
        {
          "output_type": "stream",
          "name": "stdout",
          "text": [
            "('1', '2', '3', '4', '5', '6', '7', '8', '9', '10')\n"
          ]
        }
      ]
    },
    {
      "cell_type": "markdown",
      "source": [
        "# Q4. Write a python program using reduce function to compute the product of a list containing numbers\n",
        "from 1 to 25.\n",
        "\n",
        "You can use the reduce function from the functools module to compute the product of a list containing numbers from 1 to 25 in Python. Here's how you can do it:"
      ],
      "metadata": {
        "id": "sk3c0DWibYfI"
      }
    },
    {
      "cell_type": "code",
      "source": [
        "from functools import reduce\n",
        "\n",
        "# Create a list of numbers from 1 to 25\n",
        "numbers = list(range(1, 26))\n",
        "\n",
        "# Define a function to compute the product of two numbers\n",
        "def multiply(x, y):\n",
        "    return x * y\n",
        "\n",
        "# Use reduce to compute the product of the list\n",
        "product = reduce(multiply, numbers)\n",
        "\n",
        "# Print the result\n",
        "print(\"The product of numbers from 1 to 25 is:\", product)"
      ],
      "metadata": {
        "colab": {
          "base_uri": "https://localhost:8080/"
        },
        "id": "bYQRe0W4bcTE",
        "outputId": "80e61c89-b603-418f-a09a-37e6f3442d1d"
      },
      "execution_count": 4,
      "outputs": [
        {
          "output_type": "stream",
          "name": "stdout",
          "text": [
            "The product of numbers from 1 to 25 is: 15511210043330985984000000\n"
          ]
        }
      ]
    },
    {
      "cell_type": "markdown",
      "source": [
        "# Q5. Write a python program to filter the numbers in a given list that are divisible by 2 and 3 using the\n",
        "filter function.\n",
        "\n",
        "You can use the filter function in Python to filter out numbers from a given list that are divisible by both 2 and 3. Here's a program that demonstrates this:"
      ],
      "metadata": {
        "id": "otF_XyMxbttw"
      }
    },
    {
      "cell_type": "code",
      "source": [
        "# Given list of numbers\n",
        "numbers = [1, 2, 3, 4, 5, 6, 7, 8, 9, 10, 12, 15, 18, 20, 21, 24, 30]\n",
        "\n",
        "# Use filter to get numbers that are divisible by both 2 and 3\n",
        "divisible_by_2_and_3 = list(filter(lambda x: x % 2 == 0 and x % 3 == 0, numbers))\n",
        "\n",
        "# Print the result\n",
        "print(\"Numbers divisible by 2 and 3:\", divisible_by_2_and_3)"
      ],
      "metadata": {
        "colab": {
          "base_uri": "https://localhost:8080/"
        },
        "id": "yvaMc2KdZdXv",
        "outputId": "6e121dfe-ee58-4f91-ded7-9cfcae73c0b9"
      },
      "execution_count": 5,
      "outputs": [
        {
          "output_type": "stream",
          "name": "stdout",
          "text": [
            "Numbers divisible by 2 and 3: [6, 12, 18, 24, 30]\n"
          ]
        }
      ]
    },
    {
      "cell_type": "markdown",
      "source": [
        "# Q6. Write a python program to find palindromes in the given list of strings using lambda and filter\n",
        "function.\n",
        "['python', 'php', 'aba', 'radar', 'level']\n",
        "\n",
        "You can use the filter function along with a lambda function to find palindromes in a given list of strings in Python. A palindrome is a word that reads the same forwards and backwards. Here's how you can do it:"
      ],
      "metadata": {
        "id": "L9oAdfwSb-B6"
      }
    },
    {
      "cell_type": "code",
      "source": [
        "# Given list of strings\n",
        "strings = ['python', 'php', 'aba', 'radar', 'level']\n",
        "\n",
        "# Use filter to find palindromes\n",
        "palindromes = list(filter(lambda x: x == x[::-1], strings))\n",
        "\n",
        "# Print the result\n",
        "print(\"Palindromes in the list:\", palindromes)"
      ],
      "metadata": {
        "colab": {
          "base_uri": "https://localhost:8080/"
        },
        "id": "4UZBe3Ovcid5",
        "outputId": "c113c3bc-c2cf-4224-a3cc-6f656a049a59"
      },
      "execution_count": 6,
      "outputs": [
        {
          "output_type": "stream",
          "name": "stdout",
          "text": [
            "Palindromes in the list: ['php', 'aba', 'radar', 'level']\n"
          ]
        }
      ]
    },
    {
      "cell_type": "code",
      "source": [],
      "metadata": {
        "id": "6ffPH8ZaYJbn"
      },
      "execution_count": null,
      "outputs": []
    },
    {
      "cell_type": "code",
      "source": [],
      "metadata": {
        "id": "p35DQMyFXkiA"
      },
      "execution_count": null,
      "outputs": []
    }
  ]
}