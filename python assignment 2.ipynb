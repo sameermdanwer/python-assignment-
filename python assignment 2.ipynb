{
 "cells": [
  {
   "cell_type": "markdown",
   "id": "406f2c38-41da-4c90-863f-0a6c08d06a03",
   "metadata": {},
   "source": [
    "Question no.1\n",
    "Ans:- Comments in python are identified with a hash\"#\" symbol and extend to the end line.\n",
    "There are three ways to write a comment\n",
    "(1)seprate line \n",
    "(2)beside the corresponding statement of code\n",
    "(3)a multi-line comment block"
   ]
  },
  {
   "cell_type": "markdown",
   "id": "ad96e705-4693-4a98-b40c-b7326073f87f",
   "metadata": {},
   "source": [
    "#question no.2 "
   ]
  },
  {
   "cell_type": "markdown",
   "id": "4d830890-34e8-481e-a161-b00a4329517e",
   "metadata": {},
   "source": [
    "Ans:-A variable is a string of characters and numbers associated with a piece of information.\n",
    "The line x = 1 takes the known value, 1, and assign that value to the variable with name \"x\"."
   ]
  },
  {
   "cell_type": "markdown",
   "id": "7f434193-2eda-412c-a341-bde392855696",
   "metadata": {},
   "source": [
    "#question no.3"
   ]
  },
  {
   "cell_type": "markdown",
   "id": "dcf6515e-5012-4f9e-a1ce-33ce5ee8b767",
   "metadata": {},
   "source": [
    "Ans:- To convert between types, you simply use the type name as a functions."
   ]
  },
  {
   "cell_type": "markdown",
   "id": "0960da6f-e0d9-42e1-9695-27cda294ee52",
   "metadata": {},
   "source": [
    " Question no.5"
   ]
  },
  {
   "cell_type": "code",
   "execution_count": 10,
   "id": "061e69ad-acb6-4cff-a7cf-f9ec18a8de37",
   "metadata": {},
   "outputs": [
    {
     "name": "stdout",
     "output_type": "stream",
     "text": [
      "[2, 3]\n"
     ]
    }
   ],
   "source": [
    "#Ans:-\n",
    "my_list = [1,2,3,4,5]\n",
    "print(my_list[1:3])"
   ]
  },
  {
   "cell_type": "markdown",
   "id": "ef3a94f2-90e0-43ff-a4ae-a6027a938c44",
   "metadata": {},
   "source": [
    "Question no.6"
   ]
  },
  {
   "cell_type": "markdown",
   "id": "42f4b150-9eb3-42d1-936c-de05a77cfb8b",
   "metadata": {},
   "source": [
    "#Ans:-The numbers that are expressed in the form of a+ib,where, a,b are real numbers and i is an imaginary number.\n",
    "python helps to tackle and manipulate them.\n"
   ]
  },
  {
   "cell_type": "markdown",
   "id": "83e969fb-55f0-4eeb-b14b-f9b6c7ddbdff",
   "metadata": {},
   "source": [
    "Question no.7"
   ]
  },
  {
   "cell_type": "code",
   "execution_count": 18,
   "id": "f05cd0ef-e450-4632-9d6f-1461712a574e",
   "metadata": {},
   "outputs": [],
   "source": [
    "age = 25"
   ]
  },
  {
   "cell_type": "code",
   "execution_count": 19,
   "id": "aac47b03-92a0-4c92-bf1b-d6c58103efb0",
   "metadata": {},
   "outputs": [
    {
     "data": {
      "text/plain": [
       "25"
      ]
     },
     "execution_count": 19,
     "metadata": {},
     "output_type": "execute_result"
    }
   ],
   "source": [
    "age"
   ]
  },
  {
   "cell_type": "markdown",
   "id": "40b65d4a-2e67-43cd-811f-b6ed8027ff16",
   "metadata": {},
   "source": [
    "Question no.8"
   ]
  },
  {
   "cell_type": "code",
   "execution_count": 26,
   "id": "35b725b0-24c4-4a05-af09-a2d06e81e7d3",
   "metadata": {},
   "outputs": [],
   "source": [
    "price = 9.99"
   ]
  },
  {
   "cell_type": "code",
   "execution_count": 27,
   "id": "526a6f8a-1ef6-4207-894c-3306fa7736fd",
   "metadata": {},
   "outputs": [
    {
     "data": {
      "text/plain": [
       "float"
      ]
     },
     "execution_count": 27,
     "metadata": {},
     "output_type": "execute_result"
    }
   ],
   "source": [
    "type(price)"
   ]
  },
  {
   "cell_type": "markdown",
   "id": "da9a6289-e38a-4846-bfac-964be8295331",
   "metadata": {},
   "source": [
    "Question no.10"
   ]
  },
  {
   "cell_type": "code",
   "execution_count": 37,
   "id": "aff9602d-baa3-4e86-9653-adb86df0f209",
   "metadata": {},
   "outputs": [],
   "source": [
    "x = \"Hello,World!\""
   ]
  },
  {
   "cell_type": "code",
   "execution_count": 40,
   "id": "a1d1028f-83e6-4640-8aa4-289a13187465",
   "metadata": {},
   "outputs": [
    {
     "data": {
      "text/plain": [
       "'World'"
      ]
     },
     "execution_count": 40,
     "metadata": {},
     "output_type": "execute_result"
    }
   ],
   "source": [
    "x[6:-1]"
   ]
  },
  {
   "cell_type": "markdown",
   "id": "a926dd9b-9b0f-47f7-b1ee-c98590f9ca80",
   "metadata": {},
   "source": [
    "Question no.11"
   ]
  },
  {
   "cell_type": "code",
   "execution_count": 41,
   "id": "a0d003e5-fa6f-4f96-8698-c3d76aacc19d",
   "metadata": {},
   "outputs": [],
   "source": [
    "is_student = True\n",
    "is_teacher = False "
   ]
  },
  {
   "cell_type": "code",
   "execution_count": 46,
   "id": "dca93d9a-2837-4e4b-b725-5b3fe249cbc1",
   "metadata": {},
   "outputs": [
    {
     "data": {
      "text/plain": [
       "False"
      ]
     },
     "execution_count": 46,
     "metadata": {},
     "output_type": "execute_result"
    }
   ],
   "source": [
    "is_teacher"
   ]
  },
  {
   "cell_type": "markdown",
   "id": "d35d1819-d455-482a-ad50-c4623cc04fde",
   "metadata": {},
   "source": [
    "Question no.4"
   ]
  },
  {
   "cell_type": "code",
   "execution_count": 65,
   "id": "41f022e8-d286-4211-bc42-b33190fff8c1",
   "metadata": {},
   "outputs": [
    {
     "name": "stdout",
     "output_type": "stream",
     "text": [
      "Hello World!\n"
     ]
    }
   ],
   "source": [
    "\n",
    "print ('Hello World!')"
   ]
  },
  {
   "cell_type": "code",
   "execution_count": null,
   "id": "7d24bc10-7402-424c-9fcf-3c66c22c6a24",
   "metadata": {},
   "outputs": [],
   "source": []
  }
 ],
 "metadata": {
  "kernelspec": {
   "display_name": "Python 3 (ipykernel)",
   "language": "python",
   "name": "python3"
  },
  "language_info": {
   "codemirror_mode": {
    "name": "ipython",
    "version": 3
   },
   "file_extension": ".py",
   "mimetype": "text/x-python",
   "name": "python",
   "nbconvert_exporter": "python",
   "pygments_lexer": "ipython3",
   "version": "3.10.8"
  }
 },
 "nbformat": 4,
 "nbformat_minor": 5
}
