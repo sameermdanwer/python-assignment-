{
  "nbformat": 4,
  "nbformat_minor": 0,
  "metadata": {
    "colab": {
      "provenance": [],
      "authorship_tag": "ABX9TyMOpwyTTsTe6eUzhzs38ogx",
      "include_colab_link": true
    },
    "kernelspec": {
      "name": "python3",
      "display_name": "Python 3"
    },
    "language_info": {
      "name": "python"
    }
  },
  "cells": [
    {
      "cell_type": "markdown",
      "metadata": {
        "id": "view-in-github",
        "colab_type": "text"
      },
      "source": [
        "<a href=\"https://colab.research.google.com/github/sameermdanwer/python-assignment-/blob/main/KNN_Assignment_3.ipynb\" target=\"_parent\"><img src=\"https://colab.research.google.com/assets/colab-badge.svg\" alt=\"Open In Colab\"/></a>"
      ]
    },
    {
      "cell_type": "markdown",
      "source": [
        "# Q1. Write a Python code to implement the KNN classifier algorithm on load_iris dataset in\n",
        "sklearn.datasets.\n",
        "\n",
        "\n",
        "Here’s a Python code to implement the KNN classifier using the load_iris dataset from sklearn.datasets. This code will also include standard steps like splitting the dataset into training and test sets, fitting the KNN model, and evaluating its accuracy."
      ],
      "metadata": {
        "id": "BmM_xD0MOJiz"
      }
    },
    {
      "cell_type": "code",
      "source": [
        "# Import necessary libraries\n",
        "from sklearn.datasets import load_iris\n",
        "from sklearn.model_selection import train_test_split\n",
        "from sklearn.neighbors import KNeighborsClassifier\n",
        "from sklearn.metrics import accuracy_score, classification_report\n",
        "\n",
        "# Load the Iris dataset\n",
        "data = load_iris()\n",
        "X = data.data  # Features\n",
        "y = data.target  # Labels\n",
        "\n",
        "# Split the dataset into training and test sets\n",
        "X_train, X_test, y_train, y_test = train_test_split(X, y, test_size=0.3, random_state=42)\n",
        "\n",
        "# Initialize the KNN classifier with a chosen number of neighbors (k)\n",
        "k = 3\n",
        "knn = KNeighborsClassifier(n_neighbors=k)\n",
        "\n",
        "# Fit the model on the training data\n",
        "knn.fit(X_train, y_train)\n",
        "\n",
        "# Make predictions on the test data\n",
        "y_pred = knn.predict(X_test)\n",
        "\n",
        "# Calculate and print the accuracy\n",
        "accuracy = accuracy_score(y_test, y_pred)\n",
        "print(f\"Accuracy of KNN classifier with k={k}: {accuracy * 100:.2f}%\")\n",
        "\n",
        "# Print a detailed classification report\n",
        "print(\"Classification Report:\")\n",
        "print(classification_report(y_test, y_pred, target_names=data.target_names))\n"
      ],
      "metadata": {
        "colab": {
          "base_uri": "https://localhost:8080/"
        },
        "id": "tZIm7C2KOR34",
        "outputId": "2afcdc2e-0a00-449e-f1df-5c3e2f7efaf8"
      },
      "execution_count": 1,
      "outputs": [
        {
          "output_type": "stream",
          "name": "stdout",
          "text": [
            "Accuracy of KNN classifier with k=3: 100.00%\n",
            "Classification Report:\n",
            "              precision    recall  f1-score   support\n",
            "\n",
            "      setosa       1.00      1.00      1.00        19\n",
            "  versicolor       1.00      1.00      1.00        13\n",
            "   virginica       1.00      1.00      1.00        13\n",
            "\n",
            "    accuracy                           1.00        45\n",
            "   macro avg       1.00      1.00      1.00        45\n",
            "weighted avg       1.00      1.00      1.00        45\n",
            "\n"
          ]
        }
      ]
    },
    {
      "cell_type": "markdown",
      "source": [
        "# Q2. Write a Python code to implement the KNN regressor algorithm on load_boston dataset in\n",
        "sklearn.datasets.\n",
        "\n",
        "The load_boston dataset was removed from scikit-learn in recent versions due to ethical concerns around the dataset's content. However, for educational purposes, you can still access similar regression datasets, such as fetch_california_housing, which is a standard dataset for regression tasks.\n",
        "\n",
        "Here’s the code to implement the KNN regressor on the fetch_california_housing dataset using scikit-learn:"
      ],
      "metadata": {
        "id": "pvmI3WkaOe-g"
      }
    },
    {
      "cell_type": "code",
      "source": [
        "# Import necessary libraries\n",
        "from sklearn.datasets import fetch_california_housing\n",
        "from sklearn.model_selection import train_test_split\n",
        "from sklearn.neighbors import KNeighborsRegressor\n",
        "from sklearn.metrics import mean_squared_error, r2_score\n",
        "\n",
        "# Load the California housing dataset\n",
        "data = fetch_california_housing()\n",
        "X = data.data  # Features\n",
        "y = data.target  # Target values (house prices)\n",
        "\n",
        "# Split the dataset into training and test sets\n",
        "X_train, X_test, y_train, y_test = train_test_split(X, y, test_size=0.3, random_state=42)\n",
        "\n",
        "# Initialize the KNN regressor with a chosen number of neighbors (k)\n",
        "k = 5\n",
        "knn_regressor = KNeighborsRegressor(n_neighbors=k)\n",
        "\n",
        "# Fit the model on the training data\n",
        "knn_regressor.fit(X_train, y_train)\n",
        "\n",
        "# Make predictions on the test data\n",
        "y_pred = knn_regressor.predict(X_test)\n",
        "\n",
        "# Calculate and print the Mean Squared Error and R^2 Score\n",
        "mse = mean_squared_error(y_test, y_pred)\n",
        "r2 = r2_score(y_test, y_pred)\n",
        "\n",
        "print(f\"Mean Squared Error of KNN regressor with k={k}: {mse:.2f}\")\n",
        "print(f\"R^2 Score of KNN regressor with k={k}: {r2:.2f}\")\n"
      ],
      "metadata": {
        "colab": {
          "base_uri": "https://localhost:8080/"
        },
        "id": "1HQRI-aWOwKA",
        "outputId": "eb00228a-205a-4630-be68-3f2f19680627"
      },
      "execution_count": 2,
      "outputs": [
        {
          "output_type": "stream",
          "name": "stdout",
          "text": [
            "Mean Squared Error of KNN regressor with k=5: 1.14\n",
            "R^2 Score of KNN regressor with k=5: 0.13\n"
          ]
        }
      ]
    },
    {
      "cell_type": "markdown",
      "source": [
        "# Q3. Write a Python code snippet to find the optimal value of K for the KNN classifier algorithm using\n",
        "cross-validation on load_iris dataset in sklearn.datasets.\n",
        "\n",
        "\n",
        "To find the optimal value of\n",
        "𝑘\n",
        "k for a KNN classifier using cross-validation on the load_iris dataset, we can use cross_val_score from sklearn.model_selection to evaluate different values of\n",
        "𝑘\n",
        "k and select the one with the highest average accuracy.\n",
        "\n",
        "Here’s a code snippet to accomplish this:"
      ],
      "metadata": {
        "id": "R3xJuPSrOyDI"
      }
    },
    {
      "cell_type": "code",
      "source": [
        "# Import necessary libraries\n",
        "from sklearn.datasets import load_iris\n",
        "from sklearn.model_selection import cross_val_score\n",
        "from sklearn.neighbors import KNeighborsClassifier\n",
        "import numpy as np\n",
        "\n",
        "# Load the Iris dataset\n",
        "data = load_iris()\n",
        "X = data.data  # Features\n",
        "y = data.target  # Labels\n",
        "\n",
        "# Range of k values to try\n",
        "k_values = range(1, 21)\n",
        "cv_scores = []  # List to store cross-validation scores for each k\n",
        "\n",
        "# Perform cross-validation for each k\n",
        "for k in k_values:\n",
        "    knn = KNeighborsClassifier(n_neighbors=k)\n",
        "    # Using 5-fold cross-validation\n",
        "    scores = cross_val_score(knn, X, y, cv=5, scoring='accuracy')\n",
        "    cv_scores.append(scores.mean())  # Store the mean accuracy for each k\n",
        "\n",
        "# Find the optimal k with the highest cross-validation score\n",
        "optimal_k = k_values[np.argmax(cv_scores)]\n",
        "print(f\"The optimal value of k is: {optimal_k}\")\n",
        "print(f\"Cross-validation accuracy for optimal k: {cv_scores[np.argmax(cv_scores)]:.2f}\")\n",
        "\n",
        "# Optional: Plotting k vs. cross-validation accuracy\n",
        "import matplotlib.pyplot as plt\n",
        "\n",
        "plt.plot(k_values, cv_scores, marker='o')\n",
        "plt.xlabel(\"Number of Neighbors (k)\")\n",
        "plt.ylabel(\"Cross-Validation Accuracy\")\n",
        "plt.title(\"Optimal k for KNN Classifier\")\n",
        "plt.show()\n"
      ],
      "metadata": {
        "colab": {
          "base_uri": "https://localhost:8080/",
          "height": 507
        },
        "id": "m1tKybV-O-vy",
        "outputId": "02bf3e69-13c3-4ab2-fca6-c4b150cabbe3"
      },
      "execution_count": 3,
      "outputs": [
        {
          "output_type": "stream",
          "name": "stdout",
          "text": [
            "The optimal value of k is: 6\n",
            "Cross-validation accuracy for optimal k: 0.98\n"
          ]
        },
        {
          "output_type": "display_data",
          "data": {
            "text/plain": [
              "<Figure size 640x480 with 1 Axes>"
            ],
            "image/png": "[encoded data removed]"
          },
          "metadata": {}
        }
      ]
    },
    {
      "cell_type": "markdown",
      "source": [
        "# Q4. Implement the KNN regressor algorithm with feature scaling on load_boston dataset in\n",
        "sklearn.datasets.\n",
        "\n",
        "\n",
        "Since load_boston has been removed from scikit-learn, I'll demonstrate the KNN regressor algorithm with feature scaling on the fetch_california_housing dataset instead, which is a similar regression dataset. Feature scaling will be applied using"
      ],
      "metadata": {
        "id": "fwZcLzNqPLPB"
      }
    },
    {
      "cell_type": "code",
      "source": [
        "# Import necessary libraries\n",
        "from sklearn.datasets import fetch_california_housing\n",
        "from sklearn.model_selection import train_test_split\n",
        "from sklearn.preprocessing import StandardScaler\n",
        "from sklearn.neighbors import KNeighborsRegressor\n",
        "from sklearn.metrics import mean_squared_error, r2_score\n",
        "\n",
        "# Load the California housing dataset\n",
        "data = fetch_california_housing()\n",
        "X = data.data  # Features\n",
        "y = data.target  # Target values (house prices)\n",
        "\n",
        "# Split the dataset into training and test sets\n",
        "X_train, X_test, y_train, y_test = train_test_split(X, y, test_size=0.3, random_state=42)\n",
        "\n",
        "# Feature Scaling using StandardScaler\n",
        "scaler = StandardScaler()\n",
        "X_train_scaled = scaler.fit_transform(X_train)\n",
        "X_test_scaled = scaler.transform(X_test)\n",
        "\n",
        "# Initialize the KNN regressor with a chosen number of neighbors (k)\n",
        "k = 5\n",
        "knn_regressor = KNeighborsRegressor(n_neighbors=k)\n",
        "\n",
        "# Fit the model on the scaled training data\n",
        "knn_regressor.fit(X_train_scaled, y_train)\n",
        "\n",
        "# Make predictions on the scaled test data\n",
        "y_pred = knn_regressor.predict(X_test_scaled)\n",
        "\n",
        "# Calculate and print the Mean Squared Error and R^2 Score\n",
        "mse = mean_squared_error(y_test, y_pred)\n",
        "r2 = r2_score(y_test, y_pred)\n",
        "\n",
        "print(f\"Mean Squared Error of KNN regressor with k={k}: {mse:.2f}\")\n",
        "print(f\"R^2 Score of KNN regressor with k={k}: {r2:.2f}\")\n"
      ],
      "metadata": {
        "colab": {
          "base_uri": "https://localhost:8080/"
        },
        "id": "1wrVFYvbPTgX",
        "outputId": "19634859-dcfe-4731-8ffe-16224bf61670"
      },
      "execution_count": 4,
      "outputs": [
        {
          "output_type": "stream",
          "name": "stdout",
          "text": [
            "Mean Squared Error of KNN regressor with k=5: 0.43\n",
            "R^2 Score of KNN regressor with k=5: 0.67\n"
          ]
        }
      ]
    },
    {
      "cell_type": "markdown",
      "source": [
        "# Q5. Write a Python code snippet to implement the KNN classifier algorithm with weighted voting on\n",
        "load_iris dataset in sklearn.datasets.\n",
        "\n",
        "\n",
        "To implement the KNN classifier with weighted voting on the load_iris dataset from sklearn.datasets, we can use the weights='distance' parameter in the KNeighborsClassifier class. This ensures that closer neighbors have a greater influence on the classification decision."
      ],
      "metadata": {
        "id": "gqtjm7lWPU7_"
      }
    },
    {
      "cell_type": "code",
      "source": [
        "# Import necessary libraries\n",
        "from sklearn.datasets import load_iris\n",
        "from sklearn.model_selection import train_test_split\n",
        "from sklearn.neighbors import KNeighborsClassifier\n",
        "from sklearn.metrics import accuracy_score, classification_report\n",
        "\n",
        "# Load the Iris dataset\n",
        "data = load_iris()\n",
        "X = data.data  # Features\n",
        "y = data.target  # Labels\n",
        "\n",
        "# Split the dataset into training and test sets\n",
        "X_train, X_test, y_train, y_test = train_test_split(X, y, test_size=0.3, random_state=42)\n",
        "\n",
        "# Initialize the KNN classifier with weighted voting (distance-based weights)\n",
        "k = 5\n",
        "knn = KNeighborsClassifier(n_neighbors=k, weights='distance')\n",
        "\n",
        "# Fit the model on the training data\n",
        "knn.fit(X_train, y_train)\n",
        "\n",
        "# Make predictions on the test data\n",
        "y_pred = knn.predict(X_test)\n",
        "\n",
        "# Calculate and print the accuracy\n",
        "accuracy = accuracy_score(y_test, y_pred)\n",
        "print(f\"Accuracy of KNN classifier with weighted voting (k={k}): {accuracy * 100:.2f}%\")\n",
        "\n",
        "# Print a detailed classification report\n",
        "print(\"Classification Report:\")\n",
        "print(classification_report(y_test, y_pred, target_names=data.target_names))\n"
      ],
      "metadata": {
        "colab": {
          "base_uri": "https://localhost:8080/"
        },
        "id": "9wE0_9YAPijw",
        "outputId": "5a7ccf4d-3d6f-4b32-c0a0-cf210d228142"
      },
      "execution_count": 5,
      "outputs": [
        {
          "output_type": "stream",
          "name": "stdout",
          "text": [
            "Accuracy of KNN classifier with weighted voting (k=5): 100.00%\n",
            "Classification Report:\n",
            "              precision    recall  f1-score   support\n",
            "\n",
            "      setosa       1.00      1.00      1.00        19\n",
            "  versicolor       1.00      1.00      1.00        13\n",
            "   virginica       1.00      1.00      1.00        13\n",
            "\n",
            "    accuracy                           1.00        45\n",
            "   macro avg       1.00      1.00      1.00        45\n",
            "weighted avg       1.00      1.00      1.00        45\n",
            "\n"
          ]
        }
      ]
    },
    {
      "cell_type": "markdown",
      "source": [
        "# Q6. Implement a function to standardise the features before applying KNN classifier.\n",
        "\n",
        "\n",
        "To standardize the features before applying the KNN classifier, we can use the StandardScaler from sklearn.preprocessing to standardize the data by scaling it to have zero mean and unit variance.\n",
        "\n",
        "Below is a function that standardizes the features and then applies the KNN classifier on the dataset:\n",
        "\n",
        "Python Code:"
      ],
      "metadata": {
        "id": "5CqxiyHRPoiD"
      }
    },
    {
      "cell_type": "code",
      "source": [
        "# Import necessary libraries\n",
        "from sklearn.datasets import load_iris\n",
        "from sklearn.model_selection import train_test_split\n",
        "from sklearn.preprocessing import StandardScaler\n",
        "from sklearn.neighbors import KNeighborsClassifier\n",
        "from sklearn.metrics import accuracy_score, classification_report\n",
        "\n",
        "def knn_with_standardization(k=5):\n",
        "    # Load the Iris dataset\n",
        "    data = load_iris()\n",
        "    X = data.data  # Features\n",
        "    y = data.target  # Labels\n",
        "\n",
        "    # Split the dataset into training and test sets\n",
        "    X_train, X_test, y_train, y_test = train_test_split(X, y, test_size=0.3, random_state=42)\n",
        "\n",
        "    # Standardize the features using StandardScaler\n",
        "    scaler = StandardScaler()\n",
        "    X_train_scaled = scaler.fit_transform(X_train)  # Fit and transform on training data\n",
        "    X_test_scaled = scaler.transform(X_test)  # Only transform on test data\n",
        "\n",
        "    # Initialize the KNN classifier\n",
        "    knn = KNeighborsClassifier(n_neighbors=k)\n",
        "\n",
        "    # Fit the model on the standardized training data\n",
        "    knn.fit(X_train_scaled, y_train)\n",
        "\n",
        "    # Make predictions on the standardized test data\n",
        "    y_pred = knn.predict(X_test_scaled)\n",
        "\n",
        "    # Calculate accuracy and print classification report\n",
        "    accuracy = accuracy_score(y_test, y_pred)\n",
        "    print(f\"Accuracy of KNN classifier with k={k}: {accuracy * 100:.2f}%\")\n",
        "    print(\"Classification Report:\")\n",
        "    print(classification_report(y_test, y_pred, target_names=data.target_names))\n",
        "\n",
        "# Call the function with a desired value of k (for example, k=5)\n",
        "knn_with_standardization(k=5)\n"
      ],
      "metadata": {
        "colab": {
          "base_uri": "https://localhost:8080/"
        },
        "id": "lAG9JzdxPs9B",
        "outputId": "fc119b8e-9e36-47ab-fabf-723774053871"
      },
      "execution_count": 6,
      "outputs": [
        {
          "output_type": "stream",
          "name": "stdout",
          "text": [
            "Accuracy of KNN classifier with k=5: 100.00%\n",
            "Classification Report:\n",
            "              precision    recall  f1-score   support\n",
            "\n",
            "      setosa       1.00      1.00      1.00        19\n",
            "  versicolor       1.00      1.00      1.00        13\n",
            "   virginica       1.00      1.00      1.00        13\n",
            "\n",
            "    accuracy                           1.00        45\n",
            "   macro avg       1.00      1.00      1.00        45\n",
            "weighted avg       1.00      1.00      1.00        45\n",
            "\n"
          ]
        }
      ]
    },
    {
      "cell_type": "markdown",
      "source": [
        "# Q7. Write a Python function to calculate the euclidean distance between two points.\n",
        "\n",
        "\n",
        "The Euclidean distance between two points in a multi-dimensional space is calculated using the following formula:\n",
        "\n",
        "𝑑\n",
        "=\n",
        "∑\n",
        "𝑖\n",
        "=\n",
        "1\n",
        "𝑛\n",
        "(\n",
        "𝑥\n",
        "𝑖\n",
        "−\n",
        "𝑦\n",
        "𝑖\n",
        ")\n",
        "2\n",
        "d=\n",
        "i=1\n",
        "∑\n",
        "n\n",
        "​\n",
        " (x\n",
        "i\n",
        "​\n",
        " −y\n",
        "i\n",
        "​\n",
        " )\n",
        "2\n",
        "\n",
        "​\n",
        "\n",
        "where:\n",
        "\n",
        "𝑥\n",
        "𝑖\n",
        "x\n",
        "i\n",
        "​\n",
        "  and\n",
        "𝑦\n",
        "𝑖\n",
        "y\n",
        "i\n",
        "​\n",
        "  are the coordinates of the two points in the\n",
        "𝑖\n",
        "i-th dimension,\n",
        "𝑛\n",
        "n is the number of dimensions (features).\n",
        "Here’s a Python function to calculate the Euclidean distance between two points:\n",
        "\n",
        "Python Code:"
      ],
      "metadata": {
        "id": "jDokHbB8Pujp"
      }
    },
    {
      "cell_type": "code",
      "source": [
        "import math\n",
        "\n",
        "def euclidean_distance(point1, point2):\n",
        "    \"\"\"\n",
        "    Calculate the Euclidean distance between two points in n-dimensional space.\n",
        "\n",
        "    Parameters:\n",
        "    point1 (list or tuple): Coordinates of the first point.\n",
        "    point2 (list or tuple): Coordinates of the second point.\n",
        "\n",
        "    Returns:\n",
        "    float: The Euclidean distance between the two points.\n",
        "    \"\"\"\n",
        "    # Ensure both points have the same dimension\n",
        "    if len(point1) != len(point2):\n",
        "        raise ValueError(\"Points must have the same dimension\")\n",
        "\n",
        "    # Calculate the sum of squared differences\n",
        "    distance = 0\n",
        "    for x1, x2 in zip(point1, point2):\n",
        "        distance += (x1 - x2) ** 2\n",
        "\n",
        "    # Return the square root of the sum (Euclidean distance)\n",
        "    return math.sqrt(distance)\n",
        "\n",
        "# Example usage\n",
        "point1 = [2, 3, 4]\n",
        "point2 = [1, 1, 1]\n",
        "\n",
        "dist = euclidean_distance(point1, point2)\n",
        "print(f\"The Euclidean distance between the points is: {dist}\")\n"
      ],
      "metadata": {
        "colab": {
          "base_uri": "https://localhost:8080/"
        },
        "id": "F5qhvvG3QOAA",
        "outputId": "bf32681d-947f-4b81-869a-fc51b3618297"
      },
      "execution_count": 7,
      "outputs": [
        {
          "output_type": "stream",
          "name": "stdout",
          "text": [
            "The Euclidean distance between the points is: 3.7416573867739413\n"
          ]
        }
      ]
    },
    {
      "cell_type": "markdown",
      "source": [
        "# Example:\n",
        "For point1 = [2, 3, 4] and point2 = [1, 1, 1], the Euclidean distance would be calculated as:\n",
        "\n",
        "𝑑\n",
        "=\n",
        "(\n",
        "2\n",
        "−\n",
        "1\n",
        ")\n",
        "2\n",
        "+\n",
        "(\n",
        "3\n",
        "−\n",
        "1\n",
        ")\n",
        "2\n",
        "+\n",
        "(\n",
        "4\n",
        "−\n",
        "1\n",
        ")\n",
        "2\n",
        "=\n",
        "1\n",
        "+\n",
        "4\n",
        "+\n",
        "9\n",
        "=\n",
        "14\n",
        "≈\n",
        "3.74\n",
        "d=\n",
        "(2−1)\n",
        "2\n",
        " +(3−1)\n",
        "2\n",
        " +(4−1)\n",
        "2\n",
        "\n",
        "​\n",
        " =\n",
        "1+4+9\n",
        "​\n",
        " =\n",
        "14\n",
        "​\n",
        " ≈3.74\n",
        "This function can be used to calculate the Euclidean distance between any two points in an n-dimensional space."
      ],
      "metadata": {
        "id": "rpkkoWCoQQlg"
      }
    },
    {
      "cell_type": "markdown",
      "source": [
        "# Q8. Write a Python function to calculate the manhattan distance between two points.\n",
        "\n",
        "\n",
        "The Manhattan distance (also known as the taxicab distance or L1 norm) between two points is calculated by summing the absolute differences of their corresponding coordinates. The formula is:\n",
        "\n",
        "𝑑\n",
        "=\n",
        "∑\n",
        "𝑖\n",
        "=\n",
        "1\n",
        "𝑛\n",
        "∣\n",
        "𝑥\n",
        "𝑖\n",
        "−\n",
        "𝑦\n",
        "𝑖\n",
        "∣\n",
        "d=\n",
        "i=1\n",
        "∑\n",
        "n\n",
        "​\n",
        " ∣x\n",
        "i\n",
        "​\n",
        " −y\n",
        "i\n",
        "​\n",
        " ∣\n",
        "where:\n",
        "\n",
        "𝑥\n",
        "𝑖\n",
        "x\n",
        "i\n",
        "​\n",
        "  and\n",
        "𝑦\n",
        "𝑖\n",
        "y\n",
        "i\n",
        "​\n",
        "  are the coordinates of the two points in the\n",
        "𝑖\n",
        "i-th dimension,\n",
        "𝑛\n",
        "n is the number of dimensions (features).\n",
        "Here’s a Python function to calculate the Manhattan distance between two points:\n",
        "\n",
        "Python Code:"
      ],
      "metadata": {
        "id": "C5M2uL9zQXgJ"
      }
    },
    {
      "cell_type": "code",
      "source": [
        "def manhattan_distance(point1, point2):\n",
        "    \"\"\"\n",
        "    Calculate the Manhattan distance between two points in n-dimensional space.\n",
        "\n",
        "    Parameters:\n",
        "    point1 (list or tuple): Coordinates of the first point.\n",
        "    point2 (list or tuple): Coordinates of the second point.\n",
        "\n",
        "    Returns:\n",
        "    float: The Manhattan distance between the two points.\n",
        "    \"\"\"\n",
        "    # Ensure both points have the same dimension\n",
        "    if len(point1) != len(point2):\n",
        "        raise ValueError(\"Points must have the same dimension\")\n",
        "\n",
        "    # Calculate the sum of absolute differences\n",
        "    distance = 0\n",
        "    for x1, x2 in zip(point1, point2):\n",
        "        distance += abs(x1 - x2)\n",
        "\n",
        "    return distance\n",
        "\n",
        "# Example usage\n",
        "point1 = [2, 3, 4]\n",
        "point2 = [1, 1, 1]\n",
        "\n",
        "dist = manhattan_distance(point1, point2)\n",
        "print(f\"The Manhattan distance between the points is: {dist}\")\n"
      ],
      "metadata": {
        "colab": {
          "base_uri": "https://localhost:8080/"
        },
        "id": "KOspCW2pRXMo",
        "outputId": "6861c8bc-cbc5-4c16-c061-e7b02e2eccc4"
      },
      "execution_count": 8,
      "outputs": [
        {
          "output_type": "stream",
          "name": "stdout",
          "text": [
            "The Manhattan distance between the points is: 6\n"
          ]
        }
      ]
    },
    {
      "cell_type": "markdown",
      "source": [
        "# Example:\n",
        "\n",
        "For point1 = [2, 3, 4] and point2 = [1, 1, 1], the Manhattan distance would be calculated as:\n",
        "\n",
        "𝑑\n",
        "=\n",
        "∣\n",
        "2\n",
        "−\n",
        "1\n",
        "∣\n",
        "+\n",
        "∣\n",
        "3\n",
        "−\n",
        "1\n",
        "∣\n",
        "+\n",
        "∣\n",
        "4\n",
        "−\n",
        "1\n",
        "∣\n",
        "=\n",
        "1\n",
        "+\n",
        "2\n",
        "+\n",
        "3\n",
        "=\n",
        "6\n",
        "d=∣2−1∣+∣3−1∣+∣4−1∣=1+2+3=6\n",
        "This function can be used to calculate the Manhattan distance between any two points in an n-dimensional space"
      ],
      "metadata": {
        "id": "wNNjjCa5Rr84"
      }
    }
  ]
}