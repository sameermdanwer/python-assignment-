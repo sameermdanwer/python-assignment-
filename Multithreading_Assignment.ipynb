{
  "nbformat": 4,
  "nbformat_minor": 0,
  "metadata": {
    "colab": {
      "provenance": [],
      "authorship_tag": "ABX9TyP/DXA5v5kh1cJvriZGjc+g",
      "include_colab_link": true
    },
    "kernelspec": {
      "name": "python3",
      "display_name": "Python 3"
    },
    "language_info": {
      "name": "python"
    }
  },
  "cells": [
    {
      "cell_type": "markdown",
      "metadata": {
        "id": "view-in-github",
        "colab_type": "text"
      },
      "source": [
        "<a href=\"https://colab.research.google.com/github/sameermdanwer/python-assignment-/blob/main/Multithreading_Assignment.ipynb\" target=\"_parent\"><img src=\"https://colab.research.google.com/assets/colab-badge.svg\" alt=\"Open In Colab\"/></a>"
      ]
    },
    {
      "cell_type": "markdown",
      "source": [
        "# Q1. What is multithreading in python? Why is it used? Name the module used to handle threads in python?\n",
        "\n",
        "Multithreading in Python is the ability of a program to manage multiple threads, where each thread is a lightweight, separate flow of control. A thread allows multiple operations to run concurrently in the same process space, meaning the code can potentially perform tasks in parallel (or seemingly at the same time).\n",
        "\n",
        "# Why is multithreading used?\n",
        "Multithreading is used primarily for the following reasons:\n",
        "\n",
        "1. Concurrency: To allow tasks to run concurrently, which can make applications more efficient and responsive, especially when performing I/O-bound operations such as reading or writing to files, networking, or waiting for user input.\n",
        "\n",
        "2. Improved Application Performance: For tasks like web scraping, database queries, and file I/O, multithreading can significantly speed up operations, as it allows different tasks to be executed without waiting for others to finish.\n",
        "\n",
        "3. Responsiveness: For applications with user interfaces, such as GUIs, multithreading can ensure that the interface remains responsive while background tasks are processed.\n",
        "\n",
        "# Module used to handle threads in Python\n",
        "In Python, the module used to handle threads is called the threading module. This module provides a high-level interface for working with threads, allowing developers to create and manage multiple threads easily."
      ],
      "metadata": {
        "id": "TQ_f4AxWDnSr"
      }
    },
    {
      "cell_type": "code",
      "source": [
        "import threading\n",
        "\n",
        "def print_numbers():\n",
        "    for i in range(5):\n",
        "        print(i)\n",
        "\n",
        "# Create a thread\n",
        "thread = threading.Thread(target=print_numbers)\n",
        "\n",
        "# Start the thread\n",
        "thread.start()\n",
        "\n",
        "# Wait for the thread to finish\n",
        "thread.join()"
      ],
      "metadata": {
        "colab": {
          "base_uri": "https://localhost:8080/"
        },
        "id": "x8BumWr6EjLa",
        "outputId": "41be9f81-5382-4aef-b497-c0634461073f"
      },
      "execution_count": 1,
      "outputs": [
        {
          "output_type": "stream",
          "name": "stdout",
          "text": [
            "0\n",
            "1\n",
            "2\n",
            "3\n",
            "4\n"
          ]
        }
      ]
    },
    {
      "cell_type": "markdown",
      "source": [
        "# Q2. Why threading module used? Write the use of the following functions\n",
        "activeCount()\n",
        " currentThread()\n",
        " enumerate()\n",
        "\n",
        "The threading module in Python is used to create and manage threads, allowing for concurrent execution of code. It is especially useful in situations where you need to run multiple tasks in parallel or where blocking I/O operations (like file reading or network calls) would normally slow down your program. The key benefits of using the threading module are:\n",
        "\n",
        "`1. Concurrency: It allows multiple threads to run simultaneously, enabling multitasking.\n",
        "2. Improved Efficiency: It enhances the efficiency of applications, particularly those with I/O-bound or high-latency tasks.\n",
        "3. Resource Sharing: Threads can share data and resources, which is useful when managing large or complex programs.\n",
        "# Use of the following functions:\n",
        "1. threading.activeCount()\n",
        "Description: This function returns the number of currently active threads in the program.\n",
        "Usage: It is often used to monitor or manage threads by determining how many threads are running at any given point in the execution of the program.\n",
        "\n",
        "2. threading.currentThread()\n",
        "Description: This function returns a reference to the current thread object, which represents the thread in which the function is called.\n",
        "Usage: It is useful when you need information about the current thread, such as its name, state, or other attributes\n",
        "\n",
        "3. threading.enumerate()\n",
        "Description: This function returns a list of all currently active Thread objects. This includes both daemon threads and non-daemon threads.\n",
        "Usage: It helps to get a list of all running threads, which can be useful for debugging or managing thread execution.\n"
      ],
      "metadata": {
        "id": "hdwf_HtXEsIP"
      }
    },
    {
      "cell_type": "markdown",
      "source": [
        "# Q3. Explain the following functions\n",
        " run()\n",
        " start()\n",
        " join()\n",
        "' isAlive()\n",
        "\n",
        "1. run()\n",
        "Description: The run() method is the entry point for a thread’s activity. This is where you define the code that will be executed by the thread. Typically, you override the run() method when you create a custom thread class by subclassing the Thread class.\n",
        "\n",
        "2. start()\n",
        "Description: The start() method begins the execution of the thread. It allocates resources and calls the thread’s run() method in a separate thread of control. This is the method to invoke if you want to run the thread in parallel with other threads or the main program.\n",
        "\n",
        "3. join()\n",
        "Description: The join() method makes the calling thread (e.g., the main thread) wait until the thread on which join() is called terminates. This is useful when you need to ensure that all threads have completed before proceeding with the rest of the program.\n",
        "\n",
        "4. isAlive() (deprecated in Python 3.9+; use is_alive() instead)\n",
        "Description: The isAlive() method checks whether a thread is still running. It returns True if the thread is still executing and False if it has finished.\n",
        "\n",
        "Usage: This method helps in checking the state of a thread, determining whether it has completed its task or is still active."
      ],
      "metadata": {
        "id": "br_bmP0ZGKm8"
      }
    },
    {
      "cell_type": "markdown",
      "source": [
        "# Q4. Write a python program to create two threads. Thread one must print the list of squares and thread\n",
        "two must print the list of cubes.\n",
        "\n",
        "Here’s a Python program that creates two threads: one to print the list of squares and the other to print the list of cubes of numbers from 1 to 5."
      ],
      "metadata": {
        "id": "6KCrB3WVHKey"
      }
    },
    {
      "cell_type": "code",
      "source": [
        "import threading\n",
        "\n",
        "# Function to print squares of numbers\n",
        "def print_squares(numbers):\n",
        "    for n in numbers:\n",
        "        print(f\"Square of {n}: {n**2}\")\n",
        "\n",
        "# Function to print cubes of numbers\n",
        "def print_cubes(numbers):\n",
        "    for n in numbers:\n",
        "        print(f\"Cube of {n}: {n**3}\")\n",
        "\n",
        "# List of numbers\n",
        "numbers = [1, 2, 3, 4, 5]\n",
        "\n",
        "# Creating two threads\n",
        "thread1 = threading.Thread(target=print_squares, args=(numbers,))\n",
        "thread2 = threading.Thread(target=print_cubes, args=(numbers,))\n",
        "\n",
        "# Starting both threads\n",
        "thread1.start()\n",
        "thread2.start()\n",
        "\n",
        "# Waiting for both threads to complete\n",
        "thread1.join()\n",
        "thread2.join()\n",
        "\n",
        "print(\"Both threads have finished execution\")"
      ],
      "metadata": {
        "colab": {
          "base_uri": "https://localhost:8080/"
        },
        "id": "nmYdFEQlHhfR",
        "outputId": "bd4e2838-07b8-4cf5-a765-09a745b681d6"
      },
      "execution_count": 2,
      "outputs": [
        {
          "output_type": "stream",
          "name": "stdout",
          "text": [
            "Square of 1: 1\n",
            "Square of 2: 4\n",
            "Square of 3: 9\n",
            "Square of 4: 16\n",
            "Square of 5: 25\n",
            "Cube of 1: 1\n",
            "Cube of 2: 8\n",
            "Cube of 3: 27\n",
            "Cube of 4: 64\n",
            "Cube of 5: 125\n",
            "Both threads have finished execution\n"
          ]
        }
      ]
    },
    {
      "cell_type": "markdown",
      "source": [
        "# Q5. State advantages and disadvantages of multithreading.\n",
        "\n",
        "# Advantages of Multithreading\n",
        "1. Improved Responsiveness:\n",
        "\n",
        "Multithreading allows a program to remain responsive even when performing long-running tasks. For example, in a GUI application, one thread can handle user input while other threads perform background tasks.\n",
        "\n",
        "2. Concurrency:\n",
        "\n",
        "Threads enable multiple tasks to be executed seemingly in parallel. While Python’s Global Interpreter Lock (GIL) can limit true parallelism for CPU-bound tasks, multithreading is very effective for I/O-bound operations like file handling, network communication, and database access.\n",
        "\n",
        "3. Efficient Resource Sharing:\n",
        "\n",
        "Threads share the same memory space, which makes communication between threads easier. Shared data structures like queues can be used without the overhead of inter-process communication (IPC).\n",
        "\n",
        "4. Better Utilization of System Resources:\n",
        "\n",
        "In I/O-bound and high-latency applications, multithreading ensures that the CPU is used more efficiently. While one thread is waiting for I/O, others can utilize CPU time.\n",
        "\n",
        "# Disadvantages of Multithreading\n",
        "\n",
        "1. Global Interpreter Lock (GIL) in Python:\n",
        "\n",
        "Python’s GIL limits true parallelism for CPU-bound tasks in the CPython interpreter. While threads can be created, only one thread can execute Python bytecode at a time. This reduces the potential benefits of multithreading for CPU-intensive tasks.\n",
        "\n",
        "2. Complexity:\n",
        "\n",
        "Multithreaded programs can be harder to design, implement, and debug. Issues like race conditions, deadlocks, and thread synchronization can introduce hard-to-detect bugs, leading to unpredictable behavior.\n",
        "\n",
        "3. Race Conditions:\n",
        "\n",
        "When multiple threads access shared resources, there is a risk of race conditions, where threads interfere with each other’s execution. This can result in incorrect data or behavior unless proper synchronization (locks, semaphores) is used.\n",
        "\n",
        "4. Increased Memory Usage:\n",
        "\n",
        "Although threads share the same memory space, they still require their own stack and some overhead. Creating too many threads can increase the memory footprint of the application."
      ],
      "metadata": {
        "id": "6F0CQdugIgE6"
      }
    },
    {
      "cell_type": "markdown",
      "source": [
        "# Q6. Explain deadlocks and race conditions.\n",
        "\n",
        "1. # Deadlocks\n",
        "Deadlock is a situation in multithreading (or multiprocessing) where two or more threads (or processes) are stuck in a state of waiting for each other, and none can proceed because they are holding resources that the other needs. As a result, the entire system comes to a halt, and no progress is made.\n",
        "\n",
        "How Deadlocks Occur:\n",
        "Deadlocks generally occur when four conditions are met simultaneously:\n",
        "\n",
        "Mutual Exclusion: At least one resource must be held in a non-shareable mode. Only one thread can access the resource at a time.\n",
        "Hold and Wait: A thread holds a resource while waiting to acquire another resource that is currently being held by another thread.\n",
        "No Preemption: Resources cannot be forcibly taken away from a thread. They can only be released voluntarily by the thread holding them.\n",
        "Circular Wait: A set of threads are waiting for each other in a circular chain, where each thread is waiting for a resource held by the next thread in the chain."
      ],
      "metadata": {
        "id": "dAshlT8wJgt8"
      }
    },
    {
      "cell_type": "code",
      "source": [
        "import threading\n",
        "\n",
        "lock1 = threading.Lock()\n",
        "lock2 = threading.Lock()\n",
        "\n",
        "def task1():\n",
        "    lock1.acquire()\n",
        "    print(\"Thread 1 acquired lock1\")\n",
        "\n",
        "    lock2.acquire()  # Thread 1 waits for lock2\n",
        "    print(\"Thread 1 acquired lock2\")\n",
        "\n",
        "    lock2.release()\n",
        "    lock1.release()\n",
        "\n",
        "def task2():\n",
        "    lock2.acquire()\n",
        "    print(\"Thread 2 acquired lock2\")\n",
        "\n",
        "    lock1.acquire()  # Thread 2 waits for lock1\n",
        "    print(\"Thread 2 acquired lock1\")\n",
        "\n",
        "    lock1.release()\n",
        "    lock2.release()\n",
        "\n",
        "# Creating threads\n",
        "t1 = threading.Thread(target=task1)\n",
        "t2 = threading.Thread(target=task2)\n",
        "\n",
        "# Starting threads\n",
        "t1.start()\n",
        "t2.start()\n",
        "\n",
        "# Waiting for threads to complete\n",
        "t1.join()\n",
        "t2.join()"
      ],
      "metadata": {
        "colab": {
          "base_uri": "https://localhost:8080/"
        },
        "id": "IgyleOSZKTep",
        "outputId": "2b520dc6-6dcd-4c9f-93a4-d4bda78cdfc3"
      },
      "execution_count": null,
      "outputs": [
        {
          "output_type": "stream",
          "name": "stdout",
          "text": [
            "Thread 1 acquired lock1Thread 2 acquired lock2\n",
            "\n"
          ]
        }
      ]
    },
    {
      "cell_type": "markdown",
      "source": [
        "# 2. Race Conditions\n",
        "Race Condition is a situation in multithreading (or multiprocessing) where the outcome of a program depends on the timing or sequence of events (i.e., the order in which threads or processes execute). It occurs when two or more threads access shared resources (such as variables, files, or memory) simultaneously, and at least one of them modifies the resource.\n",
        "\n",
        "How Race Conditions Occur:\n",
        "A race condition happens when:\n",
        "\n",
        "Multiple threads or processes access a shared resource at the same time.\n",
        "The access is not synchronized properly.\n",
        "One thread reads or modifies the shared resource while another thread is doing the same, leading to unpredictable results."
      ],
      "metadata": {
        "id": "TnBbRxuiKQr7"
      }
    },
    {
      "cell_type": "code",
      "source": [
        "import threading\n",
        "\n",
        "lock1 = threading.Lock()\n",
        "lock2 = threading.Lock()\n",
        "\n",
        "def task1():\n",
        "    lock1.acquire()\n",
        "    print(\"Thread 1 acquired lock1\")\n",
        "\n",
        "    lock2.acquire()  # Thread 1 waits for lock2\n",
        "    print(\"Thread 1 acquired lock2\")\n",
        "\n",
        "    lock2.release()\n",
        "    lock1.release()\n",
        "\n",
        "def task2():\n",
        "    lock2.acquire()\n",
        "    print(\"Thread 2 acquired lock2\")\n",
        "\n",
        "    lock1.acquire()  # Thread 2 waits for lock1\n",
        "    print(\"Thread 2 acquired lock1\")\n",
        "\n",
        "    lock1.release()\n",
        "    lock2.release()\n",
        "\n",
        "# Creating threads\n",
        "t1 = threading.Thread(target=task1)\n",
        "t2 = threading.Thread(target=task2)\n",
        "\n",
        "# Starting threads\n",
        "t1.start()\n",
        "t2.start()\n",
        "\n",
        "# Waiting for threads to complete\n",
        "t1.join()\n",
        "t2.join()"
      ],
      "metadata": {
        "id": "175loSL_K07T"
      },
      "execution_count": null,
      "outputs": []
    }
  ]
}