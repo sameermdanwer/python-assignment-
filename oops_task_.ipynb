{
  "nbformat": 4,
  "nbformat_minor": 0,
  "metadata": {
    "colab": {
      "provenance": [],
      "authorship_tag": "ABX9TyNvIrNMudHpVkc8sz73+ZSw",
      "include_colab_link": true
    },
    "kernelspec": {
      "name": "python3",
      "display_name": "Python 3"
    },
    "language_info": {
      "name": "python"
    }
  },
  "cells": [
    {
      "cell_type": "markdown",
      "metadata": {
        "id": "view-in-github",
        "colab_type": "text"
      },
      "source": [
        "<a href=\"https://colab.research.google.com/github/sameermdanwer/python-assignment-/blob/main/oops_task_.ipynb\" target=\"_parent\"><img src=\"https://colab.research.google.com/assets/colab-badge.svg\" alt=\"Open In Colab\"/></a>"
      ]
    },
    {
      "cell_type": "markdown",
      "source": [
        "# Q1, Create a vehicle class with an init method having instance variables as name_of_vehicle, max_speed\n",
        "and average_of_vehicle.\n",
        "\n",
        "ans - Here is the implementation of the Vehicle class with the __init__ method having instance variables name_of_vehicle, max_speed, and average_of_vehicle:"
      ],
      "metadata": {
        "id": "QV_4pmiIyYPI"
      }
    },
    {
      "cell_type": "code",
      "source": [
        "class Vehicle:\n",
        "    def __init__(self, name_of_vehicle, max_speed, average_of_vehicle):\n",
        "        self.name_of_vehicle = name_of_vehicle\n",
        "        self.max_speed = max_speed\n",
        "        self.average_of_vehicle = average_of_vehicle\n",
        "\n",
        "# Example of creating an object of the Vehicle class\n",
        "car = Vehicle(\"Car\", 200, 15)\n",
        "print(f\"Vehicle: {car.name_of_vehicle}, Max Speed: {car.max_speed} km/h, Average: {car.average_of_vehicle} km/l\")"
      ],
      "metadata": {
        "colab": {
          "base_uri": "https://localhost:8080/"
        },
        "id": "-zvvLyM3yvvS",
        "outputId": "42993c62-7e4f-4ca5-c15b-1690667c01db"
      },
      "execution_count": 1,
      "outputs": [
        {
          "output_type": "stream",
          "name": "stdout",
          "text": [
            "Vehicle: Car, Max Speed: 200 km/h, Average: 15 km/l\n"
          ]
        }
      ]
    },
    {
      "cell_type": "markdown",
      "source": [
        "# Q2. Create a child class car from the vehicle class created in Que 1, which will inherit the vehicle class.\n",
        "Create a method named seating_capacity which takes capacity as an argument and returns the name of\n",
        "the vehicle and its seating capacity.\n",
        "\n",
        "answer :-\n",
        "\n",
        "Here’s how you can create a child class Car that inherits from the Vehicle class and includes the seating_capacity method:"
      ],
      "metadata": {
        "id": "vAk-Z0S8zRrS"
      }
    },
    {
      "cell_type": "code",
      "source": [
        "# Parent class Vehicle\n",
        "class Vehicle:\n",
        "    def __init__(self, name_of_vehicle, max_speed, average_of_vehicle):\n",
        "        self.name_of_vehicle = name_of_vehicle\n",
        "        self.max_speed = max_speed\n",
        "        self.average_of_vehicle = average_of_vehicle\n",
        "\n",
        "# Child class Car inheriting from Vehicle\n",
        "class Car(Vehicle):\n",
        "    def seating_capacity(self, capacity):\n",
        "        return f\"{self.name_of_vehicle} has a seating capacity of {capacity}.\"\n",
        "\n",
        "# Example of creating an object of the Car class\n",
        "my_car = Car(\"Sedan\", 180, 12)\n",
        "print(my_car.seating_capacity(5))"
      ],
      "metadata": {
        "colab": {
          "base_uri": "https://localhost:8080/"
        },
        "id": "Rte4EhHZzgi5",
        "outputId": "39132f51-37f9-482c-810b-ebe371a83d04"
      },
      "execution_count": 2,
      "outputs": [
        {
          "output_type": "stream",
          "name": "stdout",
          "text": [
            "Sedan has a seating capacity of 5.\n"
          ]
        }
      ]
    },
    {
      "cell_type": "markdown",
      "source": [
        "Explanation:\n",
        "Car inherits from Vehicle.\n",
        "The method seating_capacity takes capacity as an argument and returns a string mentioning the vehicle's name and its seating capacity."
      ],
      "metadata": {
        "id": "V798s2uvzwcr"
      }
    },
    {
      "cell_type": "markdown",
      "source": [
        "# Q3. What is multiple inheritance? Write a python code to demonstrate multiple inheritance.\n",
        "\n",
        "Multiple Inheritance:\n",
        "Multiple inheritance is a feature of object-oriented programming where a class can inherit attributes and methods from more than one parent class. This allows the child class to have the characteristics and behavior of multiple base classes."
      ],
      "metadata": {
        "id": "hZMal3lA0U7Y"
      }
    },
    {
      "cell_type": "code",
      "source": [
        "# First Parent class\n",
        "class Engine:\n",
        "    def __init__(self, engine_type):\n",
        "        self.engine_type = engine_type\n",
        "\n",
        "    def start_engine(self):\n",
        "        return f\"The {self.engine_type} engine is now running.\"\n",
        "\n",
        "# Second Parent class\n",
        "class Wheels:\n",
        "    def __init__(self, num_wheels):\n",
        "        self.num_wheels = num_wheels\n",
        "\n",
        "    def wheel_count(self):\n",
        "        return f\"This vehicle has {self.num_wheels} wheels.\"\n",
        "\n",
        "# Child class inheriting from both Engine and Wheels\n",
        "class Car(Engine, Wheels):\n",
        "    def __init__(self, name_of_vehicle, engine_type, num_wheels):\n",
        "        # Initialize parent classes\n",
        "        Engine.__init__(self, engine_type)\n",
        "        Wheels.__init__(self, num_wheels)\n",
        "        self.name_of_vehicle = name_of_vehicle\n",
        "\n",
        "    def vehicle_info(self):\n",
        "        return f\"{self.name_of_vehicle} with {self.engine_type} engine and {self.num_wheels} wheels.\"\n",
        "\n",
        "# Example of using the Car class\n",
        "my_car = Car(\"Sedan\", \"Petrol\", 4)\n",
        "\n",
        "print(my_car.start_engine())       # From Engine class\n",
        "print(my_car.wheel_count())        # From Wheels class\n",
        "print(my_car.vehicle_info())       # From Car class\n"
      ],
      "metadata": {
        "colab": {
          "base_uri": "https://localhost:8080/"
        },
        "id": "eFYUeqViz2PR",
        "outputId": "6ab3ccd0-f5d2-4951-9ac9-5d204ae06977"
      },
      "execution_count": 3,
      "outputs": [
        {
          "output_type": "stream",
          "name": "stdout",
          "text": [
            "The Petrol engine is now running.\n",
            "This vehicle has 4 wheels.\n",
            "Sedan with Petrol engine and 4 wheels.\n"
          ]
        }
      ]
    },
    {
      "cell_type": "markdown",
      "source": [
        "Explanation:\n",
        "\n",
        "The Car class inherits from both Engine and Wheels, demonstrating multiple inheritance.\n",
        "It can access methods from both parent classes (start_engine from Engine and wheel_count from Wheels).\n",
        "The __init__ method in Car is responsible for initializing attributes from both parent classes."
      ],
      "metadata": {
        "id": "PANI9Mdc0zqR"
      }
    },
    {
      "cell_type": "markdown",
      "source": [
        "# Q4. What are getter and setter in python? Create a class and create a getter and a setter method in this\n",
        "class.\n",
        "\n",
        "Getter and Setter in Python:\n",
        "In Python, getters and setters are used to access and modify the values of private or protected instance variables, while also allowing for additional logic such as validation or transformation.\n",
        "\n",
        "Getter: A method that allows you to access an attribute in a controlled way.\n",
        "Setter: A method that allows you to modify an attribute in a controlled way.\n",
        "Python allows the use of the @property decorator to define getters, and the @<property_name>.setter decorator to define setters."
      ],
      "metadata": {
        "id": "BKBLn5st1L-5"
      }
    },
    {
      "cell_type": "code",
      "source": [
        "class Person:\n",
        "    def __init__(self, name, age):\n",
        "        self._name = name   # Protected variable (conventionally, starts with _)\n",
        "        self._age = age     # Protected variable (conventionally, starts with _)\n",
        "\n",
        "    # Getter for 'age'\n",
        "    @property\n",
        "    def age(self):\n",
        "        return self._age\n",
        "\n",
        "    # Setter for 'age'\n",
        "    @age.setter\n",
        "    def age(self, value):\n",
        "        if value < 0:\n",
        "            raise ValueError(\"Age cannot be negative!\")\n",
        "        self._age = value\n",
        "\n",
        "    # Getter for 'name'\n",
        "    @property\n",
        "    def name(self):\n",
        "        return self._name\n",
        "\n",
        "    # Setter for 'name'\n",
        "    @name.setter\n",
        "    def name(self, value):\n",
        "        if not value:\n",
        "            raise ValueError(\"Name cannot be empty!\")\n",
        "        self._name = value\n",
        "\n",
        "# Example usage\n",
        "person = Person(\"John\", 25)\n",
        "\n",
        "# Using getter\n",
        "print(f\"Name: {person.name}, Age: {person.age}\")\n",
        "\n",
        "# Using setter to update the age\n",
        "person.age = 30\n",
        "print(f\"Updated Age: {person.age}\")\n",
        "\n",
        "# Using setter to update the name\n",
        "person.name = \"Alice\"\n",
        "print(f\"Updated Name: {person.name}\")\n",
        "\n",
        "# Trying to set an invalid age (raises an exception)\n",
        "# person.age = -5  # This will raise a ValueError"
      ],
      "metadata": {
        "colab": {
          "base_uri": "https://localhost:8080/"
        },
        "id": "rkTK_-pz1Rck",
        "outputId": "d8796e47-9368-4e08-c13f-1dc48d7c4a02"
      },
      "execution_count": 4,
      "outputs": [
        {
          "output_type": "stream",
          "name": "stdout",
          "text": [
            "Name: John, Age: 25\n",
            "Updated Age: 30\n",
            "Updated Name: Alice\n"
          ]
        }
      ]
    },
    {
      "cell_type": "markdown",
      "source": [
        "# Q5.What is method overriding in python? Write a python code to demonstrate method overriding.\n",
        "\n",
        "Method overriding occurs when a subclass (child class) provides a specific implementation for a method that is already defined in its superclass (parent class). The overridden method in the child class has the same name, parameters, and return type as the method in the parent class. This allows the child class to provide its own specific behavior for that method."
      ],
      "metadata": {
        "id": "PHs8jQcL073w"
      }
    },
    {
      "cell_type": "code",
      "source": [
        "# Parent class\n",
        "class Animal:\n",
        "    def sound(self):\n",
        "        return \"Animals make different sounds.\"\n",
        "\n",
        "# Child class inheriting from Animal\n",
        "class Dog(Animal):\n",
        "    # Overriding the sound method in the Animal class\n",
        "    def sound(self):\n",
        "        return \"Dogs bark.\"\n",
        "\n",
        "# Child class inheriting from Animal\n",
        "class Cat(Animal):\n",
        "    # Overriding the sound method in the Animal class\n",
        "    def sound(self):\n",
        "        return \"Cats meow.\"\n",
        "\n",
        "# Example usage\n",
        "generic_animal = Animal()\n",
        "dog = Dog()\n",
        "cat = Cat()\n",
        "\n",
        "print(generic_animal.sound())  # Output: Animals make different sounds.\n",
        "print(dog.sound())             # Output: Dogs bark.\n",
        "print(cat.sound())             # Output: Cats meow."
      ],
      "metadata": {
        "colab": {
          "base_uri": "https://localhost:8080/"
        },
        "id": "33kE94qP1-xG",
        "outputId": "0d180cb2-922f-40d4-92dc-ca030cd5d64a"
      },
      "execution_count": 5,
      "outputs": [
        {
          "output_type": "stream",
          "name": "stdout",
          "text": [
            "Animals make different sounds.\n",
            "Dogs bark.\n",
            "Cats meow.\n"
          ]
        }
      ]
    },
    {
      "cell_type": "markdown",
      "source": [
        "# Explanation:\n",
        "The Animal class defines a sound method, which returns a generic message about animals.\n",
        "The Dog and Cat classes inherit from Animal and override the sound method to provide specific behavior for dogs and cats.\n",
        "When sound() is called on Dog and Cat objects, the overridden version in the respective child class is executed instead of the parent class version."
      ],
      "metadata": {
        "id": "QfWNfGMW2NNg"
      }
    },
    {
      "cell_type": "code",
      "source": [],
      "metadata": {
        "id": "m_SqZ1OV2QRi"
      },
      "execution_count": null,
      "outputs": []
    },
    {
      "cell_type": "code",
      "source": [],
      "metadata": {
        "id": "z5m-9ZLA01wI"
      },
      "execution_count": null,
      "outputs": []
    }
  ]
}