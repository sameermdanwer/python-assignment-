{
  "nbformat": 4,
  "nbformat_minor": 0,
  "metadata": {
    "colab": {
      "provenance": [],
      "authorship_tag": "ABX9TyNFs7GfO7EjtJI2tlSlrV74",
      "include_colab_link": true
    },
    "kernelspec": {
      "name": "python3",
      "display_name": "Python 3"
    },
    "language_info": {
      "name": "python"
    }
  },
  "cells": [
    {
      "cell_type": "markdown",
      "metadata": {
        "id": "view-in-github",
        "colab_type": "text"
      },
      "source": [
        "<a href=\"https://colab.research.google.com/github/sameermdanwer/python-assignment-/blob/main/Exception_Handling_Assignment_2.ipynb\" target=\"_parent\"><img src=\"https://colab.research.google.com/assets/colab-badge.svg\" alt=\"Open In Colab\"/></a>"
      ]
    },
    {
      "cell_type": "markdown",
      "source": [
        "# Q1. Explain why we have to use the Exception class while creating a Custom Exception.\n",
        "\n",
        "When creating a custom exception in Python, it is essential to extend the built-in Exception class (or one of its subclasses). Here’s why using the Exception class is important:\n",
        "\n",
        "1. Standardization:\n",
        "By extending the Exception class, your custom exception behaves like any other built-in exception in Python. This ensures that it can be raised, caught, and handled in a standard way, making it more intuitive for developers familiar with Python's exception handling.\n",
        "2. Integration with the Exception Handling Mechanism:\n",
        "Python’s built-in exception handling mechanisms (using try, except, else, and finally) are designed to work with instances of the Exception class and its subclasses. When you raise a custom exception that inherits from Exception, it can be caught in except blocks seamlessly.\n",
        "For example, if you create a custom exception class that does not inherit from Exception, it won't be caught by the standard exception handling code, potentially causing your program to terminate unexpectedly.\n",
        "3. Error Propagation:\n",
        "When an exception is raised, it propagates up the call stack until it is caught or until the program terminates. If your custom exception derives from Exception, it will follow this same propagation behavior, allowing you to manage errors effectively in your applications.\n",
        "4. Flexibility for Future Extensions:\n",
        "By extending Exception, you can easily add more functionality or attributes to your custom exceptions in the future. This flexibility can be useful as your application grows and requires more detailed error reporting.\n",
        "5. Custom Error Messages:\n",
        "Extending the Exception class allows you to define custom error messages and additional attributes that can provide more context about the error, making debugging easier. You can override the __init__ method to customize the initialization of your exception and provide meaningful messages to the user.\n",
        "# Example of a Custom Exception:"
      ],
      "metadata": {
        "id": "GLlecjt3TV4i"
      }
    },
    {
      "cell_type": "code",
      "source": [
        "class InsufficientFundsError(Exception):\n",
        "    \"\"\"Custom exception for insufficient funds in a bank account.\"\"\"\n",
        "    def __init__(self, balance, amount):\n",
        "        super().__init__(f\"Insufficient funds: Attempted to withdraw {amount}, but the balance is only {balance}.\")\n",
        "        self.balance = balance\n",
        "        self.amount = amount\n",
        "\n",
        "def withdraw(balance, amount):\n",
        "    if amount > balance:\n",
        "        raise InsufficientFundsError(balance, amount)  # Raising a custom exception\n",
        "\n",
        "try:\n",
        "    withdraw(100, 150)  # Attempting to withdraw more than available\n",
        "except InsufficientFundsError as e:\n",
        "    print(e)  # Catching and handling the custom exception"
      ],
      "metadata": {
        "colab": {
          "base_uri": "https://localhost:8080/"
        },
        "id": "HvrgojqPTg-i",
        "outputId": "96c7b220-dfbd-4852-87f3-92a60f7d5605"
      },
      "execution_count": 1,
      "outputs": [
        {
          "output_type": "stream",
          "name": "stdout",
          "text": [
            "Insufficient funds: Attempted to withdraw 150, but the balance is only 100.\n"
          ]
        }
      ]
    },
    {
      "cell_type": "markdown",
      "source": [
        "# Q2. Write a python program to print Python Exception Hierarchy.\n",
        "\n",
        "To print the Python Exception Hierarchy, you can use the built-in exceptions module, which provides information about the various exceptions in Python. However, there isn’t a built-in method to display the hierarchy directly. Instead, you can create a custom function that traverses the exception classes and prints the hierarchy.\n",
        "\n",
        "Here’s a Python program that does just that:"
      ],
      "metadata": {
        "id": "1Fldu8NkT1xU"
      }
    },
    {
      "cell_type": "code",
      "source": [
        "import builtins\n",
        "\n",
        "def print_exception_hierarchy(exception_class, level=0):\n",
        "    \"\"\"Recursively prints the exception hierarchy.\"\"\"\n",
        "    # Print the current exception class\n",
        "    print(\" \" * (level * 4) + f\"{exception_class.__name__}\")\n",
        "\n",
        "    # Iterate through the subclasses of the current exception class\n",
        "    for subclass in exception_class.__subclasses__():\n",
        "        print_exception_hierarchy(subclass, level + 1)\n",
        "\n",
        "# Start from the base Exception class\n",
        "print(\"Python Exception Hierarchy:\")\n",
        "print_exception_hierarchy(Exception)"
      ],
      "metadata": {
        "colab": {
          "base_uri": "https://localhost:8080/"
        },
        "id": "xLrB4lLNUYtB",
        "outputId": "b8f1424a-4de9-49f1-aeda-7bdcbe3b5072"
      },
      "execution_count": 2,
      "outputs": [
        {
          "output_type": "stream",
          "name": "stdout",
          "text": [
            "Python Exception Hierarchy:\n",
            "Exception\n",
            "    TypeError\n",
            "        MultipartConversionError\n",
            "        FloatOperation\n",
            "        DTypePromotionError\n",
            "        UFuncTypeError\n",
            "            UFuncTypeError\n",
            "                UFuncTypeError\n",
            "            UFuncTypeError\n",
            "                UFuncTypeError\n",
            "                UFuncTypeError\n",
            "        ConversionError\n",
            "    StopAsyncIteration\n",
            "    StopIteration\n",
            "    ImportError\n",
            "        ModuleNotFoundError\n",
            "            PackageNotFoundError\n",
            "        ZipImportError\n",
            "    OSError\n",
            "        ConnectionError\n",
            "            BrokenPipeError\n",
            "            ConnectionAbortedError\n",
            "            ConnectionRefusedError\n",
            "            ConnectionResetError\n",
            "                RemoteDisconnected\n",
            "        BlockingIOError\n",
            "        ChildProcessError\n",
            "        FileExistsError\n",
            "        FileNotFoundError\n",
            "            ExecutableNotFoundError\n",
            "        IsADirectoryError\n",
            "        NotADirectoryError\n",
            "        InterruptedError\n",
            "            InterruptedSystemCall\n",
            "        PermissionError\n",
            "        ProcessLookupError\n",
            "        TimeoutError\n",
            "        UnsupportedOperation\n",
            "        itimer_error\n",
            "        Error\n",
            "            SameFileError\n",
            "        SpecialFileError\n",
            "        ExecError\n",
            "        ReadError\n",
            "        herror\n",
            "        gaierror\n",
            "        SSLError\n",
            "            SSLCertVerificationError\n",
            "            SSLZeroReturnError\n",
            "            SSLWantWriteError\n",
            "            SSLWantReadError\n",
            "            SSLSyscallError\n",
            "            SSLEOFError\n",
            "        URLError\n",
            "            HTTPError\n",
            "            ContentTooShortError\n",
            "        UnidentifiedImageError\n",
            "        BadGzipFile\n",
            "        ProxyError\n",
            "            GeneralProxyError\n",
            "            ProxyConnectionError\n",
            "            SOCKS5AuthError\n",
            "            SOCKS5Error\n",
            "            SOCKS4Error\n",
            "            HTTPError\n",
            "    EOFError\n",
            "        IncompleteReadError\n",
            "    RuntimeError\n",
            "        RecursionError\n",
            "        NotImplementedError\n",
            "            StdinNotImplementedError\n",
            "            ZMQVersionError\n",
            "        _DeadlockError\n",
            "        BrokenBarrierError\n",
            "        BrokenExecutor\n",
            "            BrokenThreadPool\n",
            "        SendfileNotAvailableError\n",
            "        RemovedCommandError\n",
            "        PackageDiscoveryError\n",
            "        TooHardError\n",
            "        ExtractionError\n",
            "        VariableError\n",
            "    NameError\n",
            "        UnboundLocalError\n",
            "    AttributeError\n",
            "        FrozenInstanceError\n",
            "    SyntaxError\n",
            "        IndentationError\n",
            "            TabError\n",
            "        ParseError\n",
            "    LookupError\n",
            "        IndexError\n",
            "            AxisError\n",
            "            OutOfBounds\n",
            "        KeyError\n",
            "            UnknownBackend\n",
            "            NoSuchKernel\n",
            "        CodecRegistryError\n",
            "    ValueError\n",
            "        UnicodeError\n",
            "            UnicodeEncodeError\n",
            "            UnicodeDecodeError\n",
            "            UnicodeTranslateError\n",
            "        UnsupportedOperation\n",
            "        JSONDecodeError\n",
            "        UnsupportedDigestmodError\n",
            "        Error\n",
            "        IllegalMonthError\n",
            "        IllegalWeekdayError\n",
            "        MessageDefect\n",
            "            NoBoundaryInMultipartDefect\n",
            "            StartBoundaryNotFoundDefect\n",
            "            CloseBoundaryNotFoundDefect\n",
            "            FirstHeaderLineIsContinuationDefect\n",
            "            MisplacedEnvelopeHeaderDefect\n",
            "            MissingHeaderBodySeparatorDefect\n",
            "            MultipartInvariantViolationDefect\n",
            "            InvalidMultipartContentTransferEncodingDefect\n",
            "            UndecodableBytesDefect\n",
            "            InvalidBase64PaddingDefect\n",
            "            InvalidBase64CharactersDefect\n",
            "            InvalidBase64LengthDefect\n",
            "            HeaderDefect\n",
            "                InvalidHeaderDefect\n",
            "                HeaderMissingRequiredValue\n",
            "                NonPrintableDefect\n",
            "                ObsoleteHeaderDefect\n",
            "                NonASCIILocalPartDefect\n",
            "                InvalidDateDefect\n",
            "        ClassNotFound\n",
            "        SSLCertVerificationError\n",
            "        ClipboardEmpty\n",
            "        MacroToEdit\n",
            "        ParserError\n",
            "        UnequalIterablesError\n",
            "        ELFInvalid\n",
            "        InvalidVersion\n",
            "        InvalidName\n",
            "        InvalidWheelFilename\n",
            "        InvalidSdistFilename\n",
            "        InvalidVersion\n",
            "        UnequalIterablesError\n",
            "        ELFInvalid\n",
            "        InvalidName\n",
            "        InvalidWheelFilename\n",
            "        InvalidSdistFilename\n",
            "        InvalidSpecifier\n",
            "        InvalidMarker\n",
            "        UndefinedComparison\n",
            "        UndefinedEnvironmentName\n",
            "        InvalidRequirement\n",
            "            RequirementParseError\n",
            "        DisabledFunctionError\n",
            "        AxisError\n",
            "        LinAlgError\n",
            "        DefusedXmlException\n",
            "            DTDForbidden\n",
            "            EntitiesForbidden\n",
            "            ExternalReferenceForbidden\n",
            "            NotSupportedError\n",
            "        NonIntersectingPathException\n",
            "        InvalidFileException\n",
            "    AssertionError\n",
            "    ArithmeticError\n",
            "        FloatingPointError\n",
            "        OverflowError\n",
            "        ZeroDivisionError\n",
            "            DivisionByZero\n",
            "            DivisionUndefined\n",
            "        DecimalException\n",
            "            Clamped\n",
            "            Rounded\n",
            "                Underflow\n",
            "                Overflow\n",
            "            Inexact\n",
            "                Underflow\n",
            "                Overflow\n",
            "            Subnormal\n",
            "                Underflow\n",
            "            DivisionByZero\n",
            "            FloatOperation\n",
            "            InvalidOperation\n",
            "                ConversionSyntax\n",
            "                DivisionImpossible\n",
            "                DivisionUndefined\n",
            "                InvalidContext\n",
            "    SystemError\n",
            "        CodecRegistryError\n",
            "    ReferenceError\n",
            "    MemoryError\n",
            "        MemoryError\n",
            "    BufferError\n",
            "    Warning\n",
            "        UserWarning\n",
            "            GetPassWarning\n",
            "            FormatterWarning\n",
            "            SetuptoolsWarning\n",
            "                InformationOnly\n",
            "                SetuptoolsDeprecationWarning\n",
            "                    _AmbiguousMarker\n",
            "                    _DeprecatedConfig\n",
            "                    DistDeprecationWarning\n",
            "                _MissingDynamic\n",
            "                _ExperimentalConfiguration\n",
            "                _ToolsTypoInMetadata\n",
            "            VisibleDeprecationWarning\n",
            "            RankWarning\n",
            "            ConversionWarning\n",
            "            RankWarning\n",
            "        EncodingWarning\n",
            "        DeprecationWarning\n",
            "            ProvisionalWarning\n",
            "            ModuleDeprecationWarning\n",
            "            MatplotlibDeprecationWarning\n",
            "        PendingDeprecationWarning\n",
            "        SyntaxWarning\n",
            "        RuntimeWarning\n",
            "            ProactorSelectorThreadWarning\n",
            "            UnknownTimezoneWarning\n",
            "            ComplexWarning\n",
            "            DecompressionBombWarning\n",
            "            PEP440Warning\n",
            "        FutureWarning\n",
            "            ProvisionalCompleterWarning\n",
            "            MaskedArrayFutureWarning\n",
            "        ImportWarning\n",
            "        UnicodeWarning\n",
            "        BytesWarning\n",
            "        ResourceWarning\n",
            "        DeprecatedTzFormatWarning\n",
            "        MathTextWarning\n",
            "        PkgResourcesDeprecationWarning\n",
            "    _OptionError\n",
            "    error\n",
            "    Verbose\n",
            "    Error\n",
            "    _Error\n",
            "    SubprocessError\n",
            "        CalledProcessError\n",
            "        TimeoutExpired\n",
            "    Error\n",
            "    TokenError\n",
            "    StopTokenizing\n",
            "    error\n",
            "    LZMAError\n",
            "    RegistryError\n",
            "    _GiveupOnFastCopy\n",
            "    ClassFoundException\n",
            "    EndOfBlock\n",
            "    TraitError\n",
            "    _GiveupOnSendfile\n",
            "    error\n",
            "    PickleError\n",
            "        PicklingError\n",
            "        UnpicklingError\n",
            "    _Stop\n",
            "    Empty\n",
            "    Full\n",
            "    ArgumentError\n",
            "    ArgumentTypeError\n",
            "    ConfigError\n",
            "        ConfigLoaderError\n",
            "            ArgumentError\n",
            "        ConfigFileNotFound\n",
            "    ConfigurableError\n",
            "        MultipleInstanceError\n",
            "    ApplicationError\n",
            "    ErrorDuringImport\n",
            "    BdbQuit\n",
            "    Restart\n",
            "    ExceptionPexpect\n",
            "        EOF\n",
            "        TIMEOUT\n",
            "    error\n",
            "    PtyProcessError\n",
            "    FindCmdError\n",
            "    HomeDirError\n",
            "    ProfileDirError\n",
            "    IPythonCoreError\n",
            "        TryNext\n",
            "        UsageError\n",
            "        StdinNotImplementedError\n",
            "    InputRejected\n",
            "    GetoptError\n",
            "    Incomplete\n",
            "    Error\n",
            "    BadZipFile\n",
            "    LargeZipFile\n",
            "    Error\n",
            "    MessageError\n",
            "        MessageParseError\n",
            "            HeaderParseError\n",
            "                _InvalidEwError\n",
            "            BoundaryError\n",
            "        MultipartConversionError\n",
            "        CharsetError\n",
            "        HeaderWriteError\n",
            "    OptionError\n",
            "    ErrorToken\n",
            "    PrefilterError\n",
            "    AliasError\n",
            "        InvalidAliasError\n",
            "    Error\n",
            "        InterfaceError\n",
            "        DatabaseError\n",
            "            InternalError\n",
            "            OperationalError\n",
            "            ProgrammingError\n",
            "            IntegrityError\n",
            "            DataError\n",
            "            NotSupportedError\n",
            "    Warning\n",
            "    Error\n",
            "        CancelledError\n",
            "        TimeoutError\n",
            "        InvalidStateError\n",
            "    TimeoutError\n",
            "    InvalidStateError\n",
            "    LimitOverrunError\n",
            "    QueueEmpty\n",
            "    QueueFull\n",
            "    SpaceInInput\n",
            "    DOMException\n",
            "        IndexSizeErr\n",
            "        DomstringSizeErr\n",
            "        HierarchyRequestErr\n",
            "        WrongDocumentErr\n",
            "        InvalidCharacterErr\n",
            "        NoDataAllowedErr\n",
            "        NoModificationAllowedErr\n",
            "        NotFoundErr\n",
            "        NotSupportedErr\n",
            "        InuseAttributeErr\n",
            "        InvalidStateErr\n",
            "        SyntaxErr\n",
            "        InvalidModificationErr\n",
            "        NamespaceErr\n",
            "        InvalidAccessErr\n",
            "        ValidationErr\n",
            "    ValidationError\n",
            "    EditReadOnlyBuffer\n",
            "    _Retry\n",
            "    InvalidLayoutError\n",
            "    HeightIsUnknownError\n",
            "    ExpatError\n",
            "    ParseEscape\n",
            "    HTTPException\n",
            "        NotConnected\n",
            "        InvalidURL\n",
            "        UnknownProtocol\n",
            "        UnknownTransferEncoding\n",
            "        UnimplementedFileMode\n",
            "        IncompleteRead\n",
            "        ImproperConnectionState\n",
            "            CannotSendRequest\n",
            "            CannotSendHeader\n",
            "            ResponseNotReady\n",
            "        BadStatusLine\n",
            "            RemoteDisconnected\n",
            "        LineTooLong\n",
            "    InteractivelyDefined\n",
            "    KillEmbedded\n",
            "    ArgumentError\n",
            "    ZMQBaseError\n",
            "        ZMQError\n",
            "            ContextTerminated\n",
            "            Again\n",
            "            InterruptedSystemCall\n",
            "        ZMQBindError\n",
            "        NotDone\n",
            "    NoIPAddresses\n",
            "    Error\n",
            "        NoSectionError\n",
            "        DuplicateSectionError\n",
            "        DuplicateOptionError\n",
            "        NoOptionError\n",
            "        InterpolationError\n",
            "            InterpolationMissingOptionError\n",
            "            InterpolationSyntaxError\n",
            "            InterpolationDepthError\n",
            "        ParsingError\n",
            "            MissingSectionHeaderError\n",
            "    InvalidPortNumber\n",
            "    DuplicateKernelError\n",
            "    error\n",
            "    ReturnValueIgnoredError\n",
            "    KeyReuseError\n",
            "    UnknownKeyError\n",
            "    LeakedCallbackError\n",
            "    BadYieldError\n",
            "    ReturnValueIgnoredError\n",
            "    Return\n",
            "    QueueEmpty\n",
            "    QueueFull\n",
            "    IPythonError\n",
            "        KernelError\n",
            "            EngineError\n",
            "            NoEnginesRegistered\n",
            "            TaskAborted\n",
            "            TaskTimeout\n",
            "            UnmetDependency\n",
            "                ImpossibleDependency\n",
            "                    DependencyTimeout\n",
            "                    InvalidDependency\n",
            "            RemoteError\n",
            "                CompositeError\n",
            "                AlreadyDisplayedError\n",
            "            TaskRejectError\n",
            "    ProcessError\n",
            "        BufferTooShort\n",
            "        TimeoutError\n",
            "        AuthenticationError\n",
            "    BadEntryPoint\n",
            "    NoSuchEntryPoint\n",
            "    Error\n",
            "        NoSuchProcess\n",
            "            ZombieProcess\n",
            "        AccessDenied\n",
            "        TimeoutExpired\n",
            "    _Ipv6UnsupportedError\n",
            "    LauncherError\n",
            "        ProcessStateError\n",
            "        UnknownStatus\n",
            "        NotRunning\n",
            "    DistutilsError\n",
            "        DistutilsModuleError\n",
            "        DistutilsClassError\n",
            "        DistutilsGetoptError\n",
            "        DistutilsArgError\n",
            "        DistutilsFileError\n",
            "        DistutilsOptionError\n",
            "            InvalidConfigError\n",
            "            RemovedConfigError\n",
            "        DistutilsSetupError\n",
            "        DistutilsPlatformError\n",
            "        DistutilsExecError\n",
            "        DistutilsInternalError\n",
            "        DistutilsTemplateError\n",
            "        DistutilsByteCompileError\n",
            "        RemovedCommandError\n",
            "        PackageDiscoveryError\n",
            "    CCompilerError\n",
            "        PreprocessError\n",
            "        CompileError\n",
            "        LibError\n",
            "        LinkError\n",
            "        UnknownFileError\n",
            "    ParserSyntaxError\n",
            "    TarError\n",
            "        ExtractError\n",
            "        ReadError\n",
            "        CompressionError\n",
            "        StreamError\n",
            "        HeaderError\n",
            "            EmptyHeaderError\n",
            "            TruncatedHeaderError\n",
            "            EOFHeaderError\n",
            "            InvalidHeaderError\n",
            "            SubsequentHeaderError\n",
            "        FilterError\n",
            "            AbsolutePathError\n",
            "            OutsideDestinationError\n",
            "            SpecialFileError\n",
            "            AbsoluteLinkError\n",
            "            LinkOutsideDestinationError\n",
            "    Error\n",
            "        AuthorizationError\n",
            "        RuntimeManagementError\n",
            "        MessageError\n",
            "    WidgetException\n",
            "    JsException\n",
            "    ConverterError\n",
            "        ConverterLockError\n",
            "    MAError\n",
            "        MaskError\n",
            "    FormattedTracebackError\n",
            "    ParseBaseException\n",
            "        ParseException\n",
            "        ParseFatalException\n",
            "            ParseSyntaxException\n",
            "    RecursiveGrammarException\n",
            "    HttpLib2Error\n",
            "        HttpLib2ErrorWithResponse\n",
            "            RedirectMissingLocation\n",
            "            RedirectLimit\n",
            "            FailedToDecompressContent\n",
            "            UnimplementedDigestAuthOptionError\n",
            "            UnimplementedHmacDigestAuthOptionError\n",
            "        MalformedHeader\n",
            "        RelativeURIError\n",
            "        ServerNotFoundError\n",
            "        ProxiesUnavailableError\n",
            "    DecompressionBombError\n",
            "    FFIError\n",
            "    CDefError\n",
            "    VerificationError\n",
            "    VerificationMissing\n",
            "    PkgConfigError\n",
            "    BadRequiredStrength\n",
            "    DuplicateConstraint\n",
            "    DuplicateEditVariable\n",
            "    UnknownConstraint\n",
            "    UnknownEditVariable\n",
            "    UnsatisfiableConstraint\n",
            "    NonGuiException\n",
            "    InvalidIndexError\n",
            "    TerminateTrajectory\n",
            "    NoFreePortFoundError\n",
            "    DebuggerInitializationError\n",
            "    Error\n",
            "        ProtocolError\n",
            "        ResponseError\n",
            "        Fault\n",
            "    ResolutionError\n",
            "        VersionConflict\n",
            "            ContextualVersionConflict\n",
            "        DistributionNotFound\n",
            "        UnknownExtra\n",
            "    _Error\n",
            "    UnableToResolveVariableException\n",
            "    InvalidTypeInArgsException\n",
            "    InsufficientFundsError\n"
          ]
        }
      ]
    },
    {
      "cell_type": "markdown",
      "source": [
        "# Explanation of the Program:\n",
        "1. Import the Built-ins: The program imports the built-in builtins module, which contains all the built-in exceptions.\n",
        "\n",
        "2. Define the Function: The print_exception_hierarchy function:\n",
        "\n",
        ". Takes an exception_class (the current class to print) and level (for indentation).\n",
        ". Prints the name of the current exception class.\n",
        ". Recursively calls itself for each subclass of the current exception, increasing the indentation level for better readability.\n",
        "3. Start from Exception: The program starts printing the hierarchy from the base Exception class."
      ],
      "metadata": {
        "id": "WKO6FMLoUiFw"
      }
    },
    {
      "cell_type": "markdown",
      "source": [
        "# Q3. What errors are defined in the ArithmeticError class? Explain any two with an example.\n",
        "\n",
        "The ArithmeticError class in Python is a base class for all errors that occur for numeric calculations. It serves as a parent class for several specific arithmetic-related exceptions. The most common subclasses of ArithmeticError include:\n",
        "\n",
        "1. ZeroDivisionError: Raised when a division or modulo operation is performed with zero as the divisor.\n",
        "2. OverflowError: Raised when the result of an arithmetic operation is too large to be expressed within the range of the numeric type.\n",
        "3. FloatingPointError: Raised when a floating-point operation fails.\n",
        "4. DecimalException: A base class for errors related to decimal arithmetic.\n",
        "\n",
        "# Explanation and Examples\n",
        "\n",
        "1. ZeroDivisionError\n",
        "Description: This error occurs when a division by zero is attempted. Division by zero is mathematically undefined, and Python raises this exception to indicate that an invalid operation has been attempted."
      ],
      "metadata": {
        "id": "4tchSrkUU1WA"
      }
    },
    {
      "cell_type": "code",
      "source": [
        "def divide_numbers(a, b):\n",
        "    return a / b\n",
        "\n",
        "try:\n",
        "    result = divide_numbers(10, 0)  # Attempting to divide by zero\n",
        "except ZeroDivisionError as e:\n",
        "    print(f\"Error: {e}. You cannot divide by zero.\")"
      ],
      "metadata": {
        "colab": {
          "base_uri": "https://localhost:8080/"
        },
        "id": "aNusq5kaVeYq",
        "outputId": "6441c6bf-ab83-4c57-9d7f-f7d5ab024296"
      },
      "execution_count": 3,
      "outputs": [
        {
          "output_type": "stream",
          "name": "stdout",
          "text": [
            "Error: division by zero. You cannot divide by zero.\n"
          ]
        }
      ]
    },
    {
      "cell_type": "markdown",
      "source": [
        "2. OverflowError\n",
        "\n",
        "Description: This error occurs when an arithmetic operation produces a result that exceeds the maximum limit for a numeric type. This is often encountered when performing operations on large integers or floating-point numbers.\n",
        "\n",
        "Example:\n"
      ],
      "metadata": {
        "id": "IGvmDGtyV3Oa"
      }
    },
    {
      "cell_type": "code",
      "source": [
        "import sys\n",
        "\n",
        "def calculate_large_power():\n",
        "    return 10 ** 1000  # 10 raised to the power of 1000\n",
        "\n",
        "try:\n",
        "    result = calculate_large_power()\n",
        "    print(result)\n",
        "except OverflowError as e:\n",
        "    print(f\"Error: {e}. The result is too large to handle.\")\n"
      ],
      "metadata": {
        "colab": {
          "base_uri": "https://localhost:8080/"
        },
        "id": "ubrCkTvoV985",
        "outputId": "845d2481-3cec-41ca-a9d4-36cb9080ff2c"
      },
      "execution_count": 4,
      "outputs": [
        {
          "output_type": "stream",
          "name": "stdout",
          "text": [
            "10000000000000000000000000000000000000000000000000000000000000000000000000000000000000000000000000000000000000000000000000000000000000000000000000000000000000000000000000000000000000000000000000000000000000000000000000000000000000000000000000000000000000000000000000000000000000000000000000000000000000000000000000000000000000000000000000000000000000000000000000000000000000000000000000000000000000000000000000000000000000000000000000000000000000000000000000000000000000000000000000000000000000000000000000000000000000000000000000000000000000000000000000000000000000000000000000000000000000000000000000000000000000000000000000000000000000000000000000000000000000000000000000000000000000000000000000000000000000000000000000000000000000000000000000000000000000000000000000000000000000000000000000000000000000000000000000000000000000000000000000000000000000000000000000000000000000000000000000000000000000000000000000000000000000000000000000000000000000000000000000000000000000000000000000000000000000000\n"
          ]
        }
      ]
    },
    {
      "cell_type": "markdown",
      "source": [
        "# Q4. Why LookupError class is used? Explain with an example KeyError and IndexError.\n",
        "\n",
        "The LookupError class in Python is a base class for exceptions that occur when a key or index used for accessing a collection is not found. It serves as a superclass for more specific errors, such as KeyError and IndexError. By using LookupError, you can catch multiple types of lookup-related exceptions with a single handler if desired.\n",
        "\n",
        "# Reasons for Using LookupError:\n",
        "\n",
        "1. Common Base Class: It provides a common base for related exceptions that involve lookups in various collections like lists, dictionaries, and sets.\n",
        "\n",
        "2. Code Simplification: By catching LookupError, you can simplify your error-handling code when dealing with various lookup-related errors.\n",
        "\n",
        "3. Clarity: It helps to convey that the error arises from issues related to missing keys or indices.\n",
        "\n",
        "Explanation and Examples\n",
        "1. KeyError\n",
        "Description: A KeyError is raised when a dictionary (or a similar mapping) is accessed with a key that does not exist.\n",
        "\n",
        "Example:"
      ],
      "metadata": {
        "id": "HyWplQSsWIJY"
      }
    },
    {
      "cell_type": "code",
      "source": [
        "my_dict = {'a': 1, 'b': 2}\n",
        "\n",
        "try:\n",
        "    value = my_dict['c']  # Attempting to access a non-existent key\n",
        "except KeyError as e:\n",
        "    print(f\"KeyError: {e}. The key does not exist in the dictionary.\")"
      ],
      "metadata": {
        "colab": {
          "base_uri": "https://localhost:8080/"
        },
        "id": "EC_1CrvmWpzX",
        "outputId": "2ae6f1b1-71de-450c-971f-dfe8f6f15922"
      },
      "execution_count": 5,
      "outputs": [
        {
          "output_type": "stream",
          "name": "stdout",
          "text": [
            "KeyError: 'c'. The key does not exist in the dictionary.\n"
          ]
        }
      ]
    },
    {
      "cell_type": "markdown",
      "source": [
        "# 2. IndexError\n",
        "Description: An IndexError is raised when a sequence (like a list or tuple) is accessed with an index that is out of range.\n",
        "\n",
        "Example:"
      ],
      "metadata": {
        "id": "o_E1I5eTWyxo"
      }
    },
    {
      "cell_type": "code",
      "source": [
        "my_list = [1, 2, 3]\n",
        "\n",
        "try:\n",
        "    value = my_list[5]  # Attempting to access an index that does not exist\n",
        "except IndexError as e:\n",
        "    print(f\"IndexError: {e}. The index is out of range.\")"
      ],
      "metadata": {
        "colab": {
          "base_uri": "https://localhost:8080/"
        },
        "id": "0fCgZGRjW02v",
        "outputId": "1f023708-10ac-438e-eec3-ccaa99d29b30"
      },
      "execution_count": 6,
      "outputs": [
        {
          "output_type": "stream",
          "name": "stdout",
          "text": [
            "IndexError: list index out of range. The index is out of range.\n"
          ]
        }
      ]
    },
    {
      "cell_type": "markdown",
      "source": [
        "# Q5. Explain ImportError. What is ModuleNotFoundError?\n",
        "\n",
        "# ImportError\n",
        "ImportError is an exception in Python that is raised when an import statement fails to find the module or a name within a module. This can occur for several reasons, including:\n",
        "\n",
        "1. Module Not Found: The specified module is not available in the Python environment.\n",
        "2. Incorrect Module Name: The name used in the import statement is misspelled or does not match any installed module.\n",
        "3. Inaccessible Module: The module exists, but it is not accessible due to directory issues or permission problems.\n",
        "Circular Imports: When two or more modules attempt to import each other, which can lead to unresolved references.\n",
        "\n",
        "Example of ImportError"
      ],
      "metadata": {
        "id": "c_aEyI8FWbHp"
      }
    },
    {
      "cell_type": "code",
      "source": [
        "try:\n",
        "    import non_existent_module  # Trying to import a module that doesn't exist\n",
        "except ImportError as e:\n",
        "    print(f\"ImportError: {e}. The module could not be found.\")"
      ],
      "metadata": {
        "colab": {
          "base_uri": "https://localhost:8080/"
        },
        "id": "-ggJB9jrXgMo",
        "outputId": "99e511cc-7dfe-4691-f149-ebd8640589c9"
      },
      "execution_count": 7,
      "outputs": [
        {
          "output_type": "stream",
          "name": "stdout",
          "text": [
            "ImportError: No module named 'non_existent_module'. The module could not be found.\n"
          ]
        }
      ]
    },
    {
      "cell_type": "markdown",
      "source": [
        "# ModuleNotFoundError\n",
        "ModuleNotFoundError is a more specific subclass of ImportError introduced in Python 3.6. It is raised when the Python interpreter cannot find the specified module. Essentially, all ModuleNotFoundError exceptions are ImportError exceptions, but not all ImportError exceptions are ModuleNotFoundError.\n",
        "\n",
        "Key Differences:\n",
        "\n",
        ". Specificity: ModuleNotFoundError is a more specific error indicating that the module being imported cannot be found. ImportError can encompass other import-related issues, such as circular imports or problems with the module's internal structure.\n",
        "\n",
        ". Usage: If you are only concerned with cases where the module does not exist, you can catch ModuleNotFoundError directly.\n",
        "\n",
        "Example of ModuleNotFoundError"
      ],
      "metadata": {
        "id": "Wf429UfgXjlH"
      }
    },
    {
      "cell_type": "code",
      "source": [
        "try:\n",
        "    import non_existent_module  # Trying to import a non-existent module\n",
        "except ModuleNotFoundError as e:\n",
        "    print(f\"ModuleNotFoundError: {e}. The module is not available.\")\n",
        "except ImportError as e:\n",
        "    print(f\"ImportError: {e}. There was an import error.\")"
      ],
      "metadata": {
        "colab": {
          "base_uri": "https://localhost:8080/"
        },
        "id": "-wVfpHkqX1OJ",
        "outputId": "38697eb0-18e9-4c63-e4fb-2926584ad745"
      },
      "execution_count": 8,
      "outputs": [
        {
          "output_type": "stream",
          "name": "stdout",
          "text": [
            "ModuleNotFoundError: No module named 'non_existent_module'. The module is not available.\n"
          ]
        }
      ]
    },
    {
      "cell_type": "markdown",
      "source": [
        "# Q6. List down some best practices for exception handling in python.\n",
        "\n",
        "Exception handling is a critical aspect of writing robust and maintainable Python code. Here are some best practices for exception handling in Python:\n",
        "\n",
        "1. Use Specific Exceptions\n",
        "Catch specific exceptions rather than using a general except Exception: clause. This makes your error handling more precise and allows you to manage different error types differently."
      ],
      "metadata": {
        "id": "tuzp9zQlX43G"
      }
    },
    {
      "cell_type": "code",
      "source": [
        "try:\n",
        "    # code that may raise an exception\n",
        "except ValueError:\n",
        "    # handle ValueError specifically\n",
        "except KeyError:\n",
        "    # handle KeyError specifically"
      ],
      "metadata": {
        "colab": {
          "base_uri": "https://localhost:8080/",
          "height": 106
        },
        "id": "JRwc_5SmYRR_",
        "outputId": "2af07511-6b0e-4954-b554-17629eb329ee"
      },
      "execution_count": 9,
      "outputs": [
        {
          "output_type": "error",
          "ename": "IndentationError",
          "evalue": "expected an indented block after 'try' statement on line 1 (<ipython-input-9-13dab7ddf2e8>, line 3)",
          "traceback": [
            "\u001b[0;36m  File \u001b[0;32m\"<ipython-input-9-13dab7ddf2e8>\"\u001b[0;36m, line \u001b[0;32m3\u001b[0m\n\u001b[0;31m    except ValueError:\u001b[0m\n\u001b[0m    ^\u001b[0m\n\u001b[0;31mIndentationError\u001b[0m\u001b[0;31m:\u001b[0m expected an indented block after 'try' statement on line 1\n"
          ]
        }
      ]
    },
    {
      "cell_type": "markdown",
      "source": [
        "2. Avoid Catching All Exceptions\n",
        "\n",
        "Avoid using bare except: clauses, which catch all exceptions, including system-exiting exceptions like KeyboardInterrupt. This can lead to unintentional behavior and make debugging harder.\n",
        "python"
      ],
      "metadata": {
        "id": "ajmAVx9fYSqf"
      }
    },
    {
      "cell_type": "code",
      "source": [
        "try:\n",
        "    # code that may raise an exception\n",
        "except:\n",
        "    # Not recommended; catches all exceptions"
      ],
      "metadata": {
        "colab": {
          "base_uri": "https://localhost:8080/",
          "height": 106
        },
        "id": "kA8D-p5EYZIf",
        "outputId": "45f7ba53-33eb-4c81-bf5c-17c4d6582b33"
      },
      "execution_count": 10,
      "outputs": [
        {
          "output_type": "error",
          "ename": "IndentationError",
          "evalue": "expected an indented block after 'try' statement on line 1 (<ipython-input-10-6b5caf6255fd>, line 3)",
          "traceback": [
            "\u001b[0;36m  File \u001b[0;32m\"<ipython-input-10-6b5caf6255fd>\"\u001b[0;36m, line \u001b[0;32m3\u001b[0m\n\u001b[0;31m    except:\u001b[0m\n\u001b[0m    ^\u001b[0m\n\u001b[0;31mIndentationError\u001b[0m\u001b[0;31m:\u001b[0m expected an indented block after 'try' statement on line 1\n"
          ]
        }
      ]
    },
    {
      "cell_type": "markdown",
      "source": [
        "3. Use Finally for Cleanup\n",
        "\n",
        "Use the finally block to execute cleanup code, such as closing files or releasing resources, regardless of whether an exception was raised or not."
      ],
      "metadata": {
        "id": "pccbwz0dYb9P"
      }
    },
    {
      "cell_type": "code",
      "source": [
        "try:\n",
        "    file = open('example.txt', 'r')\n",
        "    # read from file\n",
        "except FileNotFoundError:\n",
        "    print(\"File not found.\")\n",
        "finally:\n",
        "    file.close()  # Ensures the file is closed"
      ],
      "metadata": {
        "colab": {
          "base_uri": "https://localhost:8080/",
          "height": 193
        },
        "id": "nYfepq61Ygg3",
        "outputId": "97d3eded-bf32-4fc5-8b64-ee81c4e7c8da"
      },
      "execution_count": 11,
      "outputs": [
        {
          "output_type": "stream",
          "name": "stdout",
          "text": [
            "File not found.\n"
          ]
        },
        {
          "output_type": "error",
          "ename": "NameError",
          "evalue": "name 'file' is not defined",
          "traceback": [
            "\u001b[0;31m---------------------------------------------------------------------------\u001b[0m",
            "\u001b[0;31mNameError\u001b[0m                                 Traceback (most recent call last)",
            "\u001b[0;32m<ipython-input-11-7f3c805c5b4d>\u001b[0m in \u001b[0;36m<cell line: 1>\u001b[0;34m()\u001b[0m\n\u001b[1;32m      5\u001b[0m     \u001b[0mprint\u001b[0m\u001b[0;34m(\u001b[0m\u001b[0;34m\"File not found.\"\u001b[0m\u001b[0;34m)\u001b[0m\u001b[0;34m\u001b[0m\u001b[0;34m\u001b[0m\u001b[0m\n\u001b[1;32m      6\u001b[0m \u001b[0;32mfinally\u001b[0m\u001b[0;34m:\u001b[0m\u001b[0;34m\u001b[0m\u001b[0;34m\u001b[0m\u001b[0m\n\u001b[0;32m----> 7\u001b[0;31m     \u001b[0mfile\u001b[0m\u001b[0;34m.\u001b[0m\u001b[0mclose\u001b[0m\u001b[0;34m(\u001b[0m\u001b[0;34m)\u001b[0m  \u001b[0;31m# Ensures the file is closed\u001b[0m\u001b[0;34m\u001b[0m\u001b[0;34m\u001b[0m\u001b[0m\n\u001b[0m",
            "\u001b[0;31mNameError\u001b[0m: name 'file' is not defined"
          ]
        }
      ]
    }
  ]
}