{
  "nbformat": 4,
  "nbformat_minor": 0,
  "metadata": {
    "colab": {
      "provenance": [],
      "authorship_tag": "ABX9TyP1q331Z4bRs/7ogmFk8HWd",
      "include_colab_link": true
    },
    "kernelspec": {
      "name": "python3",
      "display_name": "Python 3"
    },
    "language_info": {
      "name": "python"
    }
  },
  "cells": [
    {
      "cell_type": "markdown",
      "metadata": {
        "id": "view-in-github",
        "colab_type": "text"
      },
      "source": [
        "<a href=\"https://colab.research.google.com/github/sameermdanwer/python-assignment-/blob/main/Exception_Handling_Assignment_1.ipynb\" target=\"_parent\"><img src=\"https://colab.research.google.com/assets/colab-badge.svg\" alt=\"Open In Colab\"/></a>"
      ]
    },
    {
      "cell_type": "markdown",
      "source": [
        "# Q1. What is an Exception in python? Write the difference between Exceptions and Syntax errors.\n",
        "\n",
        "# What is an Exception in Python?\n",
        "An exception in Python is an error that occurs during the execution of a program. When an exception is raised, it disrupts the normal flow of the program, and if not handled properly, it can cause the program to terminate. Exceptions can arise from various scenarios, such as attempting to divide by zero, accessing an out-of-bounds index in a list, or trying to open a file that does not exist.\n",
        "\n",
        "Python provides a mechanism to handle exceptions using the try, except, else, and finally blocks, which allows developers to manage errors gracefully and continue program execution without crashing.\n",
        "\n",
        "# Example of an Exception:"
      ],
      "metadata": {
        "id": "4MXlRkkeHNVQ"
      }
    },
    {
      "cell_type": "code",
      "source": [
        "try:\n",
        "    result = 10 / 0  # This will raise a ZeroDivisionError\n",
        "except ZeroDivisionError as e:\n",
        "    print(f\"Error: {e}\")  # Output: Error: division by zero"
      ],
      "metadata": {
        "colab": {
          "base_uri": "https://localhost:8080/"
        },
        "id": "VkRCjE3FHew3",
        "outputId": "6b468c65-8182-47d5-c2cf-fb4f8ed3d987"
      },
      "execution_count": 1,
      "outputs": [
        {
          "output_type": "stream",
          "name": "stdout",
          "text": [
            "Error: division by zero\n"
          ]
        }
      ]
    },
    {
      "cell_type": "markdown",
      "source": [
        "# Difference Between Exceptions and Syntax Errors:\n",
        "\n",
        "# Aspect\t  Exceptions\t     Syntax Errors\n",
        "\n",
        "Definition\t        Exceptions are errors that occur during program execution, disrupting the normal flow of the program.\tSyntax errors are mistakes in the code that violate the language's grammar rules, preventing the code from being compiled or interpreted.\n",
        "Occurrence\tExceptions can occur during runtime, meaning after the code has been successfully parsed.\tSyntax errors occur at the parsing stage before the program is run, preventing it from executing at all.\n",
        "Examples\tExamples include ZeroDivisionError, TypeError, ValueError, FileNotFoundError, etc.\tExamples include missing colons, mismatched parentheses, incorrect indentation, or incorrect use of keywords.\n",
        "Handling\tExceptions can be handled using try and except blocks, allowing the program to continue execution or to perform alternative actions.\tSyntax errors must be fixed in the code before the program can be run. They cannot be handled dynamically during execution.\n",
        "Impact on Execution\tThe program can continue to run if exceptions are handled properly.\tSyntax errors prevent the code from running entirely, requiring correction before execution."
      ],
      "metadata": {
        "id": "imioZxSWHjK2"
      }
    },
    {
      "cell_type": "markdown",
      "source": [
        "# Example of Syntax Error:"
      ],
      "metadata": {
        "id": "BMrC4OJ-IZ5m"
      }
    },
    {
      "cell_type": "markdown",
      "source": [
        "# Q2. What happens when an exception is not handled? Explain with an example.\n",
        "\n",
        "\n",
        "When an exception is not handled in Python, it causes the program to terminate abruptly. The interpreter raises a traceback, which is a report that contains information about the error, including the type of exception, the line number where the error occurred, and the call stack at the time of the exception. This traceback helps developers identify where the error happened and what caused it.\n",
        "\n",
        "# Consequences of Unhandled Exceptions:\n",
        "1. Program Termination: The program stops executing, and any remaining code is not run.\n",
        "2. Error Message: The interpreter outputs an error message along with a traceback, which can help in debugging.\n",
        "3. Loss of Data: If the program was performing important operations (like writing to a database or processing files), unhandled exceptions can lead to data loss or corruption."
      ],
      "metadata": {
        "id": "mPrE1XWQIyv9"
      }
    },
    {
      "cell_type": "code",
      "source": [
        "def divide_numbers(a, b):\n",
        "    return a / b  # This line may raise a ZeroDivisionError if b is zero\n",
        "\n",
        "# Calling the function without handling the exception\n",
        "result = divide_numbers(10, 0)  # This will raise an exception\n",
        "\n",
        "print(f\"The result is: {result}\")  # This line will not be executed"
      ],
      "metadata": {
        "colab": {
          "base_uri": "https://localhost:8080/",
          "height": 332
        },
        "id": "HqfXEh4lJVQe",
        "outputId": "bee1c728-5c6c-45ef-85f3-6103ee4c41db"
      },
      "execution_count": 3,
      "outputs": [
        {
          "output_type": "error",
          "ename": "ZeroDivisionError",
          "evalue": "division by zero",
          "traceback": [
            "\u001b[0;31m---------------------------------------------------------------------------\u001b[0m",
            "\u001b[0;31mZeroDivisionError\u001b[0m                         Traceback (most recent call last)",
            "\u001b[0;32m<ipython-input-3-b2f1a2490118>\u001b[0m in \u001b[0;36m<cell line: 5>\u001b[0;34m()\u001b[0m\n\u001b[1;32m      3\u001b[0m \u001b[0;34m\u001b[0m\u001b[0m\n\u001b[1;32m      4\u001b[0m \u001b[0;31m# Calling the function without handling the exception\u001b[0m\u001b[0;34m\u001b[0m\u001b[0;34m\u001b[0m\u001b[0m\n\u001b[0;32m----> 5\u001b[0;31m \u001b[0mresult\u001b[0m \u001b[0;34m=\u001b[0m \u001b[0mdivide_numbers\u001b[0m\u001b[0;34m(\u001b[0m\u001b[0;36m10\u001b[0m\u001b[0;34m,\u001b[0m \u001b[0;36m0\u001b[0m\u001b[0;34m)\u001b[0m  \u001b[0;31m# This will raise an exception\u001b[0m\u001b[0;34m\u001b[0m\u001b[0;34m\u001b[0m\u001b[0m\n\u001b[0m\u001b[1;32m      6\u001b[0m \u001b[0;34m\u001b[0m\u001b[0m\n\u001b[1;32m      7\u001b[0m \u001b[0mprint\u001b[0m\u001b[0;34m(\u001b[0m\u001b[0;34mf\"The result is: {result}\"\u001b[0m\u001b[0;34m)\u001b[0m  \u001b[0;31m# This line will not be executed\u001b[0m\u001b[0;34m\u001b[0m\u001b[0;34m\u001b[0m\u001b[0m\n",
            "\u001b[0;32m<ipython-input-3-b2f1a2490118>\u001b[0m in \u001b[0;36mdivide_numbers\u001b[0;34m(a, b)\u001b[0m\n\u001b[1;32m      1\u001b[0m \u001b[0;32mdef\u001b[0m \u001b[0mdivide_numbers\u001b[0m\u001b[0;34m(\u001b[0m\u001b[0ma\u001b[0m\u001b[0;34m,\u001b[0m \u001b[0mb\u001b[0m\u001b[0;34m)\u001b[0m\u001b[0;34m:\u001b[0m\u001b[0;34m\u001b[0m\u001b[0;34m\u001b[0m\u001b[0m\n\u001b[0;32m----> 2\u001b[0;31m     \u001b[0;32mreturn\u001b[0m \u001b[0ma\u001b[0m \u001b[0;34m/\u001b[0m \u001b[0mb\u001b[0m  \u001b[0;31m# This line may raise a ZeroDivisionError if b is zero\u001b[0m\u001b[0;34m\u001b[0m\u001b[0;34m\u001b[0m\u001b[0m\n\u001b[0m\u001b[1;32m      3\u001b[0m \u001b[0;34m\u001b[0m\u001b[0m\n\u001b[1;32m      4\u001b[0m \u001b[0;31m# Calling the function without handling the exception\u001b[0m\u001b[0;34m\u001b[0m\u001b[0;34m\u001b[0m\u001b[0m\n\u001b[1;32m      5\u001b[0m \u001b[0mresult\u001b[0m \u001b[0;34m=\u001b[0m \u001b[0mdivide_numbers\u001b[0m\u001b[0;34m(\u001b[0m\u001b[0;36m10\u001b[0m\u001b[0;34m,\u001b[0m \u001b[0;36m0\u001b[0m\u001b[0;34m)\u001b[0m  \u001b[0;31m# This will raise an exception\u001b[0m\u001b[0;34m\u001b[0m\u001b[0;34m\u001b[0m\u001b[0m\n",
            "\u001b[0;31mZeroDivisionError\u001b[0m: division by zero"
          ]
        }
      ]
    },
    {
      "cell_type": "markdown",
      "source": [
        "# Example of Handling the Exception:"
      ],
      "metadata": {
        "id": "QPtx6BivJtYG"
      }
    },
    {
      "cell_type": "code",
      "source": [
        "def divide_numbers(a, b):\n",
        "    return a / b\n",
        "\n",
        "try:\n",
        "    result = divide_numbers(10, 0)  # This will raise an exception\n",
        "    print(f\"The result is: {result}\")\n",
        "except ZeroDivisionError as e:\n",
        "    print(f\"Error: {e}. Division by zero is not allowed.\")  # Output: Error: division by zero. Division by zero is not allowed."
      ],
      "metadata": {
        "colab": {
          "base_uri": "https://localhost:8080/"
        },
        "id": "QLpz3uj9KEs9",
        "outputId": "6425a664-1a52-4d16-bdca-c3ff3d1689ca"
      },
      "execution_count": 4,
      "outputs": [
        {
          "output_type": "stream",
          "name": "stdout",
          "text": [
            "Error: division by zero. Division by zero is not allowed.\n"
          ]
        }
      ]
    },
    {
      "cell_type": "markdown",
      "source": [
        "# Q3. Which Python statements are used to catch and handle exceptions? Explain with an example\n",
        "\n",
        "In Python, exceptions are caught and handled using the try and except statements. The try block contains code that may raise an exception, while the except block defines how to handle specific exceptions that may occur.\n",
        "\n",
        "# Basic Syntax:"
      ],
      "metadata": {
        "id": "h7bR6WsWKKWF"
      }
    },
    {
      "cell_type": "code",
      "source": [
        "try:\n",
        "    # Code that may raise an exception\n",
        "    ...\n",
        "except ExceptionType:\n",
        "    # Code to handle the exception\n",
        "    ..."
      ],
      "metadata": {
        "id": "GriulA67Ke7M"
      },
      "execution_count": 5,
      "outputs": []
    },
    {
      "cell_type": "markdown",
      "source": [
        "# Example of Exception Handling:\n",
        "Here's a simple example that demonstrates how to catch and handle exceptions using try and except:"
      ],
      "metadata": {
        "id": "w9t9GERZKkUV"
      }
    },
    {
      "cell_type": "code",
      "source": [
        "def divide_numbers(a, b):\n",
        "    return a / b\n",
        "\n",
        "try:\n",
        "    result = divide_numbers(10, 0)  # This will raise a ZeroDivisionError\n",
        "    print(f\"The result is: {result}\")\n",
        "except ZeroDivisionError as e:\n",
        "    print(f\"Error: {e}. Division by zero is not allowed.\")  # Handling the exception\n",
        "else:\n",
        "    print(f\"The result is: {result}\")  # This block runs if no exceptions occur\n",
        "finally:\n",
        "    print(\"Execution complete.\")  # This block always runs"
      ],
      "metadata": {
        "colab": {
          "base_uri": "https://localhost:8080/"
        },
        "id": "Vn3UAE8oKpDd",
        "outputId": "4d43c6f0-8adc-469b-926f-3595cba1956a"
      },
      "execution_count": 6,
      "outputs": [
        {
          "output_type": "stream",
          "name": "stdout",
          "text": [
            "Error: division by zero. Division by zero is not allowed.\n",
            "Execution complete.\n"
          ]
        }
      ]
    },
    {
      "cell_type": "markdown",
      "source": [
        "# Q4. Explain with an example:#\n",
        " try and else#\n",
        " finally\n",
        "+ raise\n",
        "\n",
        "Certainly! The try, else, finally, and raise statements in Python are used for exception handling and flow control in the presence of errors. Below is a detailed explanation of each, along with an example that incorporates them all.\n",
        "\n",
        "# Explanation of Components:\n",
        "1. try Block: This block contains the code that may raise an exception. If an exception occurs, the flow of control jumps to the corresponding except block.\n",
        "\n",
        "2. else Block: This block executes if the code in the try block does not raise any exceptions. It's useful for code that should only run when no exceptions have occurred.\n",
        "\n",
        "3. finally Block: This block will always execute, regardless of whether an exception was raised or caught. It's typically used for cleanup actions (like closing files or releasing resources).\n",
        "\n",
        "4. raise Statement: This statement is used to manually raise an exception. It can be useful for propagating an error condition or creating a custom exception"
      ],
      "metadata": {
        "id": "B3x6a2BYLPZ3"
      }
    },
    {
      "cell_type": "code",
      "source": [
        "def divide_numbers(a, b):\n",
        "    if b == 0:\n",
        "        # Raise a custom exception for division by zero\n",
        "        raise ValueError(\"Denominator cannot be zero.\")\n",
        "    return a / b\n",
        "\n",
        "def main():\n",
        "    try:\n",
        "        # Attempt to divide two numbers\n",
        "        result = divide_numbers(10, 0)  # This will raise a ValueError\n",
        "    except ValueError as e:\n",
        "        # Handle the ValueError exception\n",
        "        print(f\"Error: {e}\")\n",
        "    else:\n",
        "        # This block runs if no exceptions occurred\n",
        "        print(f\"The result is: {result}\")\n",
        "    finally:\n",
        "        # This block always runs, useful for cleanup\n",
        "        print(\"Execution complete.\")\n",
        "\n",
        "# Call the main function\n",
        "main()"
      ],
      "metadata": {
        "colab": {
          "base_uri": "https://localhost:8080/"
        },
        "id": "lRW9Rw6bLjmV",
        "outputId": "8f50c51b-1b5b-4b06-e1f4-4236f70cc0e3"
      },
      "execution_count": 7,
      "outputs": [
        {
          "output_type": "stream",
          "name": "stdout",
          "text": [
            "Error: Denominator cannot be zero.\n",
            "Execution complete.\n"
          ]
        }
      ]
    },
    {
      "cell_type": "markdown",
      "source": [
        "# Q5. What are Custom Exceptions in python? Why do we need Custom Exceptions? Explain with an example.\n",
        "\n",
        "# Custom Exceptions in Python\n",
        "Custom exceptions are user-defined exception classes that extend the built-in exception classes in Python. They allow developers to create specific error types that are relevant to their application, enabling more precise error handling and clearer code.\n",
        "\n",
        "# Why Do We Need Custom Exceptions?\n",
        "1. Clarity: Custom exceptions can provide clearer error messages and intentions in your code. They can describe the error in a more specific context, making it easier for users and developers to understand what went wrong.\n",
        "\n",
        "2. Granularity: By using custom exceptions, you can handle different error types distinctly, allowing for more fine-grained control over error management.\n",
        "\n",
        "3. Domain-Specific: Custom exceptions can encapsulate errors that are specific to the domain of the application, enhancing readability and maintainability.\n",
        "\n",
        "4. Separation of Concerns: They help in separating error types based on the application’s needs, which can make the code cleaner and easier to manage.\n",
        "\n",
        "# Example of Custom Exceptions\n",
        "Here’s an example that demonstrates how to create and use custom exceptions in Python.\n",
        "\n",
        "# Step 1: Define a Custom Exception Class"
      ],
      "metadata": {
        "id": "9_U_jUYlLv8G"
      }
    },
    {
      "cell_type": "code",
      "source": [],
      "metadata": {
        "id": "582M5xW_M5_d"
      },
      "execution_count": null,
      "outputs": []
    },
    {
      "cell_type": "code",
      "source": [
        "class InvalidAgeError(Exception):\n",
        "    \"\"\"Custom exception for invalid age.\"\"\"\n",
        "    def __init__(self, age):\n",
        "        super().__init__(f\"Invalid age provided: {age}. Age must be between 0 and 120.\")\n",
        "        self.age = age"
      ],
      "metadata": {
        "id": "vUCf5YK_Mrx1"
      },
      "execution_count": 8,
      "outputs": []
    },
    {
      "cell_type": "markdown",
      "source": [
        "# Step 2: Use the Custom Exception in a Function"
      ],
      "metadata": {
        "id": "T0P0ByCzMzaU"
      }
    },
    {
      "cell_type": "code",
      "source": [
        "def set_age(age):\n",
        "    if age < 0 or age > 120:\n",
        "        raise InvalidAgeError(age)  # Raise the custom exception\n",
        "    return age"
      ],
      "metadata": {
        "id": "lvzLY7q9M3Kc"
      },
      "execution_count": 9,
      "outputs": []
    },
    {
      "cell_type": "markdown",
      "source": [
        "# Step 3: Handle the Custom Exception"
      ],
      "metadata": {
        "id": "iJGOzRqmM_4M"
      }
    },
    {
      "cell_type": "code",
      "source": [
        "def main():\n",
        "    try:\n",
        "        age = int(input(\"Enter your age: \"))  # User input for age\n",
        "        valid_age = set_age(age)  # This may raise an InvalidAgeError\n",
        "        print(f\"Your age is set to: {valid_age}\")\n",
        "    except InvalidAgeError as e:\n",
        "        print(e)  # Handle the custom exception\n",
        "    except ValueError:\n",
        "        print(\"Please enter a valid integer for age.\")  # Handle invalid input\n",
        "    finally:\n",
        "        print(\"Execution complete.\")\n",
        "\n",
        "# Call the main function\n",
        "main()"
      ],
      "metadata": {
        "id": "yN9k6vGQNC_1"
      },
      "execution_count": null,
      "outputs": []
    },
    {
      "cell_type": "markdown",
      "source": [
        "# Q6. Create a custom exception class. Use this class to handle an exception.\n",
        "\n",
        "Certainly! Below is an example of creating a custom exception class in Python and using it to handle exceptions. In this example, we will create a custom exception class called InsufficientFundsError to handle scenarios where a bank account does not have enough balance for a withdrawal.\n",
        "\n",
        "# Step 1: Define the Custom Exception Class"
      ],
      "metadata": {
        "id": "JItbIjYVNg9F"
      }
    },
    {
      "cell_type": "code",
      "source": [
        "class InsufficientFundsError(Exception):\n",
        "    \"\"\"Custom exception for insufficient funds in a bank account.\"\"\"\n",
        "    def __init__(self, balance, amount):\n",
        "        self.balance = balance\n",
        "        self.amount = amount\n",
        "        super().__init__(f\"Insufficient funds: Attempted to withdraw {amount}, but the balance is only {balance}.\")"
      ],
      "metadata": {
        "id": "yJKpK06gNmmA"
      },
      "execution_count": null,
      "outputs": []
    },
    {
      "cell_type": "markdown",
      "source": [
        "# Step 2: Create a Bank Account Class"
      ],
      "metadata": {
        "id": "8VnMZxLTNwXW"
      }
    },
    {
      "cell_type": "code",
      "source": [
        "class BankAccount:\n",
        "    def __init__(self, balance):\n",
        "        self.balance = balance\n",
        "\n",
        "    def withdraw(self, amount):\n",
        "        if amount > self.balance:\n",
        "            raise InsufficientFundsError(self.balance, amount)  # Raise the custom exception\n",
        "        self.balance -= amount\n",
        "        return self.balance"
      ],
      "metadata": {
        "id": "u2m0a9rSNz3X"
      },
      "execution_count": null,
      "outputs": []
    },
    {
      "cell_type": "markdown",
      "source": [
        "# Step 3: Handle the Custom Exception"
      ],
      "metadata": {
        "id": "7SK_Svm2N9gT"
      }
    },
    {
      "cell_type": "code",
      "source": [
        "def main():\n",
        "    account = BankAccount(100)  # Create an account with a balance of $100\n",
        "    try:\n",
        "        withdrawal_amount = float(input(\"Enter the amount to withdraw: \"))  # User input for withdrawal amount\n",
        "        new_balance = account.withdraw(withdrawal_amount)  # Attempt to withdraw\n",
        "        print(f\"Withdrawal successful! New balance: ${new_balance:.2f}\")\n",
        "    except InsufficientFundsError as e:\n",
        "        print(e)  # Handle the custom exception\n",
        "    except ValueError:\n",
        "        print(\"Please enter a valid number.\")  # Handle invalid input\n",
        "    finally:\n",
        "        print(\"Transaction complete.\")\n",
        "\n",
        "# Call the main function\n",
        "main()"
      ],
      "metadata": {
        "id": "nceSzUjjLqbU"
      },
      "execution_count": null,
      "outputs": []
    }
  ]
}