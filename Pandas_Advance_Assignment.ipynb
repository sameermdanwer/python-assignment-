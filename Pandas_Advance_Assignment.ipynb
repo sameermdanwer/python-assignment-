{
  "nbformat": 4,
  "nbformat_minor": 0,
  "metadata": {
    "colab": {
      "provenance": [],
      "authorship_tag": "ABX9TyOMC1hPLCyFXcpdx6Vj2jfp",
      "include_colab_link": true
    },
    "kernelspec": {
      "name": "python3",
      "display_name": "Python 3"
    },
    "language_info": {
      "name": "python"
    }
  },
  "cells": [
    {
      "cell_type": "markdown",
      "metadata": {
        "id": "view-in-github",
        "colab_type": "text"
      },
      "source": [
        "<a href=\"https://colab.research.google.com/github/sameermdanwer/python-assignment-/blob/main/Pandas_Advance_Assignment.ipynb\" target=\"_parent\"><img src=\"https://colab.research.google.com/assets/colab-badge.svg\" alt=\"Open In Colab\"/></a>"
      ]
    },
    {
      "cell_type": "markdown",
      "source": [
        "# Q1. List any five functions of the pandas library with execution.\n",
        "\n",
        "The Pandas library is a powerful tool for data manipulation and analysis in Python. Here are five key functions of the Pandas library, along with execution examples:\n",
        "\n",
        "# 1. Reading CSV Files"
      ],
      "metadata": {
        "id": "EF8GbdpJnV7D"
      }
    },
    {
      "cell_type": "code",
      "source": [
        "import pandas as pd\n",
        "\n",
        "# Reading a CSV file\n",
        "df = pd.read_csv('data.csv')\n",
        "print(df.head())  # Display the first five rows"
      ],
      "metadata": {
        "id": "b2g2ii_3nzs2"
      },
      "execution_count": null,
      "outputs": []
    },
    {
      "cell_type": "markdown",
      "source": [
        "# 2. DataFrame Creation"
      ],
      "metadata": {
        "id": "a6bRCKuen2kM"
      }
    },
    {
      "cell_type": "code",
      "source": [
        "# Creating a DataFrame from a dictionary\n",
        "data = {\n",
        "    'Name': ['Alice', 'Bob', 'Charlie'],\n",
        "    'Age': [25, 30, 35],\n",
        "    'City': ['New York', 'Los Angeles', 'Chicago']\n",
        "}\n",
        "df = pd.DataFrame(data)\n",
        "print(df)"
      ],
      "metadata": {
        "id": "plK37w5un6VG"
      },
      "execution_count": null,
      "outputs": []
    },
    {
      "cell_type": "markdown",
      "source": [
        "# 3. Data Selection"
      ],
      "metadata": {
        "id": "Q1bLkGscn9nO"
      }
    },
    {
      "cell_type": "code",
      "source": [
        "# Selecting a specific column\n",
        "ages = df['Age']\n",
        "print(ages)\n",
        "\n",
        "# Selecting specific rows by index\n",
        "selected_rows = df.iloc[0:2]  # Select the first two rows\n",
        "print(selected_rows)"
      ],
      "metadata": {
        "id": "LMyVwYGxoDXX"
      },
      "execution_count": null,
      "outputs": []
    },
    {
      "cell_type": "markdown",
      "source": [
        "# 4. Data Filtering"
      ],
      "metadata": {
        "id": "8IgcKnBuoGUm"
      }
    },
    {
      "cell_type": "code",
      "source": [
        "# Filtering DataFrame based on a condition\n",
        "filtered_df = df[df['Age'] > 28]  # Select rows where Age is greater than 28\n",
        "print(filtered_df)"
      ],
      "metadata": {
        "id": "hq8EeIzloMpt"
      },
      "execution_count": null,
      "outputs": []
    },
    {
      "cell_type": "markdown",
      "source": [
        "# 5. Group By Operations"
      ],
      "metadata": {
        "id": "I_Y9HhuQoIr4"
      }
    },
    {
      "cell_type": "code",
      "source": [
        "# Grouping by 'City' and calculating the average Age\n",
        "grouped_df = df.groupby('City')['Age'].mean().reset_index()\n",
        "print(grouped_df)"
      ],
      "metadata": {
        "id": "Dj8wQywPoRQE"
      },
      "execution_count": null,
      "outputs": []
    },
    {
      "cell_type": "markdown",
      "source": [
        "# Q2. Given a Pandas DataFrame df with columns 'A', 'B', and 'C', write a Python function to re-index the\n",
        "DataFrame with a new index that starts from 1 and increments by 2 for each row.]\n",
        "\n",
        "To re-index a Pandas DataFrame so that the new index starts from 1 and increments by 2 for each row, you can create a custom function. Here’s how you can do it:\n",
        "\n",
        "# Function Definition"
      ],
      "metadata": {
        "id": "wJcAFkv1oXQJ"
      }
    },
    {
      "cell_type": "code",
      "source": [
        "import pandas as pd\n",
        "\n",
        "def reindex_dataframe(df):\n",
        "    # Create a new index starting from 1 and incrementing by 2\n",
        "    new_index = range(1, 2 * len(df), 2)\n",
        "\n",
        "    # Re-index the DataFrame\n",
        "    df_reindexed = df.set_index(pd.Index(new_index))\n",
        "\n",
        "    return df_reindexed"
      ],
      "metadata": {
        "id": "3X1DLCE7oykm"
      },
      "execution_count": 1,
      "outputs": []
    },
    {
      "cell_type": "code",
      "source": [
        "# Create a sample DataFrame\n",
        "data = {\n",
        "    'A': [10, 20, 30],\n",
        "    'B': [40, 50, 60],\n",
        "    'C': [70, 80, 90]\n",
        "}\n",
        "df = pd.DataFrame(data)\n",
        "\n",
        "# Display the original DataFrame\n",
        "print(\"Original DataFrame:\")\n",
        "print(df)\n",
        "\n",
        "# Re-index the DataFrame\n",
        "df_reindexed = reindex_dataframe(df)\n",
        "\n",
        "# Display the re-indexed DataFrame\n",
        "print(\"\\nRe-indexed DataFrame:\")\n",
        "print(df_reindexed)"
      ],
      "metadata": {
        "colab": {
          "base_uri": "https://localhost:8080/"
        },
        "id": "tu6b_hJRozr8",
        "outputId": "7a628370-402f-4f7c-9f65-c35f6151fbf1"
      },
      "execution_count": 2,
      "outputs": [
        {
          "output_type": "stream",
          "name": "stdout",
          "text": [
            "Original DataFrame:\n",
            "    A   B   C\n",
            "0  10  40  70\n",
            "1  20  50  80\n",
            "2  30  60  90\n",
            "\n",
            "Re-indexed DataFrame:\n",
            "    A   B   C\n",
            "1  10  40  70\n",
            "3  20  50  80\n",
            "5  30  60  90\n"
          ]
        }
      ]
    },
    {
      "cell_type": "markdown",
      "source": [
        "# Q3. You have a Pandas DataFrame df with a column named 'Values'. Write a Python function that\n",
        "iterates over the DataFrame and calculates the sum of the first three values in the 'Values' column. The\n",
        "function should print the sum to the console.\n",
        "\n",
        "You can create a Python function that iterates over the DataFrame and calculates the sum of the first three values in the 'Values' column using the iterrows() method or simply by slicing the DataFrame. Below is an implementation using slicing for better performance, as iterating through rows is generally slower.\n",
        "\n",
        "# Function Definition\n",
        "\n"
      ],
      "metadata": {
        "id": "OZ2WbZ2_o-JU"
      }
    },
    {
      "cell_type": "code",
      "source": [
        "import pandas as pd\n",
        "\n",
        "def sum_first_three_values(df):\n",
        "    # Check if there are at least three values in the 'Values' column\n",
        "    if len(df) < 3:\n",
        "        print(\"The DataFrame does not have enough values in the 'Values' column.\")\n",
        "        return\n",
        "\n",
        "    # Calculate the sum of the first three values\n",
        "    total_sum = df['Values'].iloc[:3].sum()\n",
        "\n",
        "    # Print the sum\n",
        "    print(f\"The sum of the first three values is: {total_sum}\")"
      ],
      "metadata": {
        "id": "8fL-sus4pbU0"
      },
      "execution_count": 3,
      "outputs": []
    },
    {
      "cell_type": "markdown",
      "source": [
        "# Example Usage\n"
      ],
      "metadata": {
        "id": "vyZkFENSpiGn"
      }
    },
    {
      "cell_type": "code",
      "source": [
        "# Create a sample DataFrame\n",
        "data = {\n",
        "    'Values': [10, 20, 30, 40, 50]\n",
        "}\n",
        "df = pd.DataFrame(data)\n",
        "\n",
        "# Call the function to calculate and print the sum\n",
        "sum_first_three_values(df)"
      ],
      "metadata": {
        "colab": {
          "base_uri": "https://localhost:8080/"
        },
        "id": "RIceInuvpoB2",
        "outputId": "183d414b-2b35-49d2-b610-25d830f6ea66"
      },
      "execution_count": 4,
      "outputs": [
        {
          "output_type": "stream",
          "name": "stdout",
          "text": [
            "The sum of the first three values is: 60\n"
          ]
        }
      ]
    },
    {
      "cell_type": "markdown",
      "source": [
        "# Q4. Given a Pandas DataFrame df with a column 'Text', write a Python function to create a new column\n",
        "'Word_Count' that contains the number of words in each row of the 'Text' column.\n",
        "\n",
        "You can create a new column in a Pandas DataFrame that counts the number of words in each entry of the 'Text' column using the str.split() method combined with str.len(). Below is a function that accomplishes this task.\n",
        "\n",
        "# Function Definition"
      ],
      "metadata": {
        "id": "mJ01esNRptxF"
      }
    },
    {
      "cell_type": "code",
      "source": [
        "import pandas as pd\n",
        "\n",
        "def add_word_count_column(df):\n",
        "    # Create a new column 'Word_Count' that counts the number of words in each row of the 'Text' column\n",
        "    df['Word_Count'] = df['Text'].str.split().str.len()\n",
        "\n",
        "    return df"
      ],
      "metadata": {
        "id": "dNYvtwp1qHl5"
      },
      "execution_count": 5,
      "outputs": []
    },
    {
      "cell_type": "markdown",
      "source": [
        "# Example Usage"
      ],
      "metadata": {
        "id": "BXujH025qKcA"
      }
    },
    {
      "cell_type": "code",
      "source": [
        "# Create a sample DataFrame\n",
        "data = {\n",
        "    'Text': [\n",
        "        'Hello world',\n",
        "        'This is a test',\n",
        "        'Pandas is great for data manipulation',\n",
        "        'Python programming'\n",
        "    ]\n",
        "}\n",
        "df = pd.DataFrame(data)\n",
        "\n",
        "# Call the function to add the 'Word_Count' column\n",
        "df_with_word_count = add_word_count_column(df)\n",
        "\n",
        "# Display the updated DataFrame\n",
        "print(df_with_word_count)\n",
        "\n",
        "\n",
        "\n",
        "\n",
        "\n",
        "\n",
        "\n",
        "\n"
      ],
      "metadata": {
        "colab": {
          "base_uri": "https://localhost:8080/"
        },
        "id": "ujAUv_9UqMYW",
        "outputId": "6002e5ad-6253-4a22-c082-1aded08a8ea2"
      },
      "execution_count": 7,
      "outputs": [
        {
          "output_type": "stream",
          "name": "stdout",
          "text": [
            "                                    Text  Word_Count\n",
            "0                            Hello world           2\n",
            "1                         This is a test           4\n",
            "2  Pandas is great for data manipulation           6\n",
            "3                     Python programming           2\n"
          ]
        }
      ]
    },
    {
      "cell_type": "markdown",
      "source": [
        "# Q5. How are DataFrame.size() and DataFrame.shape() different?\n",
        "\n",
        "DataFrame.size and DataFrame.shape are both attributes in pandas that provide information about the dimensions of a DataFrame, but they do so in different ways:\n",
        "\n",
        "1. DataFrame.size:\n",
        "\n",
        "* Returns the total number of elements in the DataFrame.\n",
        "* This is calculated as the product of the number of rows and the number of columns.\n",
        "* It returns a single integer value.\n",
        "* Example:"
      ],
      "metadata": {
        "id": "Ec5Ul-rNp1zd"
      }
    },
    {
      "cell_type": "code",
      "source": [
        "import pandas as pd\n",
        "\n",
        "df = pd.DataFrame({'A': [1, 2], 'B': [3, 4]})\n",
        "print(df.size)  # Output: 4 (2 rows * 2 columns)"
      ],
      "metadata": {
        "id": "Yyxjd8eQrGVl"
      },
      "execution_count": null,
      "outputs": []
    },
    {
      "cell_type": "markdown",
      "source": [
        "2. DataFrame.shape:\n",
        "\n",
        "* Returns a tuple representing the dimensions of the DataFrame.\n",
        "* The tuple consists of two values: the number of rows and the number of columns.\n",
        "* It gives a more structured overview of the DataFrame's dimensions.\n",
        "Example:"
      ],
      "metadata": {
        "id": "o4JnVoBKrNOX"
      }
    },
    {
      "cell_type": "code",
      "source": [
        "print(df.shape)  # Output: (2, 2) (2 rows, 2 columns)"
      ],
      "metadata": {
        "id": "S9r7ijnkrl9E"
      },
      "execution_count": null,
      "outputs": []
    },
    {
      "cell_type": "markdown",
      "source": [
        "# Q6. Which function of pandas do we use to read an excel file?\n",
        "\n",
        "In pandas, you can use the pandas.read_excel() function to read an Excel file. This function allows you to load data from an Excel spreadsheet into a DataFrame.\n",
        "\n",
        "# Basic Usage:\n"
      ],
      "metadata": {
        "id": "yThCX7SMrpdT"
      }
    },
    {
      "cell_type": "code",
      "source": [
        "import pandas as pd\n",
        "\n",
        "# Read an Excel file\n",
        "df = pd.read_excel('path_to_file.xlsx')"
      ],
      "metadata": {
        "id": "XhiuZJtYsByO"
      },
      "execution_count": null,
      "outputs": []
    },
    {
      "cell_type": "markdown",
      "source": [
        "# Q7. You have a Pandas DataFrame df that contains a column named 'Email' that contains email\n",
        "addresses in the format 'username@domain.com'. Write a Python function that creates a new column\n",
        "'Username' in df that contains only the username part of each email address.\n",
        "The username is the part of the email address that appears before the '@' symbol. For example, if the\n",
        "email address is 'john.doe@example.com', the 'Username' column should contain 'john.doe'. Your\n",
        "function should extract the username from each email address and store it in the new 'Username'\n",
        "column.\n",
        "\n",
        "You can create a function that extracts the username from the email addresses in the 'Email' column of a Pandas DataFrame and adds it as a new column named 'Username'. Here's how you can do that:\n",
        "\n"
      ],
      "metadata": {
        "id": "_WdjpRWCsVmY"
      }
    },
    {
      "cell_type": "code",
      "source": [
        "import pandas as pd\n",
        "\n",
        "def extract_username(df):\n",
        "    # Check if the 'Email' column exists in the DataFrame\n",
        "    if 'Email' in df.columns:\n",
        "        # Create a new column 'Username' by splitting the 'Email' column at the '@' symbol\n",
        "        df['Username'] = df['Email'].apply(lambda x: x.split('@')[0])\n",
        "    else:\n",
        "        print(\"The 'Email' column does not exist in the DataFrame.\")\n",
        "    return df\n",
        "\n",
        "# Example usage\n",
        "data = {\n",
        "    'Email': ['john.doe@example.com', 'jane.smith@test.com', 'alice.brown@domain.org']\n",
        "}\n",
        "\n",
        "df = pd.DataFrame(data)\n",
        "df = extract_username(df)\n",
        "\n",
        "print(df)"
      ],
      "metadata": {
        "colab": {
          "base_uri": "https://localhost:8080/"
        },
        "id": "HlOmo8Dhsaab",
        "outputId": "2ef599ab-62ae-4f9d-b636-ecc14f4ee297"
      },
      "execution_count": 8,
      "outputs": [
        {
          "output_type": "stream",
          "name": "stdout",
          "text": [
            "                    Email     Username\n",
            "0    john.doe@example.com     john.doe\n",
            "1     jane.smith@test.com   jane.smith\n",
            "2  alice.brown@domain.org  alice.brown\n"
          ]
        }
      ]
    },
    {
      "cell_type": "markdown",
      "source": [
        "# Q8. You have a Pandas DataFrame df with columns 'A', 'B', and 'C'. Write a Python function that selects\n",
        "all rows where the value in column 'A' is greater than 5 and the value in column 'B' is less than 10. The\n",
        "function should return a new DataFrame that contains only the selected rows.\n",
        "For example, if df contains the following values:\n",
        "A B C\n",
        "0 3 5 1\n",
        "1 8 2 7\n",
        "2 6 9 4\n",
        "3 2 3 5\n",
        "4 9 1 2\n",
        "Your function should select the following rows: A B C\n",
        "1 8 2 7\n",
        "4 9 1 2\n",
        "The function should return a new DataFrame that contains only the selected rows.\n",
        "\n",
        "You can create a function that filters the DataFrame based on the conditions specified (values in column 'A' greater than 5 and values in column 'B' less than 10). Here's how you can implement this:"
      ],
      "metadata": {
        "id": "Hkuixd4ish9l"
      }
    },
    {
      "cell_type": "code",
      "source": [
        "import pandas as pd\n",
        "\n",
        "def filter_dataframe(df):\n",
        "    # Select rows where column 'A' is greater than 5 and column 'B' is less than 10\n",
        "    filtered_df = df[(df['A'] > 5) & (df['B'] < 10)]\n",
        "    return filtered_df\n",
        "\n",
        "# Example usage\n",
        "data = {\n",
        "    'A': [3, 8, 6, 2, 9],\n",
        "    'B': [5, 2, 9, 3, 1],\n",
        "    'C': [1, 7, 4, 5, 2]\n",
        "}\n",
        "\n",
        "df = pd.DataFrame(data)\n",
        "result_df = filter_dataframe(df)\n",
        "\n",
        "print(result_df)"
      ],
      "metadata": {
        "colab": {
          "base_uri": "https://localhost:8080/"
        },
        "id": "pr4pRF94tCwK",
        "outputId": "f8f5793e-48a4-4e98-c60a-c0ccb251f93c"
      },
      "execution_count": 9,
      "outputs": [
        {
          "output_type": "stream",
          "name": "stdout",
          "text": [
            "   A  B  C\n",
            "1  8  2  7\n",
            "2  6  9  4\n",
            "4  9  1  2\n"
          ]
        }
      ]
    },
    {
      "cell_type": "markdown",
      "source": [
        "# Q9. Given a Pandas DataFrame df with a column 'Values', write a Python function to calculate the mean,\n",
        "median, and standard deviation of the values in the 'Values' column.\n",
        "\n",
        "You can create a function that calculates the mean, median, and standard deviation of the values in the 'Values' column of a Pandas DataFrame. Here's how you can do that:"
      ],
      "metadata": {
        "id": "6VKgZi4ntLO4"
      }
    },
    {
      "cell_type": "code",
      "source": [
        "import pandas as pd\n",
        "\n",
        "def calculate_statistics(df):\n",
        "    # Check if the 'Values' column exists in the DataFrame\n",
        "    if 'Values' in df.columns:\n",
        "        mean_value = df['Values'].mean()\n",
        "        median_value = df['Values'].median()\n",
        "        std_deviation = df['Values'].std()\n",
        "\n",
        "        # Return the results as a dictionary\n",
        "        return {\n",
        "            'Mean': mean_value,\n",
        "            'Median': median_value,\n",
        "            'Standard Deviation': std_deviation\n",
        "        }\n",
        "    else:\n",
        "        print(\"The 'Values' column does not exist in the DataFrame.\")\n",
        "        return None\n",
        "\n",
        "# Example usage\n",
        "data = {\n",
        "    'Values': [10, 20, 30, 40, 50]\n",
        "}\n",
        "\n",
        "df = pd.DataFrame(data)\n",
        "statistics = calculate_statistics(df)\n",
        "\n",
        "print(statistics)"
      ],
      "metadata": {
        "colab": {
          "base_uri": "https://localhost:8080/"
        },
        "id": "szYlrOf0teVM",
        "outputId": "9d617d1c-fbc6-4d08-9f53-b79fdb6c2f49"
      },
      "execution_count": 10,
      "outputs": [
        {
          "output_type": "stream",
          "name": "stdout",
          "text": [
            "{'Mean': 30.0, 'Median': 30.0, 'Standard Deviation': 15.811388300841896}\n"
          ]
        }
      ]
    },
    {
      "cell_type": "markdown",
      "source": [
        "# Q10. Given a Pandas DataFrame df with a column 'Sales' and a column 'Date', write a Python function to\n",
        "create a new column 'MovingAverage' that contains the moving average of the sales for the past 7 days\n",
        "for each row in the DataFrame. The moving average should be calculated using a window of size 7 and\n",
        "should include the current day.\n",
        "\n",
        "You can create a function that calculates the 7-day moving average of the sales data in the 'Sales' column and stores the result in a new column called 'MovingAverage'. Here's how you can implement this:"
      ],
      "metadata": {
        "id": "bsx6J5fQtlSw"
      }
    },
    {
      "cell_type": "code",
      "source": [
        "import pandas as pd\n",
        "\n",
        "def calculate_moving_average(df):\n",
        "    # Ensure that the 'Date' column is in datetime format\n",
        "    df['Date'] = pd.to_datetime(df['Date'])\n",
        "\n",
        "    # Sort the DataFrame by date\n",
        "    df = df.sort_values('Date')\n",
        "\n",
        "    # Calculate the 7-day moving average of the 'Sales' column\n",
        "    df['MovingAverage'] = df['Sales'].rolling(window=7).mean()\n",
        "\n",
        "    return df\n",
        "\n",
        "# Example usage\n",
        "data = {\n",
        "    'Date': ['2024-10-01', '2024-10-02', '2024-10-03', '2024-10-04',\n",
        "             '2024-10-05', '2024-10-06', '2024-10-07', '2024-10-08',\n",
        "             '2024-10-09', '2024-10-10'],\n",
        "    'Sales': [100, 150, 200, 130, 160, 170, 180, 190, 220, 240]\n",
        "}\n",
        "\n",
        "df = pd.DataFrame(data)\n",
        "df_with_moving_average = calculate_moving_average(df)\n",
        "\n",
        "print(df_with_moving_average)"
      ],
      "metadata": {
        "colab": {
          "base_uri": "https://localhost:8080/"
        },
        "id": "rB7Jye8Hs7EP",
        "outputId": "38e7d9cd-777d-410e-aca8-5ee6d902cb66"
      },
      "execution_count": 11,
      "outputs": [
        {
          "output_type": "stream",
          "name": "stdout",
          "text": [
            "        Date  Sales  MovingAverage\n",
            "0 2024-10-01    100            NaN\n",
            "1 2024-10-02    150            NaN\n",
            "2 2024-10-03    200            NaN\n",
            "3 2024-10-04    130            NaN\n",
            "4 2024-10-05    160            NaN\n",
            "5 2024-10-06    170            NaN\n",
            "6 2024-10-07    180     155.714286\n",
            "7 2024-10-08    190     168.571429\n",
            "8 2024-10-09    220     178.571429\n",
            "9 2024-10-10    240     184.285714\n"
          ]
        }
      ]
    },
    {
      "cell_type": "markdown",
      "source": [
        "# Q11. You have a Pandas DataFrame df with a column 'Date'. Write a Python function that creates a new\n",
        "column 'Weekday' in the DataFrame. The 'Weekday' column should contain the weekday name (e.g.\n",
        "Monday, Tuesday) corresponding to each date in the 'Date' column.\n",
        "For example, if df contains the following values:\n",
        "Date\n",
        "0 2023-01-01\n",
        "1 2023-01-02\n",
        "2 2023-01-03\n",
        "3 2023-01-04\n",
        "4 2023-01-05\n",
        "Your function should create the following DataFrame:\n",
        "\n",
        "Date Weekday\n",
        "0 2023-01-01 Sunday\n",
        "1 2023-01-02 Monday\n",
        "2 2023-01-03 Tuesday\n",
        "3 2023-01-04 Wednesday\n",
        "4 2023-01-05 Thursday\n",
        "The function should return the modified DataFrame.\n",
        "ChatGPT said:\n",
        "ChatGPT\n",
        "You can create a function that adds a new column 'Weekday' to the DataFrame, containing the names of the weekdays corresponding to each date in the 'Date' column. Here’s how you can implement this:"
      ],
      "metadata": {
        "id": "G0nqDkCTuBOi"
      }
    },
    {
      "cell_type": "code",
      "source": [
        "import pandas as pd\n",
        "\n",
        "def add_weekday_column(df):\n",
        "    # Ensure that the 'Date' column is in datetime format\n",
        "    df['Date'] = pd.to_datetime(df['Date'])\n",
        "\n",
        "    # Create a new column 'Weekday' by extracting the weekday name\n",
        "    df['Weekday'] = df['Date'].dt.day_name()\n",
        "\n",
        "    return df\n",
        "\n",
        "# Example usage\n",
        "data = {\n",
        "    'Date': ['2023-01-01', '2023-01-02', '2023-01-03', '2023-01-04', '2023-01-05']\n",
        "}\n",
        "\n",
        "df = pd.DataFrame(data)\n",
        "df_with_weekday = add_weekday_column(df)\n",
        "\n",
        "print(df_with_weekday)"
      ],
      "metadata": {
        "colab": {
          "base_uri": "https://localhost:8080/"
        },
        "id": "ix6PcbKpuDyt",
        "outputId": "839a47a2-ad62-442e-a7ed-4635daf887fe"
      },
      "execution_count": 12,
      "outputs": [
        {
          "output_type": "stream",
          "name": "stdout",
          "text": [
            "        Date    Weekday\n",
            "0 2023-01-01     Sunday\n",
            "1 2023-01-02     Monday\n",
            "2 2023-01-03    Tuesday\n",
            "3 2023-01-04  Wednesday\n",
            "4 2023-01-05   Thursday\n"
          ]
        }
      ]
    },
    {
      "cell_type": "markdown",
      "source": [
        "# Q12. Given a Pandas DataFrame df with a column 'Date' that contains timestamps, write a Python\n",
        "function to select all rows where the date is between '2023-01-01' and '2023-01-31'.\n",
        "\n",
        "You can create a function that filters the DataFrame to select all rows where the 'Date' column falls between specified start and end dates. Here's how you can implement this:"
      ],
      "metadata": {
        "id": "8ZsfKD6XuZN-"
      }
    },
    {
      "cell_type": "code",
      "source": [
        "import pandas as pd\n",
        "\n",
        "def filter_dates(df, start_date='2023-01-01', end_date='2023-01-31'):\n",
        "    # Ensure that the 'Date' column is in datetime format\n",
        "    df['Date'] = pd.to_datetime(df['Date'])\n",
        "\n",
        "    # Filter the DataFrame for dates between start_date and end_date\n",
        "    filtered_df = df[(df['Date'] >= start_date) & (df['Date'] <= end_date)]\n",
        "\n",
        "    return filtered_df\n",
        "\n",
        "# Example usage\n",
        "data = {\n",
        "    'Date': ['2023-01-01', '2023-01-15', '2023-02-01', '2023-01-31', '2023-01-10']\n",
        "}\n",
        "\n",
        "df = pd.DataFrame(data)\n",
        "filtered_df = filter_dates(df)\n",
        "\n",
        "print(filtered_df)"
      ],
      "metadata": {
        "colab": {
          "base_uri": "https://localhost:8080/"
        },
        "id": "D-gInNaVugIR",
        "outputId": "f856f024-d8c5-4c44-a468-aca38939022f"
      },
      "execution_count": 13,
      "outputs": [
        {
          "output_type": "stream",
          "name": "stdout",
          "text": [
            "        Date\n",
            "0 2023-01-01\n",
            "1 2023-01-15\n",
            "3 2023-01-31\n",
            "4 2023-01-10\n"
          ]
        }
      ]
    },
    {
      "cell_type": "markdown",
      "source": [
        "# Q13. To use the basic functions of pandas, what is the first and foremost necessary library that needs to be imported?\n",
        "\n",
        "To use the basic functions of pandas, the first and foremost necessary library that needs to be imported is the pandas library itself. You typically import it with the following statement:"
      ],
      "metadata": {
        "id": "uXMvrg46yMpg"
      }
    },
    {
      "cell_type": "code",
      "source": [
        "import pandas as pd"
      ],
      "metadata": {
        "id": "udMz-rIkyaAb"
      },
      "execution_count": null,
      "outputs": []
    },
    {
      "cell_type": "markdown",
      "source": [
        "This import statement allows you to use the pandas library's functionality under the alias pd, which is a common convention in the Python community. After this import, you can create DataFrames, Series, and utilize various pandas functions and methods for data manipulation and analysis."
      ],
      "metadata": {
        "id": "pQEVgvHbyvrH"
      }
    }
  ]
}