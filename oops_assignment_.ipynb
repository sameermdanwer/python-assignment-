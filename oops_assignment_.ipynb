{
  "nbformat": 4,
  "nbformat_minor": 0,
  "metadata": {
    "colab": {
      "provenance": [],
      "authorship_tag": "ABX9TyMkgCBFUc2uGGuKhi6xxK8x",
      "include_colab_link": true
    },
    "kernelspec": {
      "name": "python3",
      "display_name": "Python 3"
    },
    "language_info": {
      "name": "python"
    }
  },
  "cells": [
    {
      "cell_type": "markdown",
      "metadata": {
        "id": "view-in-github",
        "colab_type": "text"
      },
      "source": [
        "<a href=\"https://colab.research.google.com/github/sameermdanwer/python-assignment-/blob/main/oops_assignment_.ipynb\" target=\"_parent\"><img src=\"https://colab.research.google.com/assets/colab-badge.svg\" alt=\"Open In Colab\"/></a>"
      ]
    },
    {
      "cell_type": "markdown",
      "source": [
        "# Q1. Explain Class and Object with respect to Object-Oriented Programming. Give a suitable example\n",
        "\n",
        "Class and Object in Object-Oriented Programming (OOP):\n",
        "Class:\n",
        "\n",
        "A class is a blueprint or template for creating objects. It defines the attributes (properties) and methods (behavior) that the objects created from the class will have.\n",
        "Think of a class as a blueprint of a house. It provides the structure, but it’s not the actual house itself.\n",
        "Object:\n",
        "\n",
        "An object is an instance of a class. It is created from the class and has the specific attributes and behavior defined by the class.\n",
        "Using the same analogy, an object would be the actual house built using the blueprint."
      ],
      "metadata": {
        "id": "VtVQgArV37Xu"
      }
    },
    {
      "cell_type": "code",
      "source": [
        "# Class definition (blueprint)\n",
        "class Car:\n",
        "    def __init__(self, make, model, year):\n",
        "        self.make = make     # Attribute for the car's make\n",
        "        self.model = model   # Attribute for the car's model\n",
        "        self.year = year     # Attribute for the car's year\n",
        "\n",
        "    # Method to describe the car\n",
        "    def car_description(self):\n",
        "        return f\"{self.year} {self.make} {self.model}\"\n",
        "\n",
        "    # Method to start the car\n",
        "    def start(self):\n",
        "        return f\"{self.car_description()} is starting.\"\n",
        "\n",
        "# Creating objects (instances) of the Car class\n",
        "car1 = Car(\"Toyota\", \"Camry\", 2021)\n",
        "car2 = Car(\"Honda\", \"Civic\", 2022)\n",
        "\n",
        "# Accessing the methods of the objects\n",
        "print(car1.car_description())  # Output: 2021 Toyota Camry\n",
        "print(car2.start())            # Output: 2022 Honda Civic is starting."
      ],
      "metadata": {
        "colab": {
          "base_uri": "https://localhost:8080/"
        },
        "id": "XwC5ddYJ4TAX",
        "outputId": "7cdd693e-4616-40b7-d09f-3e7b9a393503"
      },
      "execution_count": 1,
      "outputs": [
        {
          "output_type": "stream",
          "name": "stdout",
          "text": [
            "2021 Toyota Camry\n",
            "2022 Honda Civic is starting.\n"
          ]
        }
      ]
    },
    {
      "cell_type": "markdown",
      "source": [
        "# Explanation:\n",
        "Class: The Car class defines the blueprint for creating car objects. It has three attributes: make, model, and year, and two methods: car_description() and start().\n",
        "Objects:\n",
        "car1 is an instance of the Car class with make = \"Toyota\", model = \"Camry\", and year = 2021.\n",
        "car2 is another instance of the Car class with different values: make = \"Honda\", model = \"Civic\", and year = 2022.\n",
        "When you call the methods car_description() or start(), they use the attributes specific to the object, showing how each object has its own state."
      ],
      "metadata": {
        "id": "Ja8JrutV4aOw"
      }
    },
    {
      "cell_type": "markdown",
      "source": [
        "# Q2. Name the four pillars of OOPs.\n",
        "# answer :-\n",
        "The four pillars of Object-Oriented Programming (OOP) are:\n",
        "\n",
        "# 1  Encapsulation:\n",
        "\n",
        "Encapsulation refers to bundling data (attributes) and methods (functions) that operate on the data into a single unit or class. It also helps protect the data by controlling access to it via getters and setters.\n",
        "Example: In a class, variables can be made private, and their access is controlled through public methods.\n",
        "# 2  Abstraction:\n",
        "\n",
        "Abstraction is the concept of hiding the complex implementation details and exposing only the necessary features or functionality. It allows focusing on what an object does rather than how it does it.\n",
        "Example: A user can drive a car (steer, accelerate, brake) without knowing the inner workings of the engine or transmission.\n",
        "# 3 Inheritance:\n",
        "\n",
        "Inheritance allows a new class (child or subclass) to acquire the properties and behaviors (methods and attributes) of an existing class (parent or superclass). This helps in code reusability and a hierarchical class structure.\n",
        "Example: A Dog class can inherit from an Animal class, and it can also have its own unique behaviors and attributes in addition to those inherited from Animal.\n",
        "# 4 Polymorphism:\n",
        "\n",
        "Polymorphism allows objects to be treated as instances of their parent class, even though they may also be instances of derived classes. It also refers to the ability of a method to perform different tasks depending on the object calling it (method overriding and overloading).\n",
        "Example: A draw() method in a Shape class can behave differently when called from Circle, Square, or Triangle objects, even though each one inherits from the Shape class.\n",
        "These four pillars—Encapsulation, Abstraction, Inheritance, and Polymorphism—are the foundation of object-oriented programming, providing structure, code reuse, and flexibility."
      ],
      "metadata": {
        "id": "cRz5_3zT4_bO"
      }
    },
    {
      "cell_type": "markdown",
      "source": [
        "# Q3. Explain why the __init__() function is used. Give a suitable example.\n",
        "\n",
        "Why the __init__() Function is Used:\n",
        "The __init__() function is a special method in Python, also known as the constructor. It is used to initialize an object's attributes when an object is created. The __init__() method is called automatically when an instance of the class is created and allows the class to set the initial state (values of its attributes) of the object.\n",
        "\n",
        "In simple terms, the __init__() method allows us to define and assign the initial values for the object's attributes.\n",
        "\n",
        "Key Points:\n",
        "The __init__() method is not required, but if it's defined, it is typically used to set up initial values for the instance variables.\n",
        "The __init__() method can take arguments, which allow you to pass information during object creation.\n",
        "It runs automatically when a new object is instantiated."
      ],
      "metadata": {
        "id": "2cIUK43l5NFP"
      }
    },
    {
      "cell_type": "code",
      "source": [
        "class Student:\n",
        "    def __init__(self, name, age, grade):\n",
        "        # Attributes initialized in the constructor\n",
        "        self.name = name\n",
        "        self.age = age\n",
        "        self.grade = grade\n",
        "\n",
        "    # Method to display student information\n",
        "    def display_info(self):\n",
        "        return f\"Student Name: {self.name}, Age: {self.age}, Grade: {self.grade}\"\n",
        "\n",
        "# Creating objects of the Student class\n",
        "student1 = Student(\"Alice\", 20, \"A\")\n",
        "student2 = Student(\"Bob\", 22, \"B\")\n",
        "\n",
        "# Accessing the attributes and methods of the objects\n",
        "print(student1.display_info())  # Output: Student Name: Alice, Age: 20, Grade: A\n",
        "print(student2.display_info())  # Output: Student Name: Bob, Age: 22, Grade: B"
      ],
      "metadata": {
        "colab": {
          "base_uri": "https://localhost:8080/"
        },
        "id": "t96HEAu16Ysl",
        "outputId": "3fdc2e99-0d2c-433c-d5cb-ddcf7970edc2"
      },
      "execution_count": 2,
      "outputs": [
        {
          "output_type": "stream",
          "name": "stdout",
          "text": [
            "Student Name: Alice, Age: 20, Grade: A\n",
            "Student Name: Bob, Age: 22, Grade: B\n"
          ]
        }
      ]
    },
    {
      "cell_type": "markdown",
      "source": [
        "# Explanation:\n",
        "The __init__() method initializes the attributes name, age, and grade when a Student object is created.\n",
        "When student1 and student2 are instantiated, the values \"Alice\", 20, \"A\" and \"Bob\", 22, \"B\" are passed to the constructor (__init__()), initializing the respective attributes of the objects.\n",
        "The display_info() method accesses these initialized values and prints the information."
      ],
      "metadata": {
        "id": "-20gRzgL6jpe"
      }
    },
    {
      "cell_type": "markdown",
      "source": [
        "# Q4. Why self is used in OOPs?\n",
        "\n",
        "Why self is Used in OOP:\n",
        "In Python's Object-Oriented Programming (OOP), the keyword self is used to represent the instance of the class. It allows access to the attributes and methods of the class in Python. When you define methods in a class, self is used as the first parameter of those methods to refer to the current object instance.\n",
        "\n",
        "Key Points:\n",
        "Refers to the Current Instance:\n",
        "\n",
        "self is used to refer to the specific object (instance) that is calling the method. It gives access to the instance variables (attributes) and methods of that object.\n",
        "Without self, the method would not be able to access the instance data and behave properly.\n",
        "Self Must be Explicit in Python:\n",
        "\n",
        "In Python, unlike some other object-oriented languages (like Java or C++), you explicitly need to pass self as the first argument to instance methods. This makes it clear which object is being manipulated.\n",
        "Used to Distinguish Between Local Variables and Instance Variables:\n",
        "\n",
        "When a method has local variables with the same name as instance variables, self helps distinguish between them."
      ],
      "metadata": {
        "id": "_MiatBBm6nyI"
      }
    },
    {
      "cell_type": "markdown",
      "source": [
        "# Q5. What is inheritance? Give an example for each type of inheritance.\n",
        "\n",
        "Inheritance in OOP:\n",
        "Inheritance is a fundamental concept in Object-Oriented Programming (OOP) that allows a class (called a child class or subclass) to inherit properties and behaviors (attributes and methods) from another class (called a parent class or superclass). This promotes code reuse, reduces redundancy, and creates a logical class hierarchy.\n",
        "\n",
        "There are several types of inheritance in Python:\n",
        "\n"
      ],
      "metadata": {
        "id": "8nnHKBzj69nl"
      }
    },
    {
      "cell_type": "markdown",
      "source": [
        "# 1. Single Inheritance:\n",
        "In single inheritance, a child class inherits from only one parent class.\n",
        "\n",
        "Example:"
      ],
      "metadata": {
        "id": "nngsIDkk7hNP"
      }
    },
    {
      "cell_type": "code",
      "source": [
        "# Parent class\n",
        "class Animal:\n",
        "    def sound(self):\n",
        "        return \"Animal makes a sound.\"\n",
        "\n",
        "# Child class inheriting from Animal (single inheritance)\n",
        "class Dog(Animal):\n",
        "    def bark(self):\n",
        "        return \"Dog barks.\"\n",
        "\n",
        "# Example of single inheritance\n",
        "dog = Dog()\n",
        "print(dog.sound())  # Inherited from Animal class\n",
        "print(dog.bark())   # Defined in Dog class"
      ],
      "metadata": {
        "colab": {
          "base_uri": "https://localhost:8080/"
        },
        "id": "hLGDyGSv7qi0",
        "outputId": "37d9993a-6c88-4b63-addc-39fd76f79b58"
      },
      "execution_count": 3,
      "outputs": [
        {
          "output_type": "stream",
          "name": "stdout",
          "text": [
            "Animal makes a sound.\n",
            "Dog barks.\n"
          ]
        }
      ]
    },
    {
      "cell_type": "markdown",
      "source": [
        "# 2. Multiple Inheritance:\n",
        "In multiple inheritance, a child class inherits from more than one parent class.\n",
        "\n",
        "Example:"
      ],
      "metadata": {
        "id": "H-jnEQ597xwd"
      }
    },
    {
      "cell_type": "code",
      "source": [
        "# First parent class\n",
        "class Engine:\n",
        "    def start_engine(self):\n",
        "        return \"Engine started.\"\n",
        "\n",
        "# Second parent class\n",
        "class Wheels:\n",
        "    def roll_wheels(self):\n",
        "        return \"Wheels are rolling.\"\n",
        "\n",
        "# Child class inheriting from both Engine and Wheels\n",
        "class Car(Engine, Wheels):\n",
        "    def drive(self):\n",
        "        return \"Car is driving.\"\n",
        "\n",
        "# Example of multiple inheritance\n",
        "car = Car()\n",
        "print(car.start_engine())  # Inherited from Engine class\n",
        "print(car.roll_wheels())   # Inherited from Wheels class\n",
        "print(car.drive())         # Defined in Car class"
      ],
      "metadata": {
        "colab": {
          "base_uri": "https://localhost:8080/"
        },
        "id": "knKbtxyT72al",
        "outputId": "cf386573-89ee-4fad-c174-9a2da4103134"
      },
      "execution_count": 4,
      "outputs": [
        {
          "output_type": "stream",
          "name": "stdout",
          "text": [
            "Engine started.\n",
            "Wheels are rolling.\n",
            "Car is driving.\n"
          ]
        }
      ]
    },
    {
      "cell_type": "markdown",
      "source": [
        "# 3. Multilevel Inheritance:  \n",
        "\n",
        "In multilevel inheritance, a child class inherits from a parent class, and another class can inherit from that child class, forming a chain.\n",
        "\n",
        "Example:"
      ],
      "metadata": {
        "id": "WtJ5kGCs8SzG"
      }
    },
    {
      "cell_type": "code",
      "source": [
        "# Parent class\n",
        "class Animal:\n",
        "    def sound(self):\n",
        "        return \"Animal makes a sound.\"\n",
        "\n",
        "# Child class inheriting from Animal\n",
        "class Dog(Animal):\n",
        "    def bark(self):\n",
        "        return \"Dog barks.\"\n",
        "\n",
        "# Grandchild class inheriting from Dog (multilevel inheritance)\n",
        "class Puppy(Dog):\n",
        "    def cute_bark(self):\n",
        "        return \"Puppy barks cutely.\"\n",
        "\n",
        "# Example of multilevel inheritance\n",
        "puppy = Puppy()\n",
        "print(puppy.sound())       # Inherited from Animal class\n",
        "print(puppy.bark())        # Inherited from Dog class\n",
        "print(puppy.cute_bark())   # Defined in Puppy class"
      ],
      "metadata": {
        "id": "j5MWCHui7e1O"
      },
      "execution_count": null,
      "outputs": []
    },
    {
      "cell_type": "markdown",
      "source": [
        "# 4. Hierarchical Inheritance:\n",
        "In hierarchical inheritance, multiple child classes inherit from the same parent class.\n",
        "\n",
        "Example:"
      ],
      "metadata": {
        "id": "QQBzf6cN8FHm"
      }
    },
    {
      "cell_type": "code",
      "source": [
        "# Parent class\n",
        "class Animal:\n",
        "    def sound(self):\n",
        "        return \"Animal makes a sound.\"\n",
        "\n",
        "# Child class 1 inheriting from Animal\n",
        "class Dog(Animal):\n",
        "    def bark(self):\n",
        "        return \"Dog barks.\"\n",
        "\n",
        "# Child class 2 inheriting from Animal\n",
        "class Cat(Animal):\n",
        "    def meow(self):\n",
        "        return \"Cat meows.\"\n",
        "\n",
        "# Example of hierarchical inheritance\n",
        "dog = Dog()\n",
        "cat = Cat()\n",
        "print(dog.sound())   # Inherited from Animal class\n",
        "print(dog.bark())    # Defined in Dog class\n",
        "print(cat.sound())   # Inherited from Animal class\n",
        "print(cat.meow())    # Defined in Cat class"
      ],
      "metadata": {
        "colab": {
          "base_uri": "https://localhost:8080/"
        },
        "id": "7hV074-y8KmK",
        "outputId": "11ca5c8a-9868-4937-8862-9e23f708af44"
      },
      "execution_count": 5,
      "outputs": [
        {
          "output_type": "stream",
          "name": "stdout",
          "text": [
            "Animal makes a sound.\n",
            "Dog barks.\n",
            "Animal makes a sound.\n",
            "Cat meows.\n"
          ]
        }
      ]
    }
  ]
}