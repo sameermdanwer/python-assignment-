{
  "nbformat": 4,
  "nbformat_minor": 0,
  "metadata": {
    "colab": {
      "provenance": [],
      "authorship_tag": "ABX9TyMgKWbI414jcnO+JHoXH8yj",
      "include_colab_link": true
    },
    "kernelspec": {
      "name": "python3",
      "display_name": "Python 3"
    },
    "language_info": {
      "name": "python"
    }
  },
  "cells": [
    {
      "cell_type": "markdown",
      "metadata": {
        "id": "view-in-github",
        "colab_type": "text"
      },
      "source": [
        "<a href=\"https://colab.research.google.com/github/sameermdanwer/python-assignment-/blob/main/Flask_Assignment_1.ipynb\" target=\"_parent\"><img src=\"https://colab.research.google.com/assets/colab-badge.svg\" alt=\"Open In Colab\"/></a>"
      ]
    },
    {
      "cell_type": "markdown",
      "source": [
        "# Q1. What is Flask Framework? What are the advantages of Flask Framework?\n",
        "\n",
        "Flask is a lightweight and flexible web framework for Python, designed to make it easy to build web applications quickly and with minimal overhead. It is categorized as a microframework because it does not require specific tools or libraries, allowing developers to choose their preferred components. Flask is particularly well-suited for small to medium-sized applications but can also scale to larger projects with the right architecture.\n",
        "\n",
        "# Advantages of Flask Framework\n",
        "1. Simplicity and Minimalism: Flask has a simple and straightforward design, making it easy for beginners to get started with web development. The framework is not opinionated about how to structure your application, providing flexibility in design.\n",
        "\n",
        "2. Lightweight: Being a microframework, Flask has a small footprint, which means it is quick to install and run. It doesn’t include unnecessary tools or libraries, allowing developers to add only what they need.\n",
        "\n",
        "3. Extensible: Flask supports extensions, enabling developers to add functionality as needed. There are many third-party extensions available for integrating various features, such as database connections, authentication, and more.\n",
        "\n",
        "4. Built-in Development Server and Debugger: Flask includes a built-in development server, making it easy to run and test applications locally. The interactive debugger provides detailed error messages, simplifying the debugging process.\n",
        "\n",
        "5. RESTful Request Dispatching: Flask provides tools for building RESTful APIs, making it easier to create services that follow the REST architecture.\n",
        "\n",
        "6. Template Engine: Flask comes with Jinja2, a powerful templating engine, allowing developers to create dynamic HTML content with minimal effort.\n",
        "\n",
        "7. Large Community and Documentation: Flask has a strong community and extensive documentation, making it easy to find resources, tutorials, and support for various challenges encountered during development.\n",
        "\n"
      ],
      "metadata": {
        "id": "yXRZ9FBVcuux"
      }
    },
    {
      "cell_type": "markdown",
      "source": [
        "# Q2. Create a simple Flask application to display ‘Hello World!!’. Attach the screenshot of the output in\n",
        "Jupyter Notebook.\n",
        "ChatGPT said:\n",
        "ChatGPT\n",
        "To create a simple Flask application that displays \"Hello World!!\", follow these steps:\n",
        "\n",
        "Set Up Your Environment:\n",
        "\n",
        "Ensure you have Python installed on your machine.\n",
        "\n",
        "Install Flask using pip if you haven't already:"
      ],
      "metadata": {
        "id": "-r3GCTDzdDrP"
      }
    },
    {
      "cell_type": "code",
      "source": [
        "\n",
        "pip install Flask"
      ],
      "metadata": {
        "colab": {
          "base_uri": "https://localhost:8080/"
        },
        "id": "TEprr9HBdbnb",
        "outputId": "4ceec7e3-e443-4776-d5f2-3d348f577642"
      },
      "execution_count": 1,
      "outputs": [
        {
          "output_type": "stream",
          "name": "stdout",
          "text": [
            "Requirement already satisfied: Flask in /usr/local/lib/python3.10/dist-packages (2.2.5)\n",
            "Requirement already satisfied: Werkzeug>=2.2.2 in /usr/local/lib/python3.10/dist-packages (from Flask) (3.0.4)\n",
            "Requirement already satisfied: Jinja2>=3.0 in /usr/local/lib/python3.10/dist-packages (from Flask) (3.1.4)\n",
            "Requirement already satisfied: itsdangerous>=2.0 in /usr/local/lib/python3.10/dist-packages (from Flask) (2.2.0)\n",
            "Requirement already satisfied: click>=8.0 in /usr/local/lib/python3.10/dist-packages (from Flask) (8.1.7)\n",
            "Requirement already satisfied: MarkupSafe>=2.0 in /usr/local/lib/python3.10/dist-packages (from Jinja2>=3.0->Flask) (2.1.5)\n"
          ]
        }
      ]
    },
    {
      "cell_type": "code",
      "source": [
        "from flask import Flask\n",
        "\n",
        "app = Flask(__name__)\n",
        "\n",
        "@app.route('/')\n",
        "def hello_world():\n",
        "    return 'Hello World!!'\n",
        "\n",
        "if __name__ == '__main__':\n",
        "    app.run(debug=True)"
      ],
      "metadata": {
        "colab": {
          "base_uri": "https://localhost:8080/"
        },
        "id": "nxIOZgNfdfmg",
        "outputId": "5aa39825-bb03-4153-8016-d85aa9fb4b9f"
      },
      "execution_count": null,
      "outputs": [
        {
          "output_type": "stream",
          "name": "stdout",
          "text": [
            " * Serving Flask app '__main__'\n",
            " * Debug mode: on\n"
          ]
        },
        {
          "output_type": "stream",
          "name": "stderr",
          "text": [
            "INFO:werkzeug:\u001b[31m\u001b[1mWARNING: This is a development server. Do not use it in a production deployment. Use a production WSGI server instead.\u001b[0m\n",
            " * Running on http://127.0.0.1:5000\n",
            "INFO:werkzeug:\u001b[33mPress CTRL+C to quit\u001b[0m\n",
            "INFO:werkzeug: * Restarting with stat\n"
          ]
        }
      ]
    },
    {
      "cell_type": "code",
      "source": [
        "python app.py"
      ],
      "metadata": {
        "id": "QdTsGt9udwbj"
      },
      "execution_count": null,
      "outputs": []
    },
    {
      "cell_type": "markdown",
      "source": [
        "# Q3. What is App routing in Flask? Why do we use app routes?\n",
        "\n",
        "App Routing in Flask\n",
        "\n",
        "App routing in Flask refers to the mechanism that allows you to map specific URLs (endpoints) to Python functions (views). This enables the web application to respond to HTTP requests made to different URLs, executing the corresponding function to generate the appropriate response\n",
        "\n",
        "# Why Use App Routes?\n",
        "1. Organization: Routing helps organize your application by clearly defining how different URLs correspond to different functionalities or views. This makes it easier to understand the structure of your web application.\n",
        "\n",
        "2. Separation of Concerns: By mapping URLs to specific functions, you separate the application’s logic from its presentation, making it easier to maintain and scale the application.\n",
        "\n",
        "3. Dynamic URLs: Routes allow for dynamic URL generation, enabling applications to respond to user input and generate responses based on parameters (e.g., user IDs, search terms).\n",
        "\n",
        "4. Enhanced User Experience: Proper routing can create clean, user-friendly URLs, enhancing usability and SEO (search engine optimization) for the application.\n",
        "\n",
        "5. Simplified Maintenance: Changes to the routing structure can often be made in one place, reducing the potential for errors and improving the maintainability of the codebase"
      ],
      "metadata": {
        "id": "WrLk8m5IdlgV"
      }
    },
    {
      "cell_type": "markdown",
      "source": [
        "# Q4. Create a “/welcome” route to display the welcome message “Welcome to ABC Corporation” and a “/”\n",
        "route to show the following details:\n",
        "Company Name: ABC Corporation\n",
        "Location: India\n",
        "Contact Detail: 999-999-9999\n",
        "\n",
        "To create a Flask application with a /welcome route displaying the message \"Welcome to ABC Corporation\" and a / route that shows the company details, follow these steps:\n",
        "\n"
      ],
      "metadata": {
        "id": "YYoSAnGpeR7U"
      }
    },
    {
      "cell_type": "code",
      "source": [
        "from flask import Flask\n",
        "\n",
        "app = Flask(__name__)\n",
        "\n",
        "@app.route('/')\n",
        "def company_details():\n",
        "    return \"\"\"\n",
        "    <h1>Company Name: ABC Corporation</h1>\n",
        "    <p>Location: India</p>\n",
        "    <p>Contact Detail: 999-999-9999</p>\n",
        "    \"\"\"\n",
        "\n",
        "@app.route('/welcome')\n",
        "def welcome():\n",
        "    return 'Welcome to ABC Corporation'\n",
        "\n",
        "if __name__ == '__main__':\n",
        "    app.run(debug=True)"
      ],
      "metadata": {
        "id": "wFxPEg8deopt"
      },
      "execution_count": null,
      "outputs": []
    },
    {
      "cell_type": "code",
      "source": [
        "python app.py"
      ],
      "metadata": {
        "id": "jSIDq9wVet9v"
      },
      "execution_count": null,
      "outputs": []
    },
    {
      "cell_type": "markdown",
      "source": [
        "# Q5. What function is used in Flask for URL Building? Write a Python code to demonstrate the working of the\n",
        "url_for() function.\n",
        "\n",
        "In Flask, the url_for() function is used for URL building. It generates a URL to a specific function based on the function’s name and any arguments provided. This is particularly useful for creating links to routes in your application without hardcoding URLs, making your code more maintainable and flexible.\n",
        "\n",
        "Benefits of url_for():\n",
        "Dynamic URL Generation: Automatically generates the correct URL for a given view function, which helps avoid errors if the URL changes.\n",
        "Support for URL Variables: Allows you to pass parameters dynamically when building URLs.\n",
        "Easier Refactoring: If you change a route's URL path, you only need to update the route definition rather than every reference to that URL throughout your code."
      ],
      "metadata": {
        "id": "I5z_yVWAe2YE"
      }
    },
    {
      "cell_type": "code",
      "source": [
        "from flask import Flask, url_for, redirect\n",
        "\n",
        "app = Flask(__name__)\n",
        "\n",
        "@app.route('/')\n",
        "def home():\n",
        "    return \"\"\"\n",
        "    <h1>Home Page</h1>\n",
        "    <p><a href='{}'>Go to Welcome Page</a></p>\n",
        "    <p><a href='{}'>Go to About Page</a></p>\n",
        "    \"\"\".format(url_for('welcome'), url_for('about'))\n",
        "\n",
        "@app.route('/welcome')\n",
        "def welcome():\n",
        "    return 'Welcome to ABC Corporation!'\n",
        "\n",
        "@app.route('/about')\n",
        "def about():\n",
        "    return 'About ABC Corporation'\n",
        "\n",
        "if __name__ == '__main__':\n",
        "    app.run(debug=True)"
      ],
      "metadata": {
        "id": "bhoJojr2fKOs"
      },
      "execution_count": null,
      "outputs": []
    },
    {
      "cell_type": "markdown",
      "source": [],
      "metadata": {
        "id": "EE0qaBtAfNIt"
      }
    }
  ]
}