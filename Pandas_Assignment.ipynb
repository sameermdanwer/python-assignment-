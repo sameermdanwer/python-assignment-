{
  "nbformat": 4,
  "nbformat_minor": 0,
  "metadata": {
    "colab": {
      "provenance": [],
      "authorship_tag": "ABX9TyN6BMnHrysGbvcfmWT+dN4X",
      "include_colab_link": true
    },
    "kernelspec": {
      "name": "python3",
      "display_name": "Python 3"
    },
    "language_info": {
      "name": "python"
    }
  },
  "cells": [
    {
      "cell_type": "markdown",
      "metadata": {
        "id": "view-in-github",
        "colab_type": "text"
      },
      "source": [
        "<a href=\"https://colab.research.google.com/github/sameermdanwer/python-assignment-/blob/main/Pandas_Assignment.ipynb\" target=\"_parent\"><img src=\"https://colab.research.google.com/assets/colab-badge.svg\" alt=\"Open In Colab\"/></a>"
      ]
    },
    {
      "cell_type": "markdown",
      "source": [
        "# Q1. Write a code to print the data present in the second row of the dataframe, df."
      ],
      "metadata": {
        "id": "Y6EI-yp40BMd"
      }
    },
    {
      "cell_type": "code",
      "source": [
        "import pandas as pd\n",
        "\n",
        "course_name = ['Data Science', 'Machine Learning', 'Big Data', 'Data Engineer']\n",
        "duration = [2, 3, 6, 4]\n",
        "df = pd.DataFrame(data={'course_name': course_name, 'duration': duration})\n",
        "\n",
        "# Print the data in the second row (index 1)\n",
        "print(df.iloc[1])"
      ],
      "metadata": {
        "colab": {
          "base_uri": "https://localhost:8080/"
        },
        "id": "i_695oYN0i5m",
        "outputId": "841b4508-e036-47a8-f84a-e1323193a4ac"
      },
      "execution_count": 1,
      "outputs": [
        {
          "output_type": "stream",
          "name": "stdout",
          "text": [
            "course_name    Machine Learning\n",
            "duration                      3\n",
            "Name: 1, dtype: object\n"
          ]
        }
      ]
    },
    {
      "cell_type": "markdown",
      "source": [
        "# Q2. What is the difference between the functions loc and iloc in pandas.DataFrame?\n",
        "\n",
        "In pandas, the functions loc and iloc are used to access rows and columns of a DataFrame, but they differ in how they reference the data:\n",
        "\n",
        "# loc\n",
        "* Label-based indexing: It accesses data using labels of the rows and columns. This means you specify the row and column names as strings.\n",
        "* Inclusive: When you slice, both the start and end labels are included in the result.\n",
        "* Usage: Useful when you want to access rows/columns by their actual names or labels.\n",
        "* Example:"
      ],
      "metadata": {
        "id": "Qcaku6Ih0mCG"
      }
    },
    {
      "cell_type": "code",
      "source": [
        "# Accessing the first row using loc\n",
        "print(df.loc[0])  # Output will be the first row"
      ],
      "metadata": {
        "id": "fTXTGBkU1GK_"
      },
      "execution_count": null,
      "outputs": []
    },
    {
      "cell_type": "markdown",
      "source": [
        "# iloc\n",
        "* Integer-based indexing: It accesses data using integer indices. This means you specify the row and column indices as integers.\n",
        "* Exclusive: When you slice, the end index is not included in the result.\n",
        "* Usage: Useful when you want to access rows/columns by their integer positions.\n",
        "* Example:"
      ],
      "metadata": {
        "id": "WgbVoFBL1Q3-"
      }
    },
    {
      "cell_type": "code",
      "source": [
        "# Accessing the first row using iloc\n",
        "print(df.iloc[0])  # Output will be the first row"
      ],
      "metadata": {
        "id": "2PzZiwp81g8y"
      },
      "execution_count": null,
      "outputs": []
    },
    {
      "cell_type": "markdown",
      "source": [
        "#Q3. Reindex the given dataframe using a variable, reindex = [3,0,1,2] and store it in the variable, new_df\n",
        "then find the output for both new_df.loc[2] and new_df.iloc[2].  \n",
        "\n",
        "To reindex a DataFrame using a variable and access specific rows with both .loc and .iloc, you can follow these steps in Python using the pandas library. Here's how you can do it:\n",
        "\n",
        "1. Create the original DataFrame.\n",
        "2. Reindex it using the provided index list.\n",
        "3. Use .loc and .iloc to access the desired rows."
      ],
      "metadata": {
        "id": "ReZoBJQZ1iHL"
      }
    },
    {
      "cell_type": "code",
      "source": [
        "import pandas as pd\n",
        "\n",
        "# Step 1: Create the original DataFrame\n",
        "data = {\n",
        "    'A': [10, 20, 30, 40],\n",
        "    'B': [100, 200, 300, 400]\n",
        "}\n",
        "original_df = pd.DataFrame(data)\n",
        "\n",
        "# Step 2: Reindex the DataFrame\n",
        "reindex = [3, 0, 1, 2]\n",
        "new_df = original_df.reindex(reindex)\n",
        "\n",
        "# Step 3: Access rows with .loc and .iloc\n",
        "loc_output = new_df.loc[2]\n",
        "iloc_output = new_df.iloc[2]\n",
        "\n",
        "# Output results\n",
        "loc_output, iloc_output"
      ],
      "metadata": {
        "colab": {
          "base_uri": "https://localhost:8080/"
        },
        "id": "2te_sznH2yJ5",
        "outputId": "af6b4bdf-30b5-4a08-8200-bfb74f0daada"
      },
      "execution_count": 2,
      "outputs": [
        {
          "output_type": "execute_result",
          "data": {
            "text/plain": [
              "(A     30\n",
              " B    300\n",
              " Name: 2, dtype: int64,\n",
              " A     20\n",
              " B    200\n",
              " Name: 1, dtype: int64)"
            ]
          },
          "metadata": {},
          "execution_count": 2
        }
      ]
    },
    {
      "cell_type": "markdown",
      "source": [
        "# Q4. Write a code to find the following statistical measurements for the above dataframe df1:\n",
        "(i) mean of each and every column present in the dataframe.\n",
        "(ii) standard deviation of column, ‘column_2’\n",
        "\n",
        "You can easily compute statistical measurements like the mean of each column and the standard deviation of a specific column using the pandas library. Below is the code to achieve this for the given DataFrame df1:"
      ],
      "metadata": {
        "id": "0eIYSGpB3KXz"
      }
    },
    {
      "cell_type": "code",
      "source": [
        "import pandas as pd\n",
        "import numpy as np\n",
        "\n",
        "# Define columns and indices\n",
        "columns = ['column_1', 'column_2', 'column_3', 'column_4', 'column_5', 'column_6']\n",
        "indices = [1, 2, 3, 4, 5, 6]\n",
        "\n",
        "# Create a DataFrame\n",
        "df1 = pd.DataFrame(np.random.rand(6, 6), columns=columns, index=indices)\n",
        "\n",
        "# (i) Mean of each column\n",
        "mean_values = df1.mean()\n",
        "\n",
        "# (ii) Standard deviation of 'column_2'\n",
        "std_dev_column_2 = df1['column_2'].std()\n",
        "\n",
        "# Output the results\n",
        "mean_values, std_dev_column_2"
      ],
      "metadata": {
        "colab": {
          "base_uri": "https://localhost:8080/"
        },
        "id": "Q4Rb8eCp3UN1",
        "outputId": "a67d59a7-4f64-4d1e-d7fa-5551422116c9"
      },
      "execution_count": 3,
      "outputs": [
        {
          "output_type": "execute_result",
          "data": {
            "text/plain": [
              "(column_1    0.391918\n",
              " column_2    0.440479\n",
              " column_3    0.570036\n",
              " column_4    0.535241\n",
              " column_5    0.198213\n",
              " column_6    0.496900\n",
              " dtype: float64,\n",
              " 0.258061638302416)"
            ]
          },
          "metadata": {},
          "execution_count": 3
        }
      ]
    },
    {
      "cell_type": "markdown",
      "source": [
        "# Q5. Replace the data present in the second row of column, ‘column_2’ by a string variable then find the\n",
        "mean of column, column_2.\n",
        "If you are getting errors in executing it then explain why.\n",
        "[Hint: To replace the data use df1.loc[] and equate this to string data of your choice.]\n",
        "\n",
        "To replace the data in the second row of a specific column in a pandas DataFrame and then calculate the mean of that column, you can follow these steps:\n",
        "\n",
        "1. Create the DataFrame.\n",
        "2. Replace the data in the specified cell using .loc.\n",
        "3. Calculate the mean of that column.\n",
        "\n",
        "Here's how you can implement it:"
      ],
      "metadata": {
        "id": "omNl4qjU3pcU"
      }
    },
    {
      "cell_type": "code",
      "source": [
        "import pandas as pd\n",
        "import numpy as np\n",
        "\n",
        "# Creating the DataFrame\n",
        "columns = ['column_1', 'column_2', 'column_3', 'column_4', 'column_5', 'column_6']\n",
        "indices = [1, 2, 3, 4, 5, 6]\n",
        "df1 = pd.DataFrame(np.random.rand(6, 6), columns=columns, index=indices)\n",
        "\n",
        "# Step 2: Replace the data in the second row of 'column_2'\n",
        "string_data = \"sample_string\"  # Your chosen string data\n",
        "df1.loc[2, 'column_2'] = string_data\n",
        "\n",
        "# Step 3: Calculate the mean of 'column_2'\n",
        "mean_column_2 = df1['column_2'].mean()"
      ],
      "metadata": {
        "id": "7DBVlyHG4DoD"
      },
      "execution_count": null,
      "outputs": []
    },
    {
      "cell_type": "markdown",
      "source": [
        "# Expected Errors\n",
        "After executing the code above, you will likely encounter an error similar to the following:"
      ],
      "metadata": {
        "id": "nyc4NAl14I_v"
      }
    },
    {
      "cell_type": "code",
      "source": [
        "TypeError: cannot convert the series to <class 'float'>"
      ],
      "metadata": {
        "id": "PTqTGkHP4M5n"
      },
      "execution_count": null,
      "outputs": []
    },
    {
      "cell_type": "markdown",
      "source": [
        "# Solution\n",
        "If you intend to replace a value but still want to calculate the mean of that column afterward, make sure not to replace a numeric entry with a string. Instead, you can replace it with a numeric value, such as:"
      ],
      "metadata": {
        "id": "r5aomMW54Q4M"
      }
    },
    {
      "cell_type": "code",
      "source": [
        "df1.loc[2, 'column_2'] = 0.5  # Example of a numeric replacement\n",
        "mean_column_2 = df1['column_2'].mean()  # Now this will work"
      ],
      "metadata": {
        "id": "J7MExdFT4Tj5"
      },
      "execution_count": null,
      "outputs": []
    },
    {
      "cell_type": "markdown",
      "source": [
        "# Q6. What do you understand about the windows function in pandas and list the types of windows\n",
        "functions?\n",
        "\n",
        "In pandas, window functions are powerful tools used for performing calculations across a set of rows related to the current row. They are often used in time series analysis and data manipulation to apply statistical functions or operations over a specified range of data (a \"window\"). The key feature of window functions is that they allow you to perform operations like calculating rolling averages, cumulative sums, or other aggregations without collapsing the data into a single output for the entire dataset.\n",
        "\n",
        "# Key Concepts of Window Functions in Pandas\n",
        "1. Window Size: You can specify the size of the window, determining how many rows before and after the current row to include in the calculation.\n",
        "\n",
        "2. Types of Operations: Window functions can perform a variety of operations, including but not limited to:\n",
        "\n",
        "* Aggregation (e.g., mean, sum, count)\n",
        "* Statistical operations (e.g., standard deviation, variance)\n",
        "* Custom functions\n",
        "3. Flexibility: They can be applied to both time-based and non-time-based data, providing flexibility in data analysis.\n",
        "\n",
        "4. DataFrame vs Series: Window functions can be applied to both DataFrames and Series, enabling you to handle data in multiple ways.\n",
        "\n",
        "# Types of Window Functions in Pandas\n",
        "Pandas provides several types of window functions, categorized primarily into three groups:\n",
        "\n",
        "Rolling Window Functions:\n",
        "\n",
        "* Used for creating a moving window over data.\n",
        "* Common functions: .rolling()\n",
        "* Example functions: mean(), sum(), min(), max(), std(), etc.\n",
        "\n",
        "\n"
      ],
      "metadata": {
        "id": "7nCbP5j94Wel"
      }
    },
    {
      "cell_type": "markdown",
      "source": [
        "# Q7. Write a code to print only the current month and year at the time of answering this question.\n",
        "\n",
        "To print the current month and year using pandas, you can utilize the pd.to_datetime function along with the datetime attributes. Here’s how you can do it:"
      ],
      "metadata": {
        "id": "9bn5QFf95j_M"
      }
    },
    {
      "cell_type": "code",
      "source": [
        "import pandas as pd\n",
        "import numpy as np\n",
        "\n",
        "# Define columns and indices\n",
        "columns = ['column_1', 'column_2', 'column_3', 'column_4', 'column_5', 'column_6']\n",
        "indices = [1, 2, 3, 4, 5, 6]\n",
        "\n",
        "# Create a DataFrame\n",
        "df1 = pd.DataFrame(np.random.rand(6, 6), columns=columns, index=indices)\n",
        "\n",
        "# Get the current date\n",
        "current_date = pd.to_datetime(\"now\")\n",
        "\n",
        "# Extract the current month and year\n",
        "current_month = current_date.month\n",
        "current_year = current_date.year\n",
        "\n",
        "# Print the current month and year\n",
        "print(f\"Current Month: {current_month}, Current Year: {current_year}\")"
      ],
      "metadata": {
        "colab": {
          "base_uri": "https://localhost:8080/"
        },
        "id": "tDdxAaOM5szh",
        "outputId": "5ea4f916-4f1e-4758-8446-7e2ecc941786"
      },
      "execution_count": 4,
      "outputs": [
        {
          "output_type": "stream",
          "name": "stdout",
          "text": [
            "Current Month: 10, Current Year: 2024\n"
          ]
        }
      ]
    },
    {
      "cell_type": "markdown",
      "source": [
        "# Q8. Write a Python program that takes in two dates as input (in the format YYYY-MM-DD) and\n",
        "calculates the difference between them in days, hours, and minutes using Pandas time delta. The\n",
        "program should prompt the user to enter the dates and display the result.\n",
        "\n",
        "You can create a Python program that prompts the user for two dates in the format YYYY-MM-DD, calculates the difference between them using Pandas, and then displays the difference in days, hours, and minutes. Here's a complete example:"
      ],
      "metadata": {
        "id": "YcnhZ-Qj5vRq"
      }
    },
    {
      "cell_type": "code",
      "source": [
        "import pandas as pd\n",
        "\n",
        "# Function to calculate date difference\n",
        "def calculate_date_difference(date1, date2):\n",
        "    # Convert strings to datetime\n",
        "    d1 = pd.to_datetime(date1)\n",
        "    d2 = pd.to_datetime(date2)\n",
        "\n",
        "    # Calculate the difference\n",
        "    difference = d2 - d1\n",
        "\n",
        "    # Extract days, seconds from the difference\n",
        "    days = difference.days\n",
        "    total_seconds = difference.seconds\n",
        "    hours = total_seconds // 3600\n",
        "    minutes = (total_seconds % 3600) // 60\n",
        "\n",
        "    return days, hours, minutes\n",
        "\n",
        "# Prompt user for input\n",
        "date1 = input(\"Enter the first date (YYYY-MM-DD): \")\n",
        "date2 = input(\"Enter the second date (YYYY-MM-DD): \")\n",
        "\n",
        "# Calculate the difference\n",
        "days, hours, minutes = calculate_date_difference(date1, date2)\n",
        "\n",
        "# Display the result\n",
        "print(f\"The difference between {date2} and {date1} is:\")\n",
        "print(f\"{days} days, {hours} hours, and {minutes} minutes.\")"
      ],
      "metadata": {
        "id": "Oj_fbPJN6Fyt"
      },
      "execution_count": null,
      "outputs": []
    },
    {
      "cell_type": "markdown",
      "source": [
        "# How it Works:\n",
        "1. Input: The user is prompted to enter two dates in the format YYYY-MM-DD.\n",
        "2. Conversion: The input strings are converted to datetime objects using pd.to_datetime().\n",
        "3. Difference Calculation: The difference between the two dates is calculated. The difference is a timedelta object from which you can extract the number of days and the total seconds.\n",
        "4. Break Down the Time: The total seconds are converted to hours and minutes.\n",
        "Output: The program prints the difference in days, hours, and minutes."
      ],
      "metadata": {
        "id": "Kmyt76nn6LX0"
      }
    },
    {
      "cell_type": "markdown",
      "source": [
        "# Q9. Write a Python program that reads a CSV file containing categorical data and converts a specified\n",
        "column to a categorical data type. The program should prompt the user to enter the file path, column\n",
        "name, and category order, and then display the sorted data.\n",
        "\n",
        "\n",
        "You can create a Python program that reads a CSV file, converts a specified column to a categorical data type with a specified order, and then displays the sorted data. Here's a complete example using the pandas library:\n",
        "\n",
        "# Example Code"
      ],
      "metadata": {
        "id": "cl_ijuMX6Vk9"
      }
    },
    {
      "cell_type": "code",
      "source": [
        "import pandas as pd\n",
        "\n",
        "# Function to read CSV, convert column to categorical, and sort data\n",
        "def process_csv(file_path, column_name, category_order):\n",
        "    # Read the CSV file\n",
        "    df = pd.read_csv(file_path)\n",
        "\n",
        "    # Check if the specified column exists in the DataFrame\n",
        "    if column_name not in df.columns:\n",
        "        print(f\"Error: Column '{column_name}' not found in the CSV file.\")\n",
        "        return\n",
        "\n",
        "    # Convert the specified column to a categorical type with specified order\n",
        "    df[column_name] = pd.Categorical(df[column_name], categories=category_order, ordered=True)\n",
        "\n",
        "    # Sort the DataFrame by the specified categorical column\n",
        "    sorted_df = df.sort_values(by=column_name)\n",
        "\n",
        "    return sorted_df\n",
        "\n",
        "# Prompt user for input\n",
        "file_path = input(\"Enter the file path of the CSV file: \")\n",
        "column_name = input(\"Enter the column name to convert to categorical: \")\n",
        "category_order = input(\"Enter the category order (comma-separated): \").split(',')\n",
        "\n",
        "# Process the CSV file and get sorted data\n",
        "sorted_data = process_csv(file_path, column_name, [category.strip() for category in category_order])\n",
        "\n",
        "# Display the sorted data if available\n",
        "if sorted_data is not None:\n",
        "    print(\"Sorted Data:\")\n",
        "    print(sorted_data)\n"
      ],
      "metadata": {
        "id": "SWxTv5Xa6uzs"
      },
      "execution_count": null,
      "outputs": []
    },
    {
      "cell_type": "markdown",
      "source": [
        "# Q10. Write a Python program that reads a CSV file containing sales data for different products and\n",
        "visualizes the data using a stacked bar chart to show the sales of each product category over time. The\n",
        "program should prompt the user to enter the file path and display the chart.\n",
        "\n",
        "To create a Python program that reads a CSV file containing sales data and visualizes it using a stacked bar chart, you can use libraries like pandas for data manipulation and matplotlib for plotting. Below is a step-by-step guide along with the code for the program.\n",
        "\n",
        "# Step-by-Step Instructions\n",
        "1. Install Required Libraries: If you haven't already, you need to install pandas and matplotlib. You can do this using pip:"
      ],
      "metadata": {
        "id": "GrYKbcb461M1"
      }
    },
    {
      "cell_type": "code",
      "source": [
        "pip install pandas matplotlib"
      ],
      "metadata": {
        "id": "qvH1MJGO7Vx8"
      },
      "execution_count": null,
      "outputs": []
    },
    {
      "cell_type": "markdown",
      "source": [
        "2. Prepare Your CSV File: Ensure your CSV file is structured appropriately. For example, it could have the following columns"
      ],
      "metadata": {
        "id": "5S57bDUl7Xjm"
      }
    },
    {
      "cell_type": "code",
      "source": [
        "Date,Product Category,Sales\n",
        "2024-01-01,Electronics,1000\n",
        "2024-01-01,Clothing,500\n",
        "2024-01-01,Furniture,700\n",
        "2024-01-02,Electronics,1200\n",
        "2024-01-02,Clothing,600\n",
        "2024-01-02,Furniture,800"
      ],
      "metadata": {
        "id": "sFpmI0Zc7i50"
      },
      "execution_count": null,
      "outputs": []
    },
    {
      "cell_type": "markdown",
      "source": [
        "3. Write the Python Program: Below is the Python code that reads the CSV file and generates a stacked bar chart."
      ],
      "metadata": {
        "id": "V6NMvYir7nzW"
      }
    },
    {
      "cell_type": "code",
      "source": [
        "import pandas as pd\n",
        "import matplotlib.pyplot as plt\n",
        "\n",
        "def read_and_visualize_sales_data():\n",
        "    # Prompt the user to enter the file path\n",
        "    file_path = input(\"Enter the CSV file path: \")\n",
        "\n",
        "    try:\n",
        "        # Read the CSV file into a DataFrame\n",
        "        df = pd.read_csv(file_path)\n",
        "\n",
        "        # Convert the 'Date' column to datetime format\n",
        "        df['Date'] = pd.to_datetime(df['Date'])\n",
        "\n",
        "        # Pivot the DataFrame to get the desired format for plotting\n",
        "        pivot_df = df.pivot_table(values='Sales', index='Date', columns='Product Category', aggfunc='sum', fill_value=0)\n",
        "\n",
        "        # Create a stacked bar chart\n",
        "        pivot_df.plot(kind='bar', stacked=True, figsize=(10, 6))\n",
        "\n",
        "        # Adding title and labels\n",
        "        plt.title('Sales by Product Category Over Time')\n",
        "        plt.xlabel('Date')\n",
        "        plt.ylabel('Sales')\n",
        "        plt.xticks(rotation=45)\n",
        "        plt.legend(title='Product Category')\n",
        "\n",
        "        # Show the plot\n",
        "        plt.tight_layout()\n",
        "        plt.show()\n",
        "\n",
        "    except Exception as e:\n",
        "        print(f\"An error occurred: {e}\")\n",
        "\n",
        "# Call the function to run the program\n",
        "read_and_visualize_sales_data()"
      ],
      "metadata": {
        "id": "hZltRWY_7q5s"
      },
      "execution_count": null,
      "outputs": []
    },
    {
      "cell_type": "markdown",
      "source": [
        "# Q11. You are given a CSV file containing student data that includes the student ID and their test score. Write\n",
        "a Python program that reads the CSV file, calculates the mean, median, and mode of the test scores, and\n",
        "displays the results in a table.\n",
        "The program should do the followingM\n",
        "I Prompt the user to enter the file path of the CSV file containing the student dataR\n",
        "I Read the CSV file into a Pandas DataFrameR\n",
        "I Calculate the mean, median, and mode of the test scores using Pandas toolsR\n",
        "I Display the mean, median, and mode in a table.\n",
        "Assume the CSV file contains the following columnsM\n",
        "I Student ID: The ID of the studentR\n",
        "I Test Score: The score of the student's test.\n",
        "Example usage of the program:\n",
        "Enter the file path of the CSV file containing the student data: student_data.csv\n",
        "+-----------+--------+\n",
        "| Statistic | Value |\n",
        "+-----------+--------+\n",
        "| Mean | 79.6 |\n",
        "| Median | 82 |\n",
        "| Mode | 85, 90 |\n",
        "+-----------+--------+\n",
        "Assume that the CSV file student_data.csv contains the following data:\n",
        "Student ID,Test Score\n",
        "1,85\n",
        "2,90\n",
        "3,80\n",
        "4,75\n",
        "5,85\n",
        "6,82\n",
        "7,78\n",
        "8,85\n",
        "9,90\n",
        "10,85\n",
        "The program should calculate the mean, median, and mode of the test scores and display the results\n",
        "in a table.\n",
        "\n",
        "\n",
        "Here's a Python program that reads a CSV file containing student data, calculates the mean, median, and mode of the test scores, and displays the results in a table format using the pandas library.\n",
        "\n",
        "# Step-by-Step Instructions\n",
        "1. Install Required Libraries: If you haven't already, ensure you have pandas installed. You can install it via pip:"
      ],
      "metadata": {
        "id": "uSEcSc_t7vF9"
      }
    },
    {
      "cell_type": "code",
      "source": [
        "pip install panda"
      ],
      "metadata": {
        "id": "kvyXPCR08C8N"
      },
      "execution_count": null,
      "outputs": []
    },
    {
      "cell_type": "markdown",
      "source": [
        "2. Prepare Your CSV File: Create a CSV file named student_data.csv with the following content"
      ],
      "metadata": {
        "id": "eHmMtCH48HH0"
      }
    },
    {
      "cell_type": "code",
      "source": [
        "Student ID,Test Score\n",
        "1,85\n",
        "2,90\n",
        "3,80\n",
        "4,75\n",
        "5,85\n",
        "6,82\n",
        "7,78\n",
        "8,85\n",
        "9,90\n",
        "10,85"
      ],
      "metadata": {
        "id": "3EgvC0w18F2E"
      },
      "execution_count": null,
      "outputs": []
    },
    {
      "cell_type": "markdown",
      "source": [
        "3. Write the Python Program: Below is the complete Python code that accomplishes the task:"
      ],
      "metadata": {
        "id": "rHakPl7z8UJm"
      }
    },
    {
      "cell_type": "code",
      "source": [
        "import pandas as pd\n",
        "from scipy import stats\n",
        "\n",
        "def read_and_calculate_statistics():\n",
        "    # Prompt the user to enter the file path\n",
        "    file_path = input(\"Enter the file path of the CSV file containing the student data: \")\n",
        "\n",
        "    try:\n",
        "        # Read the CSV file into a DataFrame\n",
        "        df = pd.read_csv(file_path)\n",
        "\n",
        "        # Calculate the mean, median, and mode of the test scores\n",
        "        mean_score = df['Test Score'].mean()\n",
        "        median_score = df['Test Score'].median()\n",
        "        mode_score = df['Test Score'].mode().tolist()  # Convert mode to list\n",
        "\n",
        "        # Format mode for display\n",
        "        mode_display = ', '.join(map(str, mode_score))\n",
        "\n",
        "        # Create a summary DataFrame to display results\n",
        "        statistics_df = pd.DataFrame({\n",
        "            'Statistic': ['Mean', 'Median', 'Mode'],\n",
        "            'Value': [mean_score, median_score, mode_display]\n",
        "        })\n",
        "\n",
        "        # Display the statistics table\n",
        "        print(statistics_df.to_string(index=False))\n",
        "\n",
        "    except Exception as e:\n",
        "        print(f\"An error occurred: {e}\")\n",
        "\n",
        "# Call the function to run the program\n",
        "read_and_calculate_statistics()"
      ],
      "metadata": {
        "id": "0M_EAZvI8WQF"
      },
      "execution_count": null,
      "outputs": []
    },
    {
      "cell_type": "markdown",
      "source": [],
      "metadata": {
        "id": "9N0QBEgG8ZRE"
      }
    }
  ]
}